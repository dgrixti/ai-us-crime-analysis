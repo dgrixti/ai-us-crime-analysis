{
 "cells": [
  {
   "cell_type": "code",
   "execution_count": 48,
   "id": "initial_id",
   "metadata": {
    "collapsed": true,
    "ExecuteTime": {
     "end_time": "2024-12-22T12:12:16.196158300Z",
     "start_time": "2024-12-22T12:12:16.050059200Z"
    }
   },
   "outputs": [],
   "source": [
    "import pandas as pd\n",
    "\n",
    "# Load your dataset\n",
    "df = pd.read_csv('ML_data_clean_v5.csv')"
   ]
  },
  {
   "cell_type": "code",
   "outputs": [
    {
     "data": {
      "text/plain": "    Agency Type    State      Month Victim Sex  Victim Age  \\\n0  State Police   Alaska   November     Female          26   \n1       Sheriff  Alabama       July       Male          23   \n2       Sheriff  Alabama       July       Male          42   \n3       Sheriff  Alabama       July       Male          33   \n4       Sheriff  Alabama  September       Male          46   \n\n                     Victim Race Victim Ethnicity Perpetrator Sex  \\\n0  Native American/Alaska Native     Not Hispanic            Male   \n1                          Black     Not Hispanic            Male   \n2                          White     Not Hispanic          Female   \n3                          Black     Not Hispanic            Male   \n4                          White     Not Hispanic            Male   \n\n                Perpetrator Race Perpetrator Ethnicity Weapon Category  \\\n0  Native American/Alaska Native          Not Hispanic     Non-Firearm   \n1                          Black          Not Hispanic         Firearm   \n2                          White          Not Hispanic         Firearm   \n3                          Black          Not Hispanic         Firearm   \n4                          White          Not Hispanic         Firearm   \n\n  Relationship Category Agency_Type_grouped  \n0                 Lover        Other Police  \n1          Acquaintance             Sheriff  \n2                 Lover             Sheriff  \n3          Acquaintance             Sheriff  \n4                Family             Sheriff  ",
      "text/html": "<div>\n<style scoped>\n    .dataframe tbody tr th:only-of-type {\n        vertical-align: middle;\n    }\n\n    .dataframe tbody tr th {\n        vertical-align: top;\n    }\n\n    .dataframe thead th {\n        text-align: right;\n    }\n</style>\n<table border=\"1\" class=\"dataframe\">\n  <thead>\n    <tr style=\"text-align: right;\">\n      <th></th>\n      <th>Agency Type</th>\n      <th>State</th>\n      <th>Month</th>\n      <th>Victim Sex</th>\n      <th>Victim Age</th>\n      <th>Victim Race</th>\n      <th>Victim Ethnicity</th>\n      <th>Perpetrator Sex</th>\n      <th>Perpetrator Race</th>\n      <th>Perpetrator Ethnicity</th>\n      <th>Weapon Category</th>\n      <th>Relationship Category</th>\n      <th>Agency_Type_grouped</th>\n    </tr>\n  </thead>\n  <tbody>\n    <tr>\n      <th>0</th>\n      <td>State Police</td>\n      <td>Alaska</td>\n      <td>November</td>\n      <td>Female</td>\n      <td>26</td>\n      <td>Native American/Alaska Native</td>\n      <td>Not Hispanic</td>\n      <td>Male</td>\n      <td>Native American/Alaska Native</td>\n      <td>Not Hispanic</td>\n      <td>Non-Firearm</td>\n      <td>Lover</td>\n      <td>Other Police</td>\n    </tr>\n    <tr>\n      <th>1</th>\n      <td>Sheriff</td>\n      <td>Alabama</td>\n      <td>July</td>\n      <td>Male</td>\n      <td>23</td>\n      <td>Black</td>\n      <td>Not Hispanic</td>\n      <td>Male</td>\n      <td>Black</td>\n      <td>Not Hispanic</td>\n      <td>Firearm</td>\n      <td>Acquaintance</td>\n      <td>Sheriff</td>\n    </tr>\n    <tr>\n      <th>2</th>\n      <td>Sheriff</td>\n      <td>Alabama</td>\n      <td>July</td>\n      <td>Male</td>\n      <td>42</td>\n      <td>White</td>\n      <td>Not Hispanic</td>\n      <td>Female</td>\n      <td>White</td>\n      <td>Not Hispanic</td>\n      <td>Firearm</td>\n      <td>Lover</td>\n      <td>Sheriff</td>\n    </tr>\n    <tr>\n      <th>3</th>\n      <td>Sheriff</td>\n      <td>Alabama</td>\n      <td>July</td>\n      <td>Male</td>\n      <td>33</td>\n      <td>Black</td>\n      <td>Not Hispanic</td>\n      <td>Male</td>\n      <td>Black</td>\n      <td>Not Hispanic</td>\n      <td>Firearm</td>\n      <td>Acquaintance</td>\n      <td>Sheriff</td>\n    </tr>\n    <tr>\n      <th>4</th>\n      <td>Sheriff</td>\n      <td>Alabama</td>\n      <td>September</td>\n      <td>Male</td>\n      <td>46</td>\n      <td>White</td>\n      <td>Not Hispanic</td>\n      <td>Male</td>\n      <td>White</td>\n      <td>Not Hispanic</td>\n      <td>Firearm</td>\n      <td>Family</td>\n      <td>Sheriff</td>\n    </tr>\n  </tbody>\n</table>\n</div>"
     },
     "execution_count": 2,
     "metadata": {},
     "output_type": "execute_result"
    }
   ],
   "source": [
    "df.head()"
   ],
   "metadata": {
    "collapsed": false,
    "ExecuteTime": {
     "end_time": "2024-12-22T11:53:50.662841800Z",
     "start_time": "2024-12-22T11:53:50.651960Z"
    }
   },
   "id": "961c6dd0a236a894",
   "execution_count": 2
  },
  {
   "cell_type": "code",
   "outputs": [],
   "source": [
    "\n",
    "# Mapping of months to seasons\n",
    "def month_to_season(month):\n",
    "    if month in ['December', 'January', 'February']:\n",
    "        return 'Winter'\n",
    "    elif month in ['March', 'April', 'May']:\n",
    "        return 'Spring'\n",
    "    elif month in ['June', 'July', 'August']:\n",
    "        return 'Summer'\n",
    "    elif month in ['September', 'October', 'November']:\n",
    "        return 'Autumn'\n",
    "\n",
    "# Apply month_to_season to the 'Month' column (replace 'Month' with your column name)\n",
    "df['Season'] = df['Month'].apply(month_to_season)\n",
    "\n",
    "state_to_region = {\n",
    "    # East Coast\n",
    "    'Maine': 'East Coast', 'New Hampshire': 'East Coast', 'Vermont': 'East Coast',\n",
    "    'Massachusetts': 'East Coast', 'Rhodes Island': 'East Coast', 'Connecticut': 'East Coast',\n",
    "    'New York': 'East Coast', 'New Jersey': 'East Coast', 'Delaware': 'East Coast',\n",
    "    'Maryland': 'East Coast', 'Virginia': 'East Coast', 'North Carolina': 'East Coast',\n",
    "    'South Carolina': 'East Coast', 'Georgia': 'East Coast', 'Florida': 'East Coast',\n",
    "    'District of Columbia': 'East Coast', 'Pennsylvania': 'East Coast',\n",
    "    \n",
    "    # Midwest\n",
    "    'Ohio': 'Midwest', 'Indiana': 'Midwest', 'Illinois': 'Midwest',\n",
    "    'Michigan': 'Midwest', 'Wisconsin': 'Midwest', 'Minnesota': 'Midwest',\n",
    "    'Iowa': 'Midwest', 'Missouri': 'Midwest', 'North Dakota': 'Midwest',\n",
    "    'South Dakota': 'Midwest', 'Nebraska': 'Midwest', 'Kansas': 'Midwest',\n",
    "    \n",
    "    # West Coast\n",
    "    'California': 'West Coast', 'Oregon': 'West Coast', 'Washington': 'West Coast',\n",
    "    'Alaska': 'West Coast', 'Hawaii': 'West Coast',\n",
    "    \n",
    "    # South\n",
    "    'Texas': 'South', 'Oklahoma': 'South', 'Arkansas': 'South',\n",
    "    'Louisiana': 'South', 'Mississippi': 'South', 'Alabama': 'South',\n",
    "    'Tennessee': 'South', 'Kentucky': 'South', 'West Virginia': 'South',\n",
    "    'Virginia': 'South', 'North Carolina': 'South', 'South Carolina': 'South',\n",
    "    'Georgia': 'South', 'Florida': 'South',\n",
    "    \n",
    "    # Mountain West\n",
    "    'Montana': 'Mountain West', 'Wyoming': 'Mountain West', 'Colorado': 'Mountain West',\n",
    "    'New Mexico': 'Mountain West', 'Idaho': 'Mountain West', 'Utah': 'Mountain West',\n",
    "    'Nevada': 'Mountain West', 'Arizona': 'Mountain West',\n",
    "    \n",
    "    # Pacific Northwest\n",
    "    'Washington': 'Pacific Northwest', 'Oregon': 'Pacific Northwest', 'Idaho': 'Pacific Northwest',\n",
    "    \n",
    "    # Territories\n",
    "    'Puerto Rico': 'Territory', 'Guam': 'Territory', 'American Samoa': 'Territory',\n",
    "    'U.S. Virgin Islands': 'Territory', 'Northern Mariana Islands': 'Territory',\n",
    "}\n",
    "\n",
    "\n",
    "# Apply state_to_region to the 'State' column (replace 'State' with your column name)\n",
    "df['Region'] = df['State'].map(state_to_region)\n",
    "\n",
    "df = df.drop(columns=['State','Month'])\n",
    "\n",
    "# Save the updated dataset if needed\n",
    "df.to_csv('updated_dataset.csv', index=False)"
   ],
   "metadata": {
    "collapsed": false,
    "ExecuteTime": {
     "end_time": "2024-12-22T12:12:17.762358900Z",
     "start_time": "2024-12-22T12:12:17.378627600Z"
    }
   },
   "id": "27a72a02b77fd9f1",
   "execution_count": 49
  },
  {
   "cell_type": "code",
   "outputs": [
    {
     "data": {
      "text/plain": "    Agency Type Victim Sex  Victim Age                    Victim Race  \\\n0  State Police     Female          26  Native American/Alaska Native   \n1       Sheriff       Male          23                          Black   \n2       Sheriff       Male          42                          White   \n3       Sheriff       Male          33                          Black   \n4       Sheriff       Male          46                          White   \n\n  Victim Ethnicity Perpetrator Sex               Perpetrator Race  \\\n0     Not Hispanic            Male  Native American/Alaska Native   \n1     Not Hispanic            Male                          Black   \n2     Not Hispanic          Female                          White   \n3     Not Hispanic            Male                          Black   \n4     Not Hispanic            Male                          White   \n\n  Perpetrator Ethnicity Weapon Category Relationship Category  \\\n0          Not Hispanic     Non-Firearm                 Lover   \n1          Not Hispanic         Firearm          Acquaintance   \n2          Not Hispanic         Firearm                 Lover   \n3          Not Hispanic         Firearm          Acquaintance   \n4          Not Hispanic         Firearm                Family   \n\n  Agency_Type_grouped  Season      Region  \n0        Other Police  Autumn  West Coast  \n1             Sheriff  Summer       South  \n2             Sheriff  Summer       South  \n3             Sheriff  Summer       South  \n4             Sheriff  Autumn       South  ",
      "text/html": "<div>\n<style scoped>\n    .dataframe tbody tr th:only-of-type {\n        vertical-align: middle;\n    }\n\n    .dataframe tbody tr th {\n        vertical-align: top;\n    }\n\n    .dataframe thead th {\n        text-align: right;\n    }\n</style>\n<table border=\"1\" class=\"dataframe\">\n  <thead>\n    <tr style=\"text-align: right;\">\n      <th></th>\n      <th>Agency Type</th>\n      <th>Victim Sex</th>\n      <th>Victim Age</th>\n      <th>Victim Race</th>\n      <th>Victim Ethnicity</th>\n      <th>Perpetrator Sex</th>\n      <th>Perpetrator Race</th>\n      <th>Perpetrator Ethnicity</th>\n      <th>Weapon Category</th>\n      <th>Relationship Category</th>\n      <th>Agency_Type_grouped</th>\n      <th>Season</th>\n      <th>Region</th>\n    </tr>\n  </thead>\n  <tbody>\n    <tr>\n      <th>0</th>\n      <td>State Police</td>\n      <td>Female</td>\n      <td>26</td>\n      <td>Native American/Alaska Native</td>\n      <td>Not Hispanic</td>\n      <td>Male</td>\n      <td>Native American/Alaska Native</td>\n      <td>Not Hispanic</td>\n      <td>Non-Firearm</td>\n      <td>Lover</td>\n      <td>Other Police</td>\n      <td>Autumn</td>\n      <td>West Coast</td>\n    </tr>\n    <tr>\n      <th>1</th>\n      <td>Sheriff</td>\n      <td>Male</td>\n      <td>23</td>\n      <td>Black</td>\n      <td>Not Hispanic</td>\n      <td>Male</td>\n      <td>Black</td>\n      <td>Not Hispanic</td>\n      <td>Firearm</td>\n      <td>Acquaintance</td>\n      <td>Sheriff</td>\n      <td>Summer</td>\n      <td>South</td>\n    </tr>\n    <tr>\n      <th>2</th>\n      <td>Sheriff</td>\n      <td>Male</td>\n      <td>42</td>\n      <td>White</td>\n      <td>Not Hispanic</td>\n      <td>Female</td>\n      <td>White</td>\n      <td>Not Hispanic</td>\n      <td>Firearm</td>\n      <td>Lover</td>\n      <td>Sheriff</td>\n      <td>Summer</td>\n      <td>South</td>\n    </tr>\n    <tr>\n      <th>3</th>\n      <td>Sheriff</td>\n      <td>Male</td>\n      <td>33</td>\n      <td>Black</td>\n      <td>Not Hispanic</td>\n      <td>Male</td>\n      <td>Black</td>\n      <td>Not Hispanic</td>\n      <td>Firearm</td>\n      <td>Acquaintance</td>\n      <td>Sheriff</td>\n      <td>Summer</td>\n      <td>South</td>\n    </tr>\n    <tr>\n      <th>4</th>\n      <td>Sheriff</td>\n      <td>Male</td>\n      <td>46</td>\n      <td>White</td>\n      <td>Not Hispanic</td>\n      <td>Male</td>\n      <td>White</td>\n      <td>Not Hispanic</td>\n      <td>Firearm</td>\n      <td>Family</td>\n      <td>Sheriff</td>\n      <td>Autumn</td>\n      <td>South</td>\n    </tr>\n  </tbody>\n</table>\n</div>"
     },
     "execution_count": 50,
     "metadata": {},
     "output_type": "execute_result"
    }
   ],
   "source": [
    "# Load your dataset\n",
    "df_2 = pd.read_csv('master_data_clean.csv')\n",
    "df_2.head()"
   ],
   "metadata": {
    "collapsed": false,
    "ExecuteTime": {
     "end_time": "2024-12-22T12:13:24.008633900Z",
     "start_time": "2024-12-22T12:13:23.854345700Z"
    }
   },
   "id": "2b1d3b1bb68172c6",
   "execution_count": 50
  }
 ],
 "metadata": {
  "kernelspec": {
   "display_name": "Python 3",
   "language": "python",
   "name": "python3"
  },
  "language_info": {
   "codemirror_mode": {
    "name": "ipython",
    "version": 2
   },
   "file_extension": ".py",
   "mimetype": "text/x-python",
   "name": "python",
   "nbconvert_exporter": "python",
   "pygments_lexer": "ipython2",
   "version": "2.7.6"
  }
 },
 "nbformat": 4,
 "nbformat_minor": 5
}
