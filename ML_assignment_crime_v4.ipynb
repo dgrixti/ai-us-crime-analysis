{
 "cells": [
  {
   "cell_type": "code",
   "execution_count": 193,
   "id": "7d331f20-8f8b-4de1-acd5-f06328e3471c",
   "metadata": {},
   "outputs": [],
   "source": [
    "import pandas as pd\n",
    "import numpy as np\n",
    "import seaborn as sns\n",
    "import matplotlib.pyplot as plt\n",
    "%matplotlib inline"
   ]
  },
  {
   "cell_type": "code",
   "execution_count": 195,
   "id": "af36c459-abb2-45b6-8d6d-473bb5759637",
   "metadata": {},
   "outputs": [],
   "source": [
    "cr = pd.read_csv('ML_data_clean_v5.csv')"
   ]
  },
  {
   "cell_type": "code",
   "execution_count": 197,
   "id": "760c713f-1ad5-4ff0-b937-10474bd93847",
   "metadata": {},
   "outputs": [],
   "source": [
    "columns = ['State','Month','Victim Sex','Victim Age','Victim Race','Victim Ethnicity','Perpetrator Sex','Perpetrator Race','Perpetrator Ethnicity','Relationship Category','Agency_Type_grouped','Weapon Category']"
   ]
  },
  {
   "cell_type": "code",
   "execution_count": 199,
   "id": "ff171da9-ef53-4c4b-a098-ffc5a6e4391e",
   "metadata": {},
   "outputs": [],
   "source": [
    "cr = pd.DataFrame(cr, columns=columns)"
   ]
  },
  {
   "cell_type": "code",
   "execution_count": 201,
   "id": "ad6dd556-c865-465f-8810-b06d66f9ab0d",
   "metadata": {},
   "outputs": [
    {
     "data": {
      "text/html": [
       "<div>\n",
       "<style scoped>\n",
       "    .dataframe tbody tr th:only-of-type {\n",
       "        vertical-align: middle;\n",
       "    }\n",
       "\n",
       "    .dataframe tbody tr th {\n",
       "        vertical-align: top;\n",
       "    }\n",
       "\n",
       "    .dataframe thead th {\n",
       "        text-align: right;\n",
       "    }\n",
       "</style>\n",
       "<table border=\"1\" class=\"dataframe\">\n",
       "  <thead>\n",
       "    <tr style=\"text-align: right;\">\n",
       "      <th></th>\n",
       "      <th>State</th>\n",
       "      <th>Month</th>\n",
       "      <th>Victim Sex</th>\n",
       "      <th>Victim Age</th>\n",
       "      <th>Victim Race</th>\n",
       "      <th>Victim Ethnicity</th>\n",
       "      <th>Perpetrator Sex</th>\n",
       "      <th>Perpetrator Race</th>\n",
       "      <th>Perpetrator Ethnicity</th>\n",
       "      <th>Relationship Category</th>\n",
       "      <th>Agency_Type_grouped</th>\n",
       "      <th>Weapon Category</th>\n",
       "    </tr>\n",
       "  </thead>\n",
       "  <tbody>\n",
       "    <tr>\n",
       "      <th>0</th>\n",
       "      <td>Alaska</td>\n",
       "      <td>November</td>\n",
       "      <td>Female</td>\n",
       "      <td>26</td>\n",
       "      <td>Native American/Alaska Native</td>\n",
       "      <td>Not Hispanic</td>\n",
       "      <td>Male</td>\n",
       "      <td>Native American/Alaska Native</td>\n",
       "      <td>Not Hispanic</td>\n",
       "      <td>Lover</td>\n",
       "      <td>Other Police</td>\n",
       "      <td>Non-Firearm</td>\n",
       "    </tr>\n",
       "    <tr>\n",
       "      <th>1</th>\n",
       "      <td>Alabama</td>\n",
       "      <td>July</td>\n",
       "      <td>Male</td>\n",
       "      <td>23</td>\n",
       "      <td>Black</td>\n",
       "      <td>Not Hispanic</td>\n",
       "      <td>Male</td>\n",
       "      <td>Black</td>\n",
       "      <td>Not Hispanic</td>\n",
       "      <td>Acquaintance</td>\n",
       "      <td>Sheriff</td>\n",
       "      <td>Firearm</td>\n",
       "    </tr>\n",
       "    <tr>\n",
       "      <th>2</th>\n",
       "      <td>Alabama</td>\n",
       "      <td>July</td>\n",
       "      <td>Male</td>\n",
       "      <td>42</td>\n",
       "      <td>White</td>\n",
       "      <td>Not Hispanic</td>\n",
       "      <td>Female</td>\n",
       "      <td>White</td>\n",
       "      <td>Not Hispanic</td>\n",
       "      <td>Lover</td>\n",
       "      <td>Sheriff</td>\n",
       "      <td>Firearm</td>\n",
       "    </tr>\n",
       "    <tr>\n",
       "      <th>3</th>\n",
       "      <td>Alabama</td>\n",
       "      <td>July</td>\n",
       "      <td>Male</td>\n",
       "      <td>33</td>\n",
       "      <td>Black</td>\n",
       "      <td>Not Hispanic</td>\n",
       "      <td>Male</td>\n",
       "      <td>Black</td>\n",
       "      <td>Not Hispanic</td>\n",
       "      <td>Acquaintance</td>\n",
       "      <td>Sheriff</td>\n",
       "      <td>Firearm</td>\n",
       "    </tr>\n",
       "    <tr>\n",
       "      <th>4</th>\n",
       "      <td>Alabama</td>\n",
       "      <td>September</td>\n",
       "      <td>Male</td>\n",
       "      <td>46</td>\n",
       "      <td>White</td>\n",
       "      <td>Not Hispanic</td>\n",
       "      <td>Male</td>\n",
       "      <td>White</td>\n",
       "      <td>Not Hispanic</td>\n",
       "      <td>Family</td>\n",
       "      <td>Sheriff</td>\n",
       "      <td>Firearm</td>\n",
       "    </tr>\n",
       "  </tbody>\n",
       "</table>\n",
       "</div>"
      ],
      "text/plain": [
       "     State      Month Victim Sex  Victim Age                    Victim Race  \\\n",
       "0   Alaska   November     Female          26  Native American/Alaska Native   \n",
       "1  Alabama       July       Male          23                          Black   \n",
       "2  Alabama       July       Male          42                          White   \n",
       "3  Alabama       July       Male          33                          Black   \n",
       "4  Alabama  September       Male          46                          White   \n",
       "\n",
       "  Victim Ethnicity Perpetrator Sex               Perpetrator Race  \\\n",
       "0     Not Hispanic            Male  Native American/Alaska Native   \n",
       "1     Not Hispanic            Male                          Black   \n",
       "2     Not Hispanic          Female                          White   \n",
       "3     Not Hispanic            Male                          Black   \n",
       "4     Not Hispanic            Male                          White   \n",
       "\n",
       "  Perpetrator Ethnicity Relationship Category Agency_Type_grouped  \\\n",
       "0          Not Hispanic                 Lover        Other Police   \n",
       "1          Not Hispanic          Acquaintance             Sheriff   \n",
       "2          Not Hispanic                 Lover             Sheriff   \n",
       "3          Not Hispanic          Acquaintance             Sheriff   \n",
       "4          Not Hispanic                Family             Sheriff   \n",
       "\n",
       "  Weapon Category  \n",
       "0     Non-Firearm  \n",
       "1         Firearm  \n",
       "2         Firearm  \n",
       "3         Firearm  \n",
       "4         Firearm  "
      ]
     },
     "execution_count": 201,
     "metadata": {},
     "output_type": "execute_result"
    }
   ],
   "source": [
    "cr.head()"
   ]
  },
  {
   "cell_type": "code",
   "execution_count": 203,
   "id": "4d309bde-cf81-4a78-91ec-d611adc0aa9e",
   "metadata": {},
   "outputs": [
    {
     "data": {
      "text/plain": [
       "State                    0\n",
       "Month                    0\n",
       "Victim Sex               0\n",
       "Victim Age               0\n",
       "Victim Race              0\n",
       "Victim Ethnicity         0\n",
       "Perpetrator Sex          0\n",
       "Perpetrator Race         0\n",
       "Perpetrator Ethnicity    0\n",
       "Relationship Category    0\n",
       "Agency_Type_grouped      0\n",
       "Weapon Category          0\n",
       "dtype: int64"
      ]
     },
     "execution_count": 203,
     "metadata": {},
     "output_type": "execute_result"
    }
   ],
   "source": [
    "cr.isnull().sum()"
   ]
  },
  {
   "cell_type": "code",
   "execution_count": 171,
   "id": "323eceae-e00d-492c-b616-747e3a38fc96",
   "metadata": {},
   "outputs": [],
   "source": [
    "# cr.drop('Agency Type',axis='columns', inplace=True)"
   ]
  },
  {
   "cell_type": "code",
   "execution_count": 205,
   "id": "4587249a-ebde-4247-b801-ce1c7db1093d",
   "metadata": {},
   "outputs": [
    {
     "name": "stdout",
     "output_type": "stream",
     "text": [
      "<class 'pandas.core.frame.DataFrame'>\n",
      "RangeIndex: 153532 entries, 0 to 153531\n",
      "Data columns (total 12 columns):\n",
      " #   Column                 Non-Null Count   Dtype \n",
      "---  ------                 --------------   ----- \n",
      " 0   State                  153532 non-null  object\n",
      " 1   Month                  153532 non-null  object\n",
      " 2   Victim Sex             153532 non-null  object\n",
      " 3   Victim Age             153532 non-null  int64 \n",
      " 4   Victim Race            153532 non-null  object\n",
      " 5   Victim Ethnicity       153532 non-null  object\n",
      " 6   Perpetrator Sex        153532 non-null  object\n",
      " 7   Perpetrator Race       153532 non-null  object\n",
      " 8   Perpetrator Ethnicity  153532 non-null  object\n",
      " 9   Relationship Category  153532 non-null  object\n",
      " 10  Agency_Type_grouped    153532 non-null  object\n",
      " 11  Weapon Category        153532 non-null  object\n",
      "dtypes: int64(1), object(11)\n",
      "memory usage: 14.1+ MB\n"
     ]
    }
   ],
   "source": [
    "cr.info()"
   ]
  },
  {
   "cell_type": "code",
   "execution_count": 207,
   "id": "1546da30-7e3a-4f32-8a05-ddd5afd5acd0",
   "metadata": {},
   "outputs": [],
   "source": [
    "# list columns to convert to categorical\n",
    "categ_columns = ['State','Month','Victim Sex','Victim Race','Victim Ethnicity','Perpetrator Sex','Perpetrator Race','Perpetrator Ethnicity','Relationship Category','Agency_Type_grouped','Weapon Category']\n",
    "\n",
    "# convert columns to categorical\n",
    "cr[categ_columns] = cr[categ_columns].astype('category')"
   ]
  },
  {
   "cell_type": "code",
   "execution_count": 209,
   "id": "88a95896-4cf1-43ec-b3a5-5bd4c637f745",
   "metadata": {},
   "outputs": [
    {
     "name": "stdout",
     "output_type": "stream",
     "text": [
      "<class 'pandas.core.frame.DataFrame'>\n",
      "RangeIndex: 153532 entries, 0 to 153531\n",
      "Data columns (total 12 columns):\n",
      " #   Column                 Non-Null Count   Dtype   \n",
      "---  ------                 --------------   -----   \n",
      " 0   State                  153532 non-null  category\n",
      " 1   Month                  153532 non-null  category\n",
      " 2   Victim Sex             153532 non-null  category\n",
      " 3   Victim Age             153532 non-null  int64   \n",
      " 4   Victim Race            153532 non-null  category\n",
      " 5   Victim Ethnicity       153532 non-null  category\n",
      " 6   Perpetrator Sex        153532 non-null  category\n",
      " 7   Perpetrator Race       153532 non-null  category\n",
      " 8   Perpetrator Ethnicity  153532 non-null  category\n",
      " 9   Relationship Category  153532 non-null  category\n",
      " 10  Agency_Type_grouped    153532 non-null  category\n",
      " 11  Weapon Category        153532 non-null  category\n",
      "dtypes: category(11), int64(1)\n",
      "memory usage: 2.8 MB\n"
     ]
    }
   ],
   "source": [
    "cr.info()"
   ]
  },
  {
   "cell_type": "code",
   "execution_count": 115,
   "id": "03045428-b439-43e0-9f9b-445e5c6b418e",
   "metadata": {},
   "outputs": [],
   "source": [
    "#cr_categ = ['State','Month','Victim  Sex','Victim Race','Victim Ethnicity','Perpetrator Sex','Perpetrator Race','Perpetrator Ethnicity','Relationship Category','Agency_Type_grouped','Weapon Category']\n"
   ]
  },
  {
   "cell_type": "code",
   "execution_count": 211,
   "id": "27564fa6-219e-4cc8-afa7-ddbf9cadad08",
   "metadata": {},
   "outputs": [],
   "source": [
    "unknown_counts = cr[categ_columns].apply(lambda col: col.str.contains('Unknown', case=False, na=False).sum())"
   ]
  },
  {
   "cell_type": "code",
   "execution_count": 213,
   "id": "346c0879-3a80-4c1c-9f48-a38444601995",
   "metadata": {},
   "outputs": [
    {
     "data": {
      "text/plain": [
       "State                     0\n",
       "Month                     0\n",
       "Victim Sex                2\n",
       "Victim Race               0\n",
       "Victim Ethnicity          0\n",
       "Perpetrator Sex          20\n",
       "Perpetrator Race          0\n",
       "Perpetrator Ethnicity     0\n",
       "Relationship Category     0\n",
       "Agency_Type_grouped       0\n",
       "Weapon Category           0\n",
       "dtype: int64"
      ]
     },
     "execution_count": 213,
     "metadata": {},
     "output_type": "execute_result"
    }
   ],
   "source": [
    "unknown_counts"
   ]
  },
  {
   "cell_type": "code",
   "execution_count": 215,
   "id": "d0b68543-679d-494b-97e1-ba4b1ac3978a",
   "metadata": {},
   "outputs": [],
   "source": [
    "# remove unknown observations\n",
    "cr_clean = cr[~cr.apply(lambda row: row.astype(str).str.contains('Unknown', case=False, na=False).any(), axis=1)]\n",
    "# axis=1: Ensures the apply function works row by row.\n",
    "# 'astype(str)'\n",
    "## converts each row's values to strings with astype(str) to handle mixed types safely\n",
    "### I was getting 'can only use.str accessor with string values' error.\n",
    "### this error occurs because some of the values in the dataframe are not strings (e.g numbers of NaN).\n",
    "## checks each value in the row for 'Unknown' using .str.contains.\n",
    "# 'apply with lambda col:' \n",
    "## checks each column for the presence of 'Unkown' using str.contains('Unknown')\n",
    "## any() returns True if 'Unknown' is found in the column.\n",
    "# condition negation with '~'\n",
    "## selects all columns where the condition (~ negates the True values) is False, i.e. columns without 'Unknown'.\n",
    "## only columns without 'Unknown' values are retained in the cr_clean DataFrame\n"
   ]
  },
  {
   "cell_type": "code",
   "execution_count": 221,
   "id": "e2444bc6-e2db-404f-96db-c8b258b9468e",
   "metadata": {},
   "outputs": [
    {
     "data": {
      "text/plain": [
       "State                    0\n",
       "Month                    0\n",
       "Victim Sex               0\n",
       "Victim Race              0\n",
       "Victim Ethnicity         0\n",
       "Perpetrator Sex          0\n",
       "Perpetrator Race         0\n",
       "Perpetrator Ethnicity    0\n",
       "Relationship Category    0\n",
       "Agency_Type_grouped      0\n",
       "Weapon Category          0\n",
       "dtype: int64"
      ]
     },
     "execution_count": 221,
     "metadata": {},
     "output_type": "execute_result"
    }
   ],
   "source": [
    "unknown_counts = cr_clean[categ_columns].apply(lambda col: col.str.contains('Unknown', case=False, na=False).sum())\n",
    "unknown_counts"
   ]
  },
  {
   "cell_type": "code",
   "execution_count": 223,
   "id": "767d02ef-4060-42af-94fd-78f225807cf7",
   "metadata": {},
   "outputs": [
    {
     "name": "stdout",
     "output_type": "stream",
     "text": [
      "<class 'pandas.core.frame.DataFrame'>\n",
      "Index: 153511 entries, 0 to 153531\n",
      "Data columns (total 12 columns):\n",
      " #   Column                 Non-Null Count   Dtype   \n",
      "---  ------                 --------------   -----   \n",
      " 0   State                  153511 non-null  category\n",
      " 1   Month                  153511 non-null  category\n",
      " 2   Victim Sex             153511 non-null  category\n",
      " 3   Victim Age             153511 non-null  int64   \n",
      " 4   Victim Race            153511 non-null  category\n",
      " 5   Victim Ethnicity       153511 non-null  category\n",
      " 6   Perpetrator Sex        153511 non-null  category\n",
      " 7   Perpetrator Race       153511 non-null  category\n",
      " 8   Perpetrator Ethnicity  153511 non-null  category\n",
      " 9   Relationship Category  153511 non-null  category\n",
      " 10  Agency_Type_grouped    153511 non-null  category\n",
      " 11  Weapon Category        153511 non-null  category\n",
      "dtypes: category(11), int64(1)\n",
      "memory usage: 4.0 MB\n"
     ]
    }
   ],
   "source": [
    "cr_clean.info()"
   ]
  },
  {
   "cell_type": "code",
   "execution_count": 225,
   "id": "fdb80996-44da-4da2-9051-8dc98d9d956b",
   "metadata": {},
   "outputs": [
    {
     "data": {
      "text/html": [
       "<div>\n",
       "<style scoped>\n",
       "    .dataframe tbody tr th:only-of-type {\n",
       "        vertical-align: middle;\n",
       "    }\n",
       "\n",
       "    .dataframe tbody tr th {\n",
       "        vertical-align: top;\n",
       "    }\n",
       "\n",
       "    .dataframe thead th {\n",
       "        text-align: right;\n",
       "    }\n",
       "</style>\n",
       "<table border=\"1\" class=\"dataframe\">\n",
       "  <thead>\n",
       "    <tr style=\"text-align: right;\">\n",
       "      <th></th>\n",
       "      <th>Victim Age</th>\n",
       "    </tr>\n",
       "  </thead>\n",
       "  <tbody>\n",
       "    <tr>\n",
       "      <th>count</th>\n",
       "      <td>153511.000000</td>\n",
       "    </tr>\n",
       "    <tr>\n",
       "      <th>mean</th>\n",
       "      <td>34.164281</td>\n",
       "    </tr>\n",
       "    <tr>\n",
       "      <th>std</th>\n",
       "      <td>16.683487</td>\n",
       "    </tr>\n",
       "    <tr>\n",
       "      <th>min</th>\n",
       "      <td>1.000000</td>\n",
       "    </tr>\n",
       "    <tr>\n",
       "      <th>25%</th>\n",
       "      <td>23.000000</td>\n",
       "    </tr>\n",
       "    <tr>\n",
       "      <th>50%</th>\n",
       "      <td>31.000000</td>\n",
       "    </tr>\n",
       "    <tr>\n",
       "      <th>75%</th>\n",
       "      <td>42.000000</td>\n",
       "    </tr>\n",
       "    <tr>\n",
       "      <th>max</th>\n",
       "      <td>99.000000</td>\n",
       "    </tr>\n",
       "  </tbody>\n",
       "</table>\n",
       "</div>"
      ],
      "text/plain": [
       "          Victim Age\n",
       "count  153511.000000\n",
       "mean       34.164281\n",
       "std        16.683487\n",
       "min         1.000000\n",
       "25%        23.000000\n",
       "50%        31.000000\n",
       "75%        42.000000\n",
       "max        99.000000"
      ]
     },
     "execution_count": 225,
     "metadata": {},
     "output_type": "execute_result"
    }
   ],
   "source": [
    "cr_clean.describe()"
   ]
  },
  {
   "cell_type": "code",
   "execution_count": 229,
   "id": "8fb28b87-6a9a-44d0-98c8-fce1b65bd2aa",
   "metadata": {},
   "outputs": [],
   "source": [
    "cr_clean.to_csv('ML_REVISED_V6_noyear_nounknowns.csv', index=False)"
   ]
  }
 ],
 "metadata": {
  "kernelspec": {
   "display_name": "Python 3 (ipykernel)",
   "language": "python",
   "name": "python3"
  },
  "language_info": {
   "codemirror_mode": {
    "name": "ipython",
    "version": 3
   },
   "file_extension": ".py",
   "mimetype": "text/x-python",
   "name": "python",
   "nbconvert_exporter": "python",
   "pygments_lexer": "ipython3",
   "version": "3.12.4"
  }
 },
 "nbformat": 4,
 "nbformat_minor": 5
}
