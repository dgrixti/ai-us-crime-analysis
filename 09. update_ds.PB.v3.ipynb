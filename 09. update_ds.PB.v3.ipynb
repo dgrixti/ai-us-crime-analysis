{
 "cells": [
  {
   "cell_type": "code",
   "execution_count": 65,
   "id": "4b017af1-fce5-4ff0-be59-cd6ca08d1733",
   "metadata": {},
   "outputs": [],
   "source": [
    "# Load libraries\n",
    "\n",
    "import numpy as np\n",
    "import pandas as pd\n",
    "import matplotlib.pyplot as plt\n",
    "from sklearn.linear_model import LogisticRegression\n",
    "from sklearn.model_selection import RandomizedSearchCV, train_test_split\n",
    "from sklearn.metrics import (\n",
    "    accuracy_score, classification_report, precision_score, recall_score, f1_score,\n",
    "    roc_auc_score, roc_curve, confusion_matrix, ConfusionMatrixDisplay\n",
    ")\n",
    "from sklearn.preprocessing import StandardScaler, LabelEncoder\n",
    "\n",
    "from imblearn.over_sampling import SMOTE  # Import SMOTE for handling imbalanced data\n",
    "import statsmodels.api as sm # to print statistical output\n",
    "from scipy.stats import loguniform\n",
    "from imblearn.pipeline import Pipeline as imba_Pipeline\n",
    "from imblearn.pipeline import Pipeline\n",
    "import statsmodels.api as sm\n"
   ]
  },
  {
   "cell_type": "code",
   "execution_count": 67,
   "id": "8eb927f5-3812-43e9-9474-b3197193dfc0",
   "metadata": {},
   "outputs": [],
   "source": [
    "# Load your dataset (assuming 'crime.csv' file is available)\n",
    "crime = pd.read_csv('clean_df_3_single_weapon.csv')\n",
    "crime = pd.DataFrame(crime)\n",
    "## age is still between 0 and 100"
   ]
  },
  {
   "cell_type": "code",
   "execution_count": 69,
   "id": "7e927577-3ba5-4a9c-a758-457c1115a917",
   "metadata": {},
   "outputs": [],
   "source": [
    "# target variable to convert to categorical\n",
    "crime['Weapon Category'] = crime['Weapon Category'].astype('category')\n",
    "\n",
    "# And update categ_features\n",
    "categ_features = ['Region','Season','Victim Sex','Victim Ethnicity','Perpetrator Sex','Perpetrator Ethnicity','Relationship Category',\n",
    "                  'Agency Type']\n"
   ]
  },
  {
   "cell_type": "code",
   "execution_count": 71,
   "id": "6f8899e7-5002-4856-a39d-775435bd338c",
   "metadata": {},
   "outputs": [
    {
     "name": "stdout",
     "output_type": "stream",
     "text": [
      "Agency Type              0\n",
      "Victim Sex               0\n",
      "Victim Age               0\n",
      "Victim Ethnicity         0\n",
      "Perpetrator Sex          0\n",
      "Perpetrator Ethnicity    0\n",
      "Weapon Category          0\n",
      "Relationship Category    0\n",
      "Region                   0\n",
      "Season                   0\n",
      "dtype: int64\n"
     ]
    }
   ],
   "source": [
    "print(crime.isnull().sum())"
   ]
  },
  {
   "cell_type": "code",
   "execution_count": 73,
   "id": "e50fea82-94c5-4f78-a374-61efe17462e8",
   "metadata": {},
   "outputs": [
    {
     "name": "stdout",
     "output_type": "stream",
     "text": [
      "    Agency Type Victim Sex  Victim Age Victim Ethnicity Perpetrator Sex  \\\n",
      "0  Other Police     Female          26     Not Hispanic            Male   \n",
      "1       Sheriff       Male          23     Not Hispanic            Male   \n",
      "2       Sheriff       Male          42     Not Hispanic          Female   \n",
      "3       Sheriff       Male          33     Not Hispanic            Male   \n",
      "4       Sheriff       Male          46     Not Hispanic            Male   \n",
      "\n",
      "  Perpetrator Ethnicity Weapon Category Relationship Category Region  Season  \\\n",
      "0          Not Hispanic     Non-Firearm                 Lover   West  Autumn   \n",
      "1          Not Hispanic         Firearm          Acquaintance  South  Summer   \n",
      "2          Not Hispanic         Firearm                 Lover  South  Summer   \n",
      "3          Not Hispanic         Firearm          Acquaintance  South  Summer   \n",
      "4          Not Hispanic         Firearm                Family  South  Autumn   \n",
      "\n",
      "   ...  Season_Winter  Relationship Category_Family  \\\n",
      "0  ...          False                         False   \n",
      "1  ...          False                         False   \n",
      "2  ...          False                         False   \n",
      "3  ...          False                         False   \n",
      "4  ...          False                          True   \n",
      "\n",
      "   Relationship Category_Lover  Relationship Category_Stranger  \\\n",
      "0                         True                           False   \n",
      "1                        False                           False   \n",
      "2                         True                           False   \n",
      "3                        False                           False   \n",
      "4                        False                           False   \n",
      "\n",
      "   Agency Type_Other Police  Agency Type_Sheriff  Victim Sex_Male  \\\n",
      "0                      True                False            False   \n",
      "1                     False                 True             True   \n",
      "2                     False                 True             True   \n",
      "3                     False                 True             True   \n",
      "4                     False                 True             True   \n",
      "\n",
      "   Perpetrator Sex_Male  Victim Ethnicity_Not Hispanic  \\\n",
      "0                  True                           True   \n",
      "1                  True                           True   \n",
      "2                 False                           True   \n",
      "3                  True                           True   \n",
      "4                  True                           True   \n",
      "\n",
      "   Perpetrator Ethnicity_Not Hispanic  \n",
      "0                                True  \n",
      "1                                True  \n",
      "2                                True  \n",
      "3                                True  \n",
      "4                                True  \n",
      "\n",
      "[5 rows x 25 columns]\n"
     ]
    }
   ],
   "source": [
    "# 1. Apply get_dummies to all categorical features\n",
    "# Use get_dummies for all categorical features except for Victim Sex, Perpetrator Sex, Victim Ethnicity, and Perpetrator Ethnicity\n",
    "non_sex_ethnicity_features = [col for col in categ_features if col not in ['Victim Sex', 'Perpetrator Sex', 'Victim Ethnicity', 'Perpetrator Ethnicity']]\n",
    "# the above code brings together all of the non-binary categories. \n",
    "\n",
    "# Apply get_dummies for these features\n",
    "## The drop_first=True argument removes one category to avoid multicollinearity.\n",
    "cr_non_sex_ethnicity = pd.get_dummies(crime[non_sex_ethnicity_features], drop_first=True) \n",
    "# the above requires that for all non-binary categories, get_dummies is applied\n",
    "\n",
    "# 2. Apply get_dummies separately for 'Victim Sex' and 'Perpetrator Sex'\n",
    "victim_sex_dummies = pd.get_dummies(crime['Victim Sex'], prefix='Victim Sex', drop_first=True)\n",
    "perpetrator_sex_dummies = pd.get_dummies(crime['Perpetrator Sex'], prefix='Perpetrator Sex', drop_first=True)\n",
    "\n",
    "# 3. Apply get_dummies separately for 'Victim Ethnicity' and 'Perpetrator Ethnicity'\n",
    "victim_ethnicity_dummies = pd.get_dummies(crime['Victim Ethnicity'], prefix='Victim Ethnicity', drop_first=True)\n",
    "perpetrator_ethnicity_dummies = pd.get_dummies(crime['Perpetrator Ethnicity'], prefix='Perpetrator Ethnicity', drop_first=True)\n",
    "\n",
    "# 4. Concatenate all the dummy variable DataFrames\n",
    "crime = pd.concat([crime, cr_non_sex_ethnicity, victim_sex_dummies, perpetrator_sex_dummies, victim_ethnicity_dummies, perpetrator_ethnicity_dummies], axis=1)\n",
    "\n",
    "# 5. Drop the original categorical columns after applying get_dummies\n",
    "#cr.drop(columns=['Victim Sex', 'Perpetrator Sex', 'Victim Ethnicity', 'Perpetrator Ethnicity', 'Season', 'Region', 'Relationship Category', 'Agency_Type_grouped'], inplace=True)\n",
    "\n",
    "# Print the updated DataFrame to check\n",
    "print(crime.head())"
   ]
  },
  {
   "cell_type": "code",
   "execution_count": 75,
   "id": "9848a09a-c574-4601-98e4-44be536fafa3",
   "metadata": {},
   "outputs": [],
   "source": [
    "# Prepare the model's feature data (X) and target variable (y)\n",
    "X_dummy = crime.drop(columns=['Victim Sex', 'Perpetrator Sex', 'Victim Ethnicity', 'Perpetrator Ethnicity', 'Season', 'Region', \n",
    "                              'Relationship Category', 'Agency Type','Season_Spring','Season_Summer','Season_Winter','Victim Age', \n",
    "                              'Weapon Category'])\n",
    "y_dummy = crime['Weapon Category']\n"
   ]
  },
  {
   "cell_type": "code",
   "execution_count": 77,
   "id": "ece8605c-3219-470f-8ef5-3eb27dd3a2ed",
   "metadata": {},
   "outputs": [
    {
     "name": "stdout",
     "output_type": "stream",
     "text": [
      "Region_Northeast                      bool\n",
      "Region_South                          bool\n",
      "Region_West                           bool\n",
      "Relationship Category_Family          bool\n",
      "Relationship Category_Lover           bool\n",
      "Relationship Category_Stranger        bool\n",
      "Agency Type_Other Police              bool\n",
      "Agency Type_Sheriff                   bool\n",
      "Victim Sex_Male                       bool\n",
      "Perpetrator Sex_Male                  bool\n",
      "Victim Ethnicity_Not Hispanic         bool\n",
      "Perpetrator Ethnicity_Not Hispanic    bool\n",
      "dtype: object\n",
      "Index(['Region_Northeast', 'Region_South', 'Region_West',\n",
      "       'Relationship Category_Family', 'Relationship Category_Lover',\n",
      "       'Relationship Category_Stranger', 'Agency Type_Other Police',\n",
      "       'Agency Type_Sheriff', 'Victim Sex_Male', 'Perpetrator Sex_Male',\n",
      "       'Victim Ethnicity_Not Hispanic', 'Perpetrator Ethnicity_Not Hispanic'],\n",
      "      dtype='object')\n",
      "        Region_Northeast  Region_South  Region_West  \\\n",
      "0                      0             0            1   \n",
      "1                      0             1            0   \n",
      "2                      0             1            0   \n",
      "3                      0             1            0   \n",
      "4                      0             1            0   \n",
      "...                  ...           ...          ...   \n",
      "153506                 0             0            1   \n",
      "153507                 0             0            1   \n",
      "153508                 0             0            1   \n",
      "153509                 0             0            1   \n",
      "153510                 0             0            1   \n",
      "\n",
      "        Relationship Category_Family  Relationship Category_Lover  \\\n",
      "0                                  0                            1   \n",
      "1                                  0                            0   \n",
      "2                                  0                            1   \n",
      "3                                  0                            0   \n",
      "4                                  1                            0   \n",
      "...                              ...                          ...   \n",
      "153506                             1                            0   \n",
      "153507                             0                            0   \n",
      "153508                             0                            1   \n",
      "153509                             1                            0   \n",
      "153510                             0                            0   \n",
      "\n",
      "        Relationship Category_Stranger  Agency Type_Other Police  \\\n",
      "0                                    0                         1   \n",
      "1                                    0                         0   \n",
      "2                                    0                         0   \n",
      "3                                    0                         0   \n",
      "4                                    0                         0   \n",
      "...                                ...                       ...   \n",
      "153506                               0                         0   \n",
      "153507                               0                         0   \n",
      "153508                               0                         0   \n",
      "153509                               0                         0   \n",
      "153510                               1                         0   \n",
      "\n",
      "        Agency Type_Sheriff  Victim Sex_Male  Perpetrator Sex_Male  \\\n",
      "0                         0                0                     1   \n",
      "1                         1                1                     1   \n",
      "2                         1                1                     0   \n",
      "3                         1                1                     1   \n",
      "4                         1                1                     1   \n",
      "...                     ...              ...                   ...   \n",
      "153506                    0                1                     1   \n",
      "153507                    1                1                     1   \n",
      "153508                    1                0                     1   \n",
      "153509                    1                0                     1   \n",
      "153510                    1                1                     1   \n",
      "\n",
      "        Victim Ethnicity_Not Hispanic  Perpetrator Ethnicity_Not Hispanic  \n",
      "0                                   1                                   1  \n",
      "1                                   1                                   1  \n",
      "2                                   1                                   1  \n",
      "3                                   1                                   1  \n",
      "4                                   1                                   1  \n",
      "...                               ...                                 ...  \n",
      "153506                              1                                   0  \n",
      "153507                              1                                   1  \n",
      "153508                              1                                   1  \n",
      "153509                              1                                   1  \n",
      "153510                              1                                   1  \n",
      "\n",
      "[153511 rows x 12 columns]\n"
     ]
    }
   ],
   "source": [
    "# Changing categorical variables from X_dummy to integers\n",
    "print(X_dummy.dtypes)\n",
    "bool_columns = X_dummy.select_dtypes(include=['bool']).columns\n",
    "print(bool_columns)\n",
    "X_dummy[bool_columns] = X_dummy[bool_columns].astype(int)\n",
    "print(X_dummy)"
   ]
  },
  {
   "cell_type": "code",
   "execution_count": 79,
   "id": "3db5bc39-793f-44ca-b41e-760145e14899",
   "metadata": {},
   "outputs": [],
   "source": [
    "# Create a scaler instance\n",
    "scaler = StandardScaler()\n",
    "\n",
    "# Scale the 'Victim Age' for model training\n",
    "crime['Victim Age Scaled'] = scaler.fit_transform(crime[['Victim Age']])"
   ]
  },
  {
   "cell_type": "code",
   "execution_count": 83,
   "id": "86b124c7-f468-42e9-8d1e-e46ebc088a82",
   "metadata": {},
   "outputs": [
    {
     "name": "stdout",
     "output_type": "stream",
     "text": [
      "   Region_Northeast  Region_South  Region_West  Relationship Category_Family  \\\n",
      "0                 0             0            1                             0   \n",
      "1                 0             1            0                             0   \n",
      "2                 0             1            0                             0   \n",
      "3                 0             1            0                             0   \n",
      "4                 0             1            0                             1   \n",
      "\n",
      "   Relationship Category_Lover  Relationship Category_Stranger  \\\n",
      "0                            1                               0   \n",
      "1                            0                               0   \n",
      "2                            1                               0   \n",
      "3                            0                               0   \n",
      "4                            0                               0   \n",
      "\n",
      "   Agency Type_Other Police  Agency Type_Sheriff  Victim Sex_Male  \\\n",
      "0                         1                    0                0   \n",
      "1                         0                    1                1   \n",
      "2                         0                    1                1   \n",
      "3                         0                    1                1   \n",
      "4                         0                    1                1   \n",
      "\n",
      "   Perpetrator Sex_Male  Victim Ethnicity_Not Hispanic  \\\n",
      "0                     1                              1   \n",
      "1                     1                              1   \n",
      "2                     0                              1   \n",
      "3                     1                              1   \n",
      "4                     1                              1   \n",
      "\n",
      "   Perpetrator Ethnicity_Not Hispanic  Victim Age Scaled  \n",
      "0                                   1          -0.489365  \n",
      "1                                   1          -0.669184  \n",
      "2                                   1           0.469671  \n",
      "3                                   1          -0.069787  \n",
      "4                                   1           0.709429  \n"
     ]
    }
   ],
   "source": [
    "# Combine dummy variables and 'Victim Age Scaled' into a new feature set (e.g., X_combined)\n",
    "X_combined = pd.concat([X_dummy, crime[['Victim Age Scaled']]], axis=1)\n",
    "\n",
    "# Verify the combined feature set\n",
    "print(X_combined.head())\n"
   ]
  },
  {
   "cell_type": "code",
   "execution_count": 97,
   "id": "99ad72ba-3be2-4493-83f2-63dab6e718f7",
   "metadata": {},
   "outputs": [
    {
     "data": {
      "text/plain": [
       "0         Non-Firearm\n",
       "1             Firearm\n",
       "2             Firearm\n",
       "3             Firearm\n",
       "4             Firearm\n",
       "             ...     \n",
       "153506        Firearm\n",
       "153507        Firearm\n",
       "153508        Firearm\n",
       "153509        Firearm\n",
       "153510    Non-Firearm\n",
       "Name: Weapon Category, Length: 153511, dtype: category\n",
       "Categories (2, object): ['Firearm', 'Non-Firearm']"
      ]
     },
     "execution_count": 97,
     "metadata": {},
     "output_type": "execute_result"
    }
   ],
   "source": [
    "y_dummy"
   ]
  },
  {
   "cell_type": "code",
   "execution_count": 99,
   "id": "0c8a4cd3-bc82-445d-8c32-5d295b131419",
   "metadata": {},
   "outputs": [],
   "source": [
    "y_dummy_numeric = y_dummy.map({'Firearm': 1, 'Non-Firearm': 0})"
   ]
  },
  {
   "cell_type": "code",
   "execution_count": 101,
   "id": "356d1ff0-f608-4211-bccf-9d1b5146bde0",
   "metadata": {},
   "outputs": [],
   "source": [
    "# Split into training and testing sets\n",
    "X_train, X_test, y_train, y_test = train_test_split(X_combined, y_dummy_numeric, test_size=0.3, random_state=42, stratify=y_dummy_numeric)\n",
    "\n",
    "# Apply SMOTE to the training data\n",
    "#smote = SMOTE(random_state=42)  # Initialize SMOTE\n",
    "#X_train_resampled, y_train_resampled = smote.fit_resample(X_train, y_train)  # Oversample the minority class\n",
    "\n"
   ]
  },
  {
   "cell_type": "code",
   "execution_count": 103,
   "id": "ec70c720-46f4-4994-bc2a-6f5fe9fe0464",
   "metadata": {},
   "outputs": [
    {
     "name": "stdout",
     "output_type": "stream",
     "text": [
      "0\n"
     ]
    }
   ],
   "source": [
    "# Check for NaN values in the target variable\n",
    "print(y_dummy_numeric.isnull().sum())\n"
   ]
  },
  {
   "cell_type": "code",
   "execution_count": 107,
   "id": "9057c649-4e9d-40cd-888a-97ebdc677777",
   "metadata": {},
   "outputs": [
    {
     "name": "stdout",
     "output_type": "stream",
     "text": [
      "Class distribution before SMOTE:\n",
      "Weapon Category\n",
      "1    72091\n",
      "0    35366\n",
      "Name: count, dtype: int64\n",
      "Class distribution after SMOTE:\n",
      "Weapon Category\n",
      "1    72091\n",
      "0    72091\n",
      "Name: count, dtype: int64\n"
     ]
    }
   ],
   "source": [
    "# Apply SMOTE to handle class imbalance\n",
    "from imblearn.over_sampling import SMOTE\n",
    "\n",
    "# Initialize SMOTE\n",
    "smote = SMOTE(random_state=42)\n",
    "\n",
    "# Resample the training data\n",
    "X_train_resampled, y_train_resampled = smote.fit_resample(X_train, y_train)\n",
    "\n",
    "# Check the class distribution before and after SMOTE\n",
    "print(f\"Class distribution before SMOTE:\\n{y_train.value_counts()}\")\n",
    "print(f\"Class distribution after SMOTE:\\n{y_train_resampled.value_counts()}\")\n"
   ]
  },
  {
   "cell_type": "code",
   "execution_count": 117,
   "id": "f5a30a0e-1f7c-4783-9a27-6cbfc6a479cb",
   "metadata": {},
   "outputs": [],
   "source": [
    "from sklearn.model_selection import RandomizedSearchCV\n",
    "from scipy.stats import loguniform\n",
    "from imblearn.over_sampling import SMOTE\n",
    "from sklearn.linear_model import LogisticRegression\n",
    "from sklearn.pipeline import Pipeline\n",
    "from sklearn.preprocessing import StandardScaler\n",
    "\n",
    "# Define the pipeline without SMOTE\n",
    "pipeline = Pipeline([\n",
    "    (\"scaler\", StandardScaler()),  # Only scaling in the pipeline\n",
    "    (\"log_reg\", LogisticRegression(random_state=42, max_iter=1000))  # Logistic regression\n",
    "])\n",
    "\n",
    "# Define parameter grid for hyperparameter tuning\n",
    "param_dist = {\n",
    "    'log_reg__C': loguniform(1e-4, 1e4),  # Regularization strength for Logistic Regression\n",
    "    'log_reg__solver': ['lbfgs', 'liblinear', 'saga'],  # Solvers to test for Logistic Regression\n",
    "    'log_reg__max_iter': [1000, 2000, 3000],  # Maximum iterations for Logistic Regression\n",
    "    'log_reg__penalty': ['l2', 'l1', None],  # Penalty types for Logistic Regression\n",
    "    'log_reg__class_weight': ['balanced', None],  # Handle class imbalance for Logistic Regression\n",
    "}\n"
   ]
  },
  {
   "cell_type": "code",
   "execution_count": 119,
   "id": "bbcd20ef-09d3-4cc8-a62a-01c5dc8b86fb",
   "metadata": {},
   "outputs": [
    {
     "name": "stdout",
     "output_type": "stream",
     "text": [
      "Fitting 5 folds for each of 10 candidates, totalling 50 fits\n"
     ]
    },
    {
     "name": "stderr",
     "output_type": "stream",
     "text": [
      "/opt/anaconda3/lib/python3.12/site-packages/sklearn/linear_model/_logistic.py:1186: UserWarning: Setting penalty=None will ignore the C and l1_ratio parameters\n",
      "  warnings.warn(\n"
     ]
    },
    {
     "name": "stdout",
     "output_type": "stream",
     "text": [
      "[CV] END log_reg__C=0.09915644566638401, log_reg__class_weight=balanced, log_reg__max_iter=3000, log_reg__penalty=None, log_reg__solver=lbfgs; total time=   0.2s\n"
     ]
    },
    {
     "name": "stderr",
     "output_type": "stream",
     "text": [
      "/opt/anaconda3/lib/python3.12/site-packages/sklearn/linear_model/_logistic.py:1186: UserWarning: Setting penalty=None will ignore the C and l1_ratio parameters\n",
      "  warnings.warn(\n"
     ]
    },
    {
     "name": "stdout",
     "output_type": "stream",
     "text": [
      "[CV] END log_reg__C=0.09915644566638401, log_reg__class_weight=balanced, log_reg__max_iter=3000, log_reg__penalty=None, log_reg__solver=lbfgs; total time=   0.2s\n",
      "[CV] END log_reg__C=0.09915644566638401, log_reg__class_weight=balanced, log_reg__max_iter=3000, log_reg__penalty=None, log_reg__solver=lbfgs; total time=   0.2s\n"
     ]
    },
    {
     "name": "stderr",
     "output_type": "stream",
     "text": [
      "/opt/anaconda3/lib/python3.12/site-packages/sklearn/linear_model/_logistic.py:1186: UserWarning: Setting penalty=None will ignore the C and l1_ratio parameters\n",
      "  warnings.warn(\n",
      "/opt/anaconda3/lib/python3.12/site-packages/sklearn/linear_model/_logistic.py:1186: UserWarning: Setting penalty=None will ignore the C and l1_ratio parameters\n",
      "  warnings.warn(\n"
     ]
    },
    {
     "name": "stdout",
     "output_type": "stream",
     "text": [
      "[CV] END log_reg__C=0.09915644566638401, log_reg__class_weight=balanced, log_reg__max_iter=3000, log_reg__penalty=None, log_reg__solver=lbfgs; total time=   0.2s\n",
      "[CV] END log_reg__C=0.09915644566638401, log_reg__class_weight=balanced, log_reg__max_iter=3000, log_reg__penalty=None, log_reg__solver=lbfgs; total time=   0.2s\n"
     ]
    },
    {
     "name": "stderr",
     "output_type": "stream",
     "text": [
      "/opt/anaconda3/lib/python3.12/site-packages/sklearn/linear_model/_logistic.py:1186: UserWarning: Setting penalty=None will ignore the C and l1_ratio parameters\n",
      "  warnings.warn(\n",
      "/opt/anaconda3/lib/python3.12/site-packages/sklearn/linear_model/_logistic.py:1186: UserWarning: Setting penalty=None will ignore the C and l1_ratio parameters\n",
      "  warnings.warn(\n"
     ]
    },
    {
     "name": "stdout",
     "output_type": "stream",
     "text": [
      "[CV] END log_reg__C=5.953896264004558, log_reg__class_weight=None, log_reg__max_iter=3000, log_reg__penalty=None, log_reg__solver=saga; total time=   0.9s\n"
     ]
    },
    {
     "name": "stderr",
     "output_type": "stream",
     "text": [
      "/opt/anaconda3/lib/python3.12/site-packages/sklearn/linear_model/_logistic.py:1186: UserWarning: Setting penalty=None will ignore the C and l1_ratio parameters\n",
      "  warnings.warn(\n"
     ]
    },
    {
     "name": "stdout",
     "output_type": "stream",
     "text": [
      "[CV] END log_reg__C=5.953896264004558, log_reg__class_weight=None, log_reg__max_iter=3000, log_reg__penalty=None, log_reg__solver=saga; total time=   0.9s\n"
     ]
    },
    {
     "name": "stderr",
     "output_type": "stream",
     "text": [
      "/opt/anaconda3/lib/python3.12/site-packages/sklearn/linear_model/_logistic.py:1186: UserWarning: Setting penalty=None will ignore the C and l1_ratio parameters\n",
      "  warnings.warn(\n"
     ]
    },
    {
     "name": "stdout",
     "output_type": "stream",
     "text": [
      "[CV] END log_reg__C=5.953896264004558, log_reg__class_weight=None, log_reg__max_iter=3000, log_reg__penalty=None, log_reg__solver=saga; total time=   0.8s\n"
     ]
    },
    {
     "name": "stderr",
     "output_type": "stream",
     "text": [
      "/opt/anaconda3/lib/python3.12/site-packages/sklearn/linear_model/_logistic.py:1186: UserWarning: Setting penalty=None will ignore the C and l1_ratio parameters\n",
      "  warnings.warn(\n"
     ]
    },
    {
     "name": "stdout",
     "output_type": "stream",
     "text": [
      "[CV] END log_reg__C=5.953896264004558, log_reg__class_weight=None, log_reg__max_iter=3000, log_reg__penalty=None, log_reg__solver=saga; total time=   0.8s\n"
     ]
    },
    {
     "name": "stderr",
     "output_type": "stream",
     "text": [
      "/opt/anaconda3/lib/python3.12/site-packages/sklearn/linear_model/_logistic.py:1186: UserWarning: Setting penalty=None will ignore the C and l1_ratio parameters\n",
      "  warnings.warn(\n"
     ]
    },
    {
     "name": "stdout",
     "output_type": "stream",
     "text": [
      "[CV] END log_reg__C=5.953896264004558, log_reg__class_weight=None, log_reg__max_iter=3000, log_reg__penalty=None, log_reg__solver=saga; total time=   0.8s\n",
      "[CV] END log_reg__C=0.47205340620449887, log_reg__class_weight=balanced, log_reg__max_iter=3000, log_reg__penalty=l1, log_reg__solver=lbfgs; total time=   0.0s\n",
      "[CV] END log_reg__C=0.47205340620449887, log_reg__class_weight=balanced, log_reg__max_iter=3000, log_reg__penalty=l1, log_reg__solver=lbfgs; total time=   0.0s\n",
      "[CV] END log_reg__C=0.47205340620449887, log_reg__class_weight=balanced, log_reg__max_iter=3000, log_reg__penalty=l1, log_reg__solver=lbfgs; total time=   0.0s\n",
      "[CV] END log_reg__C=0.47205340620449887, log_reg__class_weight=balanced, log_reg__max_iter=3000, log_reg__penalty=l1, log_reg__solver=lbfgs; total time=   0.0s\n",
      "[CV] END log_reg__C=0.47205340620449887, log_reg__class_weight=balanced, log_reg__max_iter=3000, log_reg__penalty=l1, log_reg__solver=lbfgs; total time=   0.1s\n",
      "[CV] END log_reg__C=5744.851636320435, log_reg__class_weight=None, log_reg__max_iter=2000, log_reg__penalty=l1, log_reg__solver=liblinear; total time=   0.3s\n",
      "[CV] END log_reg__C=5744.851636320435, log_reg__class_weight=None, log_reg__max_iter=2000, log_reg__penalty=l1, log_reg__solver=liblinear; total time=   0.3s\n",
      "[CV] END log_reg__C=5744.851636320435, log_reg__class_weight=None, log_reg__max_iter=2000, log_reg__penalty=l1, log_reg__solver=liblinear; total time=   0.3s\n",
      "[CV] END log_reg__C=5744.851636320435, log_reg__class_weight=None, log_reg__max_iter=2000, log_reg__penalty=l1, log_reg__solver=liblinear; total time=   0.3s\n",
      "[CV] END log_reg__C=5744.851636320435, log_reg__class_weight=None, log_reg__max_iter=2000, log_reg__penalty=l1, log_reg__solver=liblinear; total time=   0.3s\n",
      "[CV] END log_reg__C=0.002848391870910803, log_reg__class_weight=balanced, log_reg__max_iter=1000, log_reg__penalty=l1, log_reg__solver=liblinear; total time=   0.3s\n",
      "[CV] END log_reg__C=0.002848391870910803, log_reg__class_weight=balanced, log_reg__max_iter=1000, log_reg__penalty=l1, log_reg__solver=liblinear; total time=   0.3s\n",
      "[CV] END log_reg__C=0.002848391870910803, log_reg__class_weight=balanced, log_reg__max_iter=1000, log_reg__penalty=l1, log_reg__solver=liblinear; total time=   0.3s\n",
      "[CV] END log_reg__C=0.002848391870910803, log_reg__class_weight=balanced, log_reg__max_iter=1000, log_reg__penalty=l1, log_reg__solver=liblinear; total time=   0.3s\n",
      "[CV] END log_reg__C=0.002848391870910803, log_reg__class_weight=balanced, log_reg__max_iter=1000, log_reg__penalty=l1, log_reg__solver=liblinear; total time=   0.3s\n"
     ]
    },
    {
     "name": "stderr",
     "output_type": "stream",
     "text": [
      "/opt/anaconda3/lib/python3.12/site-packages/sklearn/linear_model/_logistic.py:1186: UserWarning: Setting penalty=None will ignore the C and l1_ratio parameters\n",
      "  warnings.warn(\n"
     ]
    },
    {
     "name": "stdout",
     "output_type": "stream",
     "text": [
      "[CV] END log_reg__C=0.00011390176182186649, log_reg__class_weight=balanced, log_reg__max_iter=1000, log_reg__penalty=None, log_reg__solver=saga; total time=   0.9s\n"
     ]
    },
    {
     "name": "stderr",
     "output_type": "stream",
     "text": [
      "/opt/anaconda3/lib/python3.12/site-packages/sklearn/linear_model/_logistic.py:1186: UserWarning: Setting penalty=None will ignore the C and l1_ratio parameters\n",
      "  warnings.warn(\n"
     ]
    },
    {
     "name": "stdout",
     "output_type": "stream",
     "text": [
      "[CV] END log_reg__C=0.00011390176182186649, log_reg__class_weight=balanced, log_reg__max_iter=1000, log_reg__penalty=None, log_reg__solver=saga; total time=   0.9s\n"
     ]
    },
    {
     "name": "stderr",
     "output_type": "stream",
     "text": [
      "/opt/anaconda3/lib/python3.12/site-packages/sklearn/linear_model/_logistic.py:1186: UserWarning: Setting penalty=None will ignore the C and l1_ratio parameters\n",
      "  warnings.warn(\n"
     ]
    },
    {
     "name": "stdout",
     "output_type": "stream",
     "text": [
      "[CV] END log_reg__C=0.00011390176182186649, log_reg__class_weight=balanced, log_reg__max_iter=1000, log_reg__penalty=None, log_reg__solver=saga; total time=   0.8s\n"
     ]
    },
    {
     "name": "stderr",
     "output_type": "stream",
     "text": [
      "/opt/anaconda3/lib/python3.12/site-packages/sklearn/linear_model/_logistic.py:1186: UserWarning: Setting penalty=None will ignore the C and l1_ratio parameters\n",
      "  warnings.warn(\n"
     ]
    },
    {
     "name": "stdout",
     "output_type": "stream",
     "text": [
      "[CV] END log_reg__C=0.00011390176182186649, log_reg__class_weight=balanced, log_reg__max_iter=1000, log_reg__penalty=None, log_reg__solver=saga; total time=   0.9s\n"
     ]
    },
    {
     "name": "stderr",
     "output_type": "stream",
     "text": [
      "/opt/anaconda3/lib/python3.12/site-packages/sklearn/linear_model/_logistic.py:1186: UserWarning: Setting penalty=None will ignore the C and l1_ratio parameters\n",
      "  warnings.warn(\n"
     ]
    },
    {
     "name": "stdout",
     "output_type": "stream",
     "text": [
      "[CV] END log_reg__C=0.00011390176182186649, log_reg__class_weight=balanced, log_reg__max_iter=1000, log_reg__penalty=None, log_reg__solver=saga; total time=   0.9s\n",
      "[CV] END log_reg__C=0.15808394808776696, log_reg__class_weight=None, log_reg__max_iter=3000, log_reg__penalty=l1, log_reg__solver=liblinear; total time=   0.4s\n",
      "[CV] END log_reg__C=0.15808394808776696, log_reg__class_weight=None, log_reg__max_iter=3000, log_reg__penalty=l1, log_reg__solver=liblinear; total time=   0.3s\n",
      "[CV] END log_reg__C=0.15808394808776696, log_reg__class_weight=None, log_reg__max_iter=3000, log_reg__penalty=l1, log_reg__solver=liblinear; total time=   0.4s\n",
      "[CV] END log_reg__C=0.15808394808776696, log_reg__class_weight=None, log_reg__max_iter=3000, log_reg__penalty=l1, log_reg__solver=liblinear; total time=   0.4s\n",
      "[CV] END log_reg__C=0.15808394808776696, log_reg__class_weight=None, log_reg__max_iter=3000, log_reg__penalty=l1, log_reg__solver=liblinear; total time=   0.4s\n",
      "[CV] END log_reg__C=191.16469627784303, log_reg__class_weight=balanced, log_reg__max_iter=3000, log_reg__penalty=l2, log_reg__solver=saga; total time=   1.0s\n",
      "[CV] END log_reg__C=191.16469627784303, log_reg__class_weight=balanced, log_reg__max_iter=3000, log_reg__penalty=l2, log_reg__solver=saga; total time=   0.9s\n",
      "[CV] END log_reg__C=191.16469627784303, log_reg__class_weight=balanced, log_reg__max_iter=3000, log_reg__penalty=l2, log_reg__solver=saga; total time=   0.9s\n",
      "[CV] END log_reg__C=191.16469627784303, log_reg__class_weight=balanced, log_reg__max_iter=3000, log_reg__penalty=l2, log_reg__solver=saga; total time=   0.9s\n",
      "[CV] END log_reg__C=191.16469627784303, log_reg__class_weight=balanced, log_reg__max_iter=3000, log_reg__penalty=l2, log_reg__solver=saga; total time=   0.9s\n",
      "[CV] END log_reg__C=757.7453045410584, log_reg__class_weight=balanced, log_reg__max_iter=1000, log_reg__penalty=l2, log_reg__solver=saga; total time=   0.9s\n",
      "[CV] END log_reg__C=757.7453045410584, log_reg__class_weight=balanced, log_reg__max_iter=1000, log_reg__penalty=l2, log_reg__solver=saga; total time=   0.8s\n",
      "[CV] END log_reg__C=757.7453045410584, log_reg__class_weight=balanced, log_reg__max_iter=1000, log_reg__penalty=l2, log_reg__solver=saga; total time=   0.7s\n",
      "[CV] END log_reg__C=757.7453045410584, log_reg__class_weight=balanced, log_reg__max_iter=1000, log_reg__penalty=l2, log_reg__solver=saga; total time=   0.8s\n",
      "[CV] END log_reg__C=757.7453045410584, log_reg__class_weight=balanced, log_reg__max_iter=1000, log_reg__penalty=l2, log_reg__solver=saga; total time=   0.8s\n",
      "[CV] END log_reg__C=0.00012767906371238518, log_reg__class_weight=balanced, log_reg__max_iter=2000, log_reg__penalty=l1, log_reg__solver=liblinear; total time=   0.2s\n",
      "[CV] END log_reg__C=0.00012767906371238518, log_reg__class_weight=balanced, log_reg__max_iter=2000, log_reg__penalty=l1, log_reg__solver=liblinear; total time=   0.2s\n",
      "[CV] END log_reg__C=0.00012767906371238518, log_reg__class_weight=balanced, log_reg__max_iter=2000, log_reg__penalty=l1, log_reg__solver=liblinear; total time=   0.2s\n",
      "[CV] END log_reg__C=0.00012767906371238518, log_reg__class_weight=balanced, log_reg__max_iter=2000, log_reg__penalty=l1, log_reg__solver=liblinear; total time=   0.2s\n",
      "[CV] END log_reg__C=0.00012767906371238518, log_reg__class_weight=balanced, log_reg__max_iter=2000, log_reg__penalty=l1, log_reg__solver=liblinear; total time=   0.2s\n"
     ]
    },
    {
     "name": "stderr",
     "output_type": "stream",
     "text": [
      "/opt/anaconda3/lib/python3.12/site-packages/sklearn/model_selection/_validation.py:547: FitFailedWarning: \n",
      "5 fits failed out of a total of 50.\n",
      "The score on these train-test partitions for these parameters will be set to nan.\n",
      "If these failures are not expected, you can try to debug them by setting error_score='raise'.\n",
      "\n",
      "Below are more details about the failures:\n",
      "--------------------------------------------------------------------------------\n",
      "5 fits failed with the following error:\n",
      "Traceback (most recent call last):\n",
      "  File \"/opt/anaconda3/lib/python3.12/site-packages/sklearn/model_selection/_validation.py\", line 895, in _fit_and_score\n",
      "    estimator.fit(X_train, y_train, **fit_params)\n",
      "  File \"/opt/anaconda3/lib/python3.12/site-packages/sklearn/base.py\", line 1474, in wrapper\n",
      "    return fit_method(estimator, *args, **kwargs)\n",
      "           ^^^^^^^^^^^^^^^^^^^^^^^^^^^^^^^^^^^^^^\n",
      "  File \"/opt/anaconda3/lib/python3.12/site-packages/sklearn/pipeline.py\", line 475, in fit\n",
      "    self._final_estimator.fit(Xt, y, **last_step_params[\"fit\"])\n",
      "  File \"/opt/anaconda3/lib/python3.12/site-packages/sklearn/base.py\", line 1474, in wrapper\n",
      "    return fit_method(estimator, *args, **kwargs)\n",
      "           ^^^^^^^^^^^^^^^^^^^^^^^^^^^^^^^^^^^^^^\n",
      "  File \"/opt/anaconda3/lib/python3.12/site-packages/sklearn/linear_model/_logistic.py\", line 1172, in fit\n",
      "    solver = _check_solver(self.solver, self.penalty, self.dual)\n",
      "             ^^^^^^^^^^^^^^^^^^^^^^^^^^^^^^^^^^^^^^^^^^^^^^^^^^^\n",
      "  File \"/opt/anaconda3/lib/python3.12/site-packages/sklearn/linear_model/_logistic.py\", line 67, in _check_solver\n",
      "    raise ValueError(\n",
      "ValueError: Solver lbfgs supports only 'l2' or None penalties, got l1 penalty.\n",
      "\n",
      "  warnings.warn(some_fits_failed_message, FitFailedWarning)\n",
      "/opt/anaconda3/lib/python3.12/site-packages/sklearn/model_selection/_search.py:1051: UserWarning: One or more of the test scores are non-finite: [0.64872914 0.648732          nan 0.64873754 0.64836667 0.64873198\n",
      " 0.6487402  0.64873202 0.648732   0.56126285]\n",
      "  warnings.warn(\n"
     ]
    },
    {
     "name": "stdout",
     "output_type": "stream",
     "text": [
      "Best Parameters:  {'log_reg__C': 0.15808394808776696, 'log_reg__class_weight': None, 'log_reg__max_iter': 3000, 'log_reg__penalty': 'l1', 'log_reg__solver': 'liblinear'}\n",
      "Best ROC AUC:  0.6487401975950998\n"
     ]
    }
   ],
   "source": [
    "# Initialize SMOTE and apply it separately\n",
    "smote = SMOTE(random_state=42)\n",
    "\n",
    "# Apply SMOTE to resample the training data\n",
    "X_train_resampled, y_train_resampled = smote.fit_resample(X_train, y_train)\n",
    "\n",
    "# Initialize RandomizedSearchCV\n",
    "random_search = RandomizedSearchCV(\n",
    "    estimator=pipeline,\n",
    "    param_distributions=param_dist,\n",
    "    n_iter=10,  # Number of random combinations to try\n",
    "    cv=5,  # Number of folds in cross-validation\n",
    "    scoring=\"roc_auc\",  # Use ROC AUC as the evaluation metric\n",
    "    random_state=42,\n",
    "    verbose=2,\n",
    "    n_jobs=1  # Use all available CPUs\n",
    ")\n",
    "\n",
    "# Fit the model using the random search\n",
    "random_search.fit(X_train_resampled, y_train_resampled)\n",
    "\n",
    "# Print the best parameters and score\n",
    "print(\"Best Parameters: \", random_search.best_params_)\n",
    "print(\"Best ROC AUC: \", random_search.best_score_)\n"
   ]
  },
  {
   "cell_type": "code",
   "execution_count": 129,
   "id": "e81f50aa-2127-4127-8cd8-d4227f849485",
   "metadata": {},
   "outputs": [
    {
     "data": {
      "image/png": "[encoded data removed]",
      "text/plain": [
       "<Figure size 600x500 with 2 Axes>"
      ]
     },
     "metadata": {},
     "output_type": "display_data"
    },
    {
     "name": "stdout",
     "output_type": "stream",
     "text": [
      "\n",
      "Classification Report:\n",
      "              precision    recall  f1-score   support\n",
      "\n",
      "           0       0.44      0.57      0.50     15157\n",
      "           1       0.75      0.64      0.69     30897\n",
      "\n",
      "    accuracy                           0.62     46054\n",
      "   macro avg       0.59      0.60      0.59     46054\n",
      "weighted avg       0.65      0.62      0.63     46054\n",
      "\n",
      "Accuracy: 0.6157\n",
      "Precision: 0.7526\n",
      "Recall: 0.6362\n",
      "F1 Score: 0.6896\n",
      "ROC AUC: 0.6484\n",
      "Balanced Accuracy: 0.6050\n"
     ]
    },
    {
     "data": {
      "image/png": "[encoded data removed]",
      "text/plain": [
       "<Figure size 600x500 with 1 Axes>"
      ]
     },
     "metadata": {},
     "output_type": "display_data"
    },
    {
     "data": {
      "image/png": "[encoded data removed]",
      "text/plain": [
       "<Figure size 600x500 with 1 Axes>"
      ]
     },
     "metadata": {},
     "output_type": "display_data"
    }
   ],
   "source": [
    "from sklearn.metrics import accuracy_score, precision_score, recall_score, f1_score, roc_auc_score, balanced_accuracy_score\n",
    "import matplotlib.pyplot as plt\n",
    "import seaborn as sns\n",
    "from sklearn.metrics import precision_recall_curve, average_precision_score\n",
    "\n",
    "# Generate predictions for the test set\n",
    "y_pred = random_search.best_estimator_.predict(X_test)\n",
    "y_pred_prob = random_search.best_estimator_.predict_proba(X_test)[:, 1]  # For ROC AUC and Precision-Recall\n",
    "\n",
    "# Confusion Matrix\n",
    "cm = confusion_matrix(y_test, y_pred)\n",
    "\n",
    "# Print confusion matrix\n",
    "#print(\"Confusion Matrix:\")\n",
    "#print(cm)\n",
    "\n",
    "# Visualize confusion matrix using heatmap\n",
    "plt.figure(figsize=(6, 5))\n",
    "sns.heatmap(cm, annot=True, fmt='d', cmap='Blues', xticklabels=['Non-Firearm', 'Firearm'], yticklabels=['Non-Firearm', 'Firearm'])\n",
    "plt.title(\"Confusion Matrix\")\n",
    "plt.xlabel(\"Predicted Labels\")\n",
    "plt.ylabel(\"True Labels\")\n",
    "plt.show()\n",
    "\n",
    "# Classification Report\n",
    "print(\"\\nClassification Report:\")\n",
    "print(classification_report(y_test, y_pred))\n",
    "\n",
    "# Compute evaluation metrics\n",
    "accuracy = accuracy_score(y_test, y_pred)\n",
    "precision = precision_score(y_test, y_pred)\n",
    "recall = recall_score(y_test, y_pred)\n",
    "f1 = f1_score(y_test, y_pred)\n",
    "roc_auc = roc_auc_score(y_test, y_pred_prob)\n",
    "balanced_accuracy = balanced_accuracy_score(y_test, y_pred)\n",
    "\n",
    "# Print metrics\n",
    "print(f\"Accuracy: {accuracy:.4f}\")\n",
    "print(f\"Precision: {precision:.4f}\")\n",
    "print(f\"Recall: {recall:.4f}\")\n",
    "print(f\"F1 Score: {f1:.4f}\")\n",
    "print(f\"ROC AUC: {roc_auc:.4f}\")\n",
    "print(f\"Balanced Accuracy: {balanced_accuracy:.4f}\")\n",
    "\n",
    "# Compute Precision-Recall curve and average precision score\n",
    "precision_curve, recall_curve, _ = precision_recall_curve(y_test, y_pred_prob)\n",
    "average_precision = average_precision_score(y_test, y_pred_prob)\n",
    "\n",
    "# Plot Precision-Recall curve\n",
    "plt.figure(figsize=(6, 5))\n",
    "plt.plot(recall_curve, precision_curve, label=f\"Precision-Recall curve (AP = {average_precision:.4f})\")\n",
    "plt.title(\"Precision-Recall Curve\")\n",
    "plt.xlabel(\"Recall\")\n",
    "plt.ylabel(\"Precision\")\n",
    "plt.legend(loc=\"lower left\")\n",
    "plt.show()\n",
    "\n",
    "# Compute ROC curve\n",
    "fpr, tpr, thresholds = roc_curve(y_test, y_pred_prob)\n",
    "\n",
    "# Plot ROC Curve\n",
    "plt.figure(figsize=(6, 5))\n",
    "plt.plot(fpr, tpr, color='darkorange', label=f\"ROC curve (AUC = {roc_auc:.4f})\")\n",
    "plt.plot([0, 1], [0, 1], color='navy', linestyle='--')  # Diagonal line for random classifier\n",
    "plt.title(\"ROC Curve\")\n",
    "plt.xlabel(\"False Positive Rate\")\n",
    "plt.ylabel(\"True Positive Rate\")\n",
    "plt.legend(loc=\"lower right\")\n",
    "plt.show()\n"
   ]
  },
  {
   "cell_type": "code",
   "execution_count": 131,
   "id": "5de7af71-c917-4901-b5f0-a8223c8786fc",
   "metadata": {},
   "outputs": [
    {
     "name": "stdout",
     "output_type": "stream",
     "text": [
      "Optimization terminated successfully.\n",
      "         Current function value: 0.657540\n",
      "         Iterations 5\n",
      "                           Logit Regression Results                           \n",
      "==============================================================================\n",
      "Dep. Variable:        Weapon Category   No. Observations:               144182\n",
      "Model:                          Logit   Df Residuals:                   144168\n",
      "Method:                           MLE   Df Model:                           13\n",
      "Date:                Sun, 12 Jan 2025   Pseudo R-squ.:                 0.05137\n",
      "Time:                        22:11:18   Log-Likelihood:                -94805.\n",
      "converged:                       True   LL-Null:                       -99939.\n",
      "Covariance Type:            nonrobust   LLR p-value:                     0.000\n",
      "======================================================================================================\n",
      "                                         coef    std err          z      P>|z|      [0.025      0.975]\n",
      "------------------------------------------------------------------------------------------------------\n",
      "const                                 -1.5950      0.034    -46.257      0.000      -1.663      -1.527\n",
      "Region_Northeast                      -0.3991      0.026    -15.204      0.000      -0.451      -0.348\n",
      "Region_South                           0.2921      0.020     14.690      0.000       0.253       0.331\n",
      "Region_West                           -0.0139      0.021     -0.672      0.502      -0.054       0.027\n",
      "Relationship Category_Family          -0.2797      0.018    -15.408      0.000      -0.315      -0.244\n",
      "Relationship Category_Lover            0.5078      0.018     28.177      0.000       0.473       0.543\n",
      "Relationship Category_Stranger         0.6037      0.014     43.316      0.000       0.576       0.631\n",
      "Agency Type_Other Police               0.2661      0.029      9.335      0.000       0.210       0.322\n",
      "Agency Type_Sheriff                    0.2827      0.014     20.213      0.000       0.255       0.310\n",
      "Victim Sex_Male                        0.6763      0.015     45.981      0.000       0.647       0.705\n",
      "Perpetrator Sex_Male                   0.7180      0.019     38.137      0.000       0.681       0.755\n",
      "Victim Ethnicity_Not Hispanic         -0.2153      0.020    -11.004      0.000      -0.254      -0.177\n",
      "Perpetrator Ethnicity_Not Hispanic     0.3401      0.019     17.514      0.000       0.302       0.378\n",
      "Victim Age Scaled                     -0.1873      0.005    -34.535      0.000      -0.198      -0.177\n",
      "======================================================================================================\n"
     ]
    }
   ],
   "source": [
    "import statsmodels.api as sm\n",
    "import pandas as pd\n",
    "\n",
    "# Add a constant to the features for statsmodels\n",
    "X_train_with_const = sm.add_constant(X_train_resampled)\n",
    "\n",
    "# Fit the logistic regression model using statsmodels\n",
    "log_reg_sm = sm.Logit(y_train_resampled, X_train_with_const)\n",
    "result = log_reg_sm.fit()\n",
    "\n",
    "# Print the summary report with F-statistic, t-statistics, p-values, etc.\n",
    "print(result.summary())\n"
   ]
  },
  {
   "cell_type": "raw",
   "id": "5229102b-7837-42b7-8d9b-1211c39a93c9",
   "metadata": {},
   "source": [
    "from sklearn.metrics import accuracy_score, precision_score, recall_score, f1_score, roc_auc_score\n",
    "import matplotlib.pyplot as plt\n",
    "import seaborn as sns\n",
    "\n",
    "# Generate predictions for the test set\n",
    "y_pred = random_search.best_estimator_.predict(X_test)\n",
    "y_pred_prob = random_search.best_estimator_.predict_proba(X_test)[:, 1]  # For ROC AUC\n",
    "\n",
    "# Confusion Matrix\n",
    "cm = confusion_matrix(y_test, y_pred)\n",
    "\n",
    "# Print confusion matrix\n",
    "print(\"Confusion Matrix:\")\n",
    "print(cm)\n",
    "\n",
    "# Visualize confusion matrix using heatmap\n",
    "plt.figure(figsize=(6, 5))\n",
    "sns.heatmap(cm, annot=True, fmt='d', cmap='Blues', xticklabels=['Non-Firearm', 'Firearm'], yticklabels=['Non-Firearm', 'Firearm'])\n",
    "plt.title(\"Confusion Matrix\")\n",
    "plt.xlabel(\"Predicted Labels\")\n",
    "plt.ylabel(\"True Labels\")\n",
    "plt.show()\n",
    "\n",
    "# Classification Report\n",
    "print(\"\\nClassification Report:\")\n",
    "print(classification_report(y_test, y_pred))\n",
    "\n",
    "# Compute evaluation metrics\n",
    "accuracy = accuracy_score(y_test, y_pred)\n",
    "precision = precision_score(y_test, y_pred)\n",
    "recall = recall_score(y_test, y_pred)\n",
    "f1 = f1_score(y_test, y_pred)\n",
    "roc_auc = roc_auc_score(y_test, y_pred_prob)\n",
    "\n",
    "# Print metrics\n",
    "print(f\"Accuracy: {accuracy:.4f}\")\n",
    "print(f\"Precision: {precision:.4f}\")\n",
    "print(f\"Recall: {recall:.4f}\")\n",
    "print(f\"F1 Score: {f1:.4f}\")\n",
    "print(f\"ROC AUC: {roc_auc:.4f}\")\n",
    "\n",
    "# Compute ROC curve\n",
    "fpr, tpr, thresholds = roc_curve(y_test, y_pred_prob)\n",
    "\n",
    "# Plot ROC Curve\n",
    "plt.figure(figsize=(6, 5))\n",
    "plt.plot(fpr, tpr, label=f\"ROC curve (AUC = {roc_auc:.4f})\")\n",
    "plt.plot([0, 1], [0, 1], color='navy', linestyle='--')  # Diagonal line for random classifier\n",
    "plt.title(\"ROC Curve\")\n",
    "plt.xlabel(\"False Positive Rate\")\n",
    "plt.ylabel(\"True Positive Rate\")\n",
    "plt.legend(loc=\"lower right\")\n",
    "plt.show()\n"
   ]
  },
  {
   "cell_type": "raw",
   "id": "e5f727ac-7ef9-4238-bff6-53e1eafd12fc",
   "metadata": {},
   "source": [
    "from sklearn.metrics import confusion_matrix, classification_report, roc_curve, roc_auc_score\n",
    "import matplotlib.pyplot as plt\n",
    "import seaborn as sns\n",
    "\n",
    "# Generate predictions for the test set\n",
    "y_pred = random_search.best_estimator_.predict(X_test)\n",
    "\n",
    "# Confusion Matrix\n",
    "cm = confusion_matrix(y_test, y_pred)\n",
    "\n",
    "# Print confusion matrix\n",
    "print(\"Confusion Matrix:\")\n",
    "print(cm)\n",
    "\n",
    "# Visualize confusion matrix using heatmap\n",
    "plt.figure(figsize=(6, 5))\n",
    "sns.heatmap(cm, annot=True, fmt='d', cmap='Blues', xticklabels=['Non-Firearm', 'Firearm'], yticklabels=['Non-Firearm', 'Firearm'])\n",
    "plt.title(\"Confusion Matrix\")\n",
    "plt.xlabel(\"Predicted Labels\")\n",
    "plt.ylabel(\"True Labels\")\n",
    "plt.show()\n",
    "\n",
    "# Classification Report\n",
    "print(\"\\nClassification Report:\")\n",
    "print(classification_report(y_test, y_pred))\n",
    "\n",
    "# Compute ROC AUC Score\n",
    "roc_auc = roc_auc_score(y_test, y_pred)\n",
    "print(f\"ROC AUC Score: {roc_auc:.4f}\")\n",
    "\n",
    "# Compute ROC curve\n",
    "fpr, tpr, thresholds = roc_curve(y_test, random_search.best_estimator_.predict_proba(X_test)[:, 1])\n",
    "\n",
    "# Plot ROC Curve\n",
    "plt.figure(figsize=(6, 5))\n",
    "plt.plot(fpr, tpr, color='darkorange', label=f\"ROC curve (AUC = {roc_auc:.4f})\")\n",
    "plt.plot([0, 1], [0, 1], color='navy', linestyle='--')  # Diagonal line for random classifier\n",
    "plt.title(\"ROC Curve\")\n",
    "plt.xlabel(\"False Positive Rate\")\n",
    "plt.ylabel(\"True Positive Rate\")\n",
    "plt.legend(loc=\"lower right\")\n",
    "plt.show()\n"
   ]
  },
  {
   "cell_type": "raw",
   "id": "925c3a93-d078-4c78-b3fd-a9a5f9889da9",
   "metadata": {},
   "source": [
    "# Encode target variable `y_train` as numeric (0 and 1)\n",
    "label_encoder = LabelEncoder()\n",
    "y_train_numeric = label_encoder.fit_transform(y_train)\n",
    "\n",
    "# Ensure that `X_train` is numeric by one-hot encoding categorical features\n",
    "X_train_encoded = pd.get_dummies(X_train, drop_first=True)\n"
   ]
  }
 ],
 "metadata": {
  "kernelspec": {
   "display_name": "Python 3 (ipykernel)",
   "language": "python",
   "name": "python3"
  },
  "language_info": {
   "codemirror_mode": {
    "name": "ipython",
    "version": 3
   },
   "file_extension": ".py",
   "mimetype": "text/x-python",
   "name": "python",
   "nbconvert_exporter": "python",
   "pygments_lexer": "ipython3",
   "version": "3.12.4"
  }
 },
 "nbformat": 4,
 "nbformat_minor": 5
}
