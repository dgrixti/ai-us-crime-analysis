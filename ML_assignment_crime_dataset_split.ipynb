{
 "cells": [
  {
   "cell_type": "code",
   "execution_count": 270,
   "id": "93570f24-a5f5-464b-b4de-06125492e968",
   "metadata": {},
   "outputs": [],
   "source": [
    "import pandas as pd\n",
    "import numpy as np\n",
    "import seaborn as sns\n",
    "import matplotlib.pyplot as plt\n",
    "%matplotlib inline"
   ]
  },
  {
   "cell_type": "code",
   "execution_count": 272,
   "id": "61dc91eb-c634-4d66-9ff4-141ce8ab3fdf",
   "metadata": {},
   "outputs": [],
   "source": [
    "cr = pd.read_csv('ML_REVISED_V6_noyear_nounknowns.csv')"
   ]
  },
  {
   "cell_type": "code",
   "execution_count": 284,
   "id": "19ab5ef0-901a-4aeb-8e9a-e7805b5faba4",
   "metadata": {},
   "outputs": [
    {
     "data": {
      "text/plain": [
       "Index(['State', 'Month', 'Victim Sex', 'Victim Age', 'Victim Race',\n",
       "       'Victim Ethnicity', 'Perpetrator Sex', 'Perpetrator Race',\n",
       "       'Perpetrator Ethnicity', 'Relationship Category', 'Agency_Type_grouped',\n",
       "       'Weapon Category'],\n",
       "      dtype='object')"
      ]
     },
     "execution_count": 284,
     "metadata": {},
     "output_type": "execute_result"
    }
   ],
   "source": [
    "cr.columns"
   ]
  },
  {
   "cell_type": "code",
   "execution_count": 278,
   "id": "bf4a4e4d-a8ee-4024-aa71-2fe46d1df3a5",
   "metadata": {},
   "outputs": [],
   "source": [
    "# list columns to convert to categorical\n",
    "categ_columns = ['State','Month','Victim Sex','Victim Race','Victim Ethnicity','Perpetrator Sex','Perpetrator Race','Perpetrator Ethnicity','Relationship Category','Agency_Type_grouped','Weapon Category']\n",
    "\n",
    "# convert columns to categorical\n",
    "cr[categ_columns] = cr[categ_columns].astype('category')"
   ]
  },
  {
   "cell_type": "code",
   "execution_count": 280,
   "id": "980c87c6-44d5-46a7-a4de-05b39037c183",
   "metadata": {},
   "outputs": [
    {
     "name": "stdout",
     "output_type": "stream",
     "text": [
      "<class 'pandas.core.frame.DataFrame'>\n",
      "RangeIndex: 153511 entries, 0 to 153510\n",
      "Data columns (total 12 columns):\n",
      " #   Column                 Non-Null Count   Dtype   \n",
      "---  ------                 --------------   -----   \n",
      " 0   State                  153511 non-null  category\n",
      " 1   Month                  153511 non-null  category\n",
      " 2   Victim Sex             153511 non-null  category\n",
      " 3   Victim Age             153511 non-null  int64   \n",
      " 4   Victim Race            153511 non-null  category\n",
      " 5   Victim Ethnicity       153511 non-null  category\n",
      " 6   Perpetrator Sex        153511 non-null  category\n",
      " 7   Perpetrator Race       153511 non-null  category\n",
      " 8   Perpetrator Ethnicity  153511 non-null  category\n",
      " 9   Relationship Category  153511 non-null  category\n",
      " 10  Agency_Type_grouped    153511 non-null  category\n",
      " 11  Weapon Category        153511 non-null  category\n",
      "dtypes: category(11), int64(1)\n",
      "memory usage: 2.8 MB\n"
     ]
    }
   ],
   "source": [
    "cr.info()"
   ]
  },
  {
   "cell_type": "code",
   "execution_count": 286,
   "id": "5e638ace-40a1-4b55-9dfc-23ebccdf1463",
   "metadata": {},
   "outputs": [],
   "source": [
    "# features - all categories except for 'Weapon Category' + victim age\n",
    "crime_features = cr[['State','Month','Victim Sex','Victim Race','Victim Ethnicity','Victim Age','Perpetrator Sex','Perpetrator Race','Perpetrator Ethnicity','Relationship Category','Agency_Type_grouped']]\n",
    "\n",
    "# target\n",
    "weapon_target = cr['Weapon Category']"
   ]
  },
  {
   "cell_type": "code",
   "execution_count": 254,
   "id": "d303ddcf-4b97-40de-be5e-9c7edfd26819",
   "metadata": {},
   "outputs": [],
   "source": []
  },
  {
   "cell_type": "code",
   "execution_count": 288,
   "id": "7f64af7e-e4cc-4281-b9bb-ab133dda1d3b",
   "metadata": {},
   "outputs": [],
   "source": []
  },
  {
   "cell_type": "code",
   "execution_count": null,
   "id": "3a2eb4e7-4256-48bf-8474-03e00757f811",
   "metadata": {},
   "outputs": [],
   "source": []
  },
  {
   "cell_type": "code",
   "execution_count": null,
   "id": "489c1d10-979e-402d-8597-d739e99319fd",
   "metadata": {},
   "outputs": [],
   "source": []
  },
  {
   "cell_type": "code",
   "execution_count": null,
   "id": "d03c7b3e-99b0-4b43-95e3-fabb09a78040",
   "metadata": {},
   "outputs": [],
   "source": []
  }
 ],
 "metadata": {
  "kernelspec": {
   "display_name": "Python 3 (ipykernel)",
   "language": "python",
   "name": "python3"
  },
  "language_info": {
   "codemirror_mode": {
    "name": "ipython",
    "version": 3
   },
   "file_extension": ".py",
   "mimetype": "text/x-python",
   "name": "python",
   "nbconvert_exporter": "python",
   "pygments_lexer": "ipython3",
   "version": "3.12.4"
  }
 },
 "nbformat": 4,
 "nbformat_minor": 5
}
