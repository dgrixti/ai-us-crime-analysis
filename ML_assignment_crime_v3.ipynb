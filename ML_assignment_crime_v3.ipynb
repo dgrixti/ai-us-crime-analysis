{
 "cells": [
  {
   "cell_type": "code",
   "execution_count": 1,
   "id": "8ddf5413-d957-44de-96f3-c9bf72e227a4",
   "metadata": {},
   "outputs": [],
   "source": [
    "import pandas as pd\n",
    "import numpy as np\n",
    "import seaborn as sns\n",
    "import matplotlib.pyplot as plt\n",
    "%matplotlib inline"
   ]
  },
  {
   "cell_type": "code",
   "execution_count": 2,
   "id": "cd604578-c735-4930-8f3c-001a564a83fe",
   "metadata": {},
   "outputs": [
    {
     "name": "stderr",
     "output_type": "stream",
     "text": [
      "/tmp/ipykernel_12115/8041877.py:3: DtypeWarning: Columns (16) have mixed types. Specify dtype option on import or set low_memory=False.\n",
      "  data2 = pd.read_csv(\"dataset2.csv\")\n"
     ]
    }
   ],
   "source": [
    "#cr = pd.read_csv('US_Crime_DataSet.csv')\n",
    "data1 = pd.read_csv(\"dataset1.csv\")\n",
    "data2 = pd.read_csv(\"dataset2.csv\")\n",
    "cr = pd.concat([data1, data2], ignore_index=True)\n",
    "\n",
    "# note that column 16 is 'Perpetrator Age' with Dtype 'object'. Below it is to be changed to numeric"
   ]
  },
  {
   "cell_type": "code",
   "execution_count": 3,
   "id": "1b1d3c4d-796e-4c06-91bb-b6ce2f6d8aa6",
   "metadata": {},
   "outputs": [],
   "source": [
    "cr = pd.DataFrame(cr)"
   ]
  },
  {
   "cell_type": "code",
   "execution_count": 4,
   "id": "25a46a14-f51b-4cf6-8375-a132e11ead47",
   "metadata": {},
   "outputs": [
    {
     "data": {
      "text/plain": [
       "(638454, 24)"
      ]
     },
     "execution_count": 4,
     "metadata": {},
     "output_type": "execute_result"
    }
   ],
   "source": [
    "cr.shape"
   ]
  },
  {
   "cell_type": "code",
   "execution_count": 5,
   "id": "c3a90382-9b43-43ac-8f00-80ae9a34d28e",
   "metadata": {},
   "outputs": [
    {
     "data": {
      "text/html": [
       "<div>\n",
       "<style scoped>\n",
       "    .dataframe tbody tr th:only-of-type {\n",
       "        vertical-align: middle;\n",
       "    }\n",
       "\n",
       "    .dataframe tbody tr th {\n",
       "        vertical-align: top;\n",
       "    }\n",
       "\n",
       "    .dataframe thead th {\n",
       "        text-align: right;\n",
       "    }\n",
       "</style>\n",
       "<table border=\"1\" class=\"dataframe\">\n",
       "  <thead>\n",
       "    <tr style=\"text-align: right;\">\n",
       "      <th></th>\n",
       "      <th>Record ID</th>\n",
       "      <th>Agency Code</th>\n",
       "      <th>Agency Name</th>\n",
       "      <th>Agency Type</th>\n",
       "      <th>City</th>\n",
       "      <th>State</th>\n",
       "      <th>Year</th>\n",
       "      <th>Month</th>\n",
       "      <th>Incident</th>\n",
       "      <th>Crime Type</th>\n",
       "      <th>...</th>\n",
       "      <th>Victim Ethnicity</th>\n",
       "      <th>Perpetrator Sex</th>\n",
       "      <th>Perpetrator Age</th>\n",
       "      <th>Perpetrator Race</th>\n",
       "      <th>Perpetrator Ethnicity</th>\n",
       "      <th>Relationship</th>\n",
       "      <th>Weapon</th>\n",
       "      <th>Victim Count</th>\n",
       "      <th>Perpetrator Count</th>\n",
       "      <th>Record Source</th>\n",
       "    </tr>\n",
       "  </thead>\n",
       "  <tbody>\n",
       "    <tr>\n",
       "      <th>0</th>\n",
       "      <td>1</td>\n",
       "      <td>AK00101</td>\n",
       "      <td>Anchorage</td>\n",
       "      <td>Municipal Police</td>\n",
       "      <td>Anchorage</td>\n",
       "      <td>Alaska</td>\n",
       "      <td>1980</td>\n",
       "      <td>January</td>\n",
       "      <td>1</td>\n",
       "      <td>Murder or Manslaughter</td>\n",
       "      <td>...</td>\n",
       "      <td>Unknown</td>\n",
       "      <td>Male</td>\n",
       "      <td>15</td>\n",
       "      <td>Native American/Alaska Native</td>\n",
       "      <td>Unknown</td>\n",
       "      <td>Acquaintance</td>\n",
       "      <td>Blunt Object</td>\n",
       "      <td>0</td>\n",
       "      <td>0</td>\n",
       "      <td>FBI</td>\n",
       "    </tr>\n",
       "    <tr>\n",
       "      <th>1</th>\n",
       "      <td>2</td>\n",
       "      <td>AK00101</td>\n",
       "      <td>Anchorage</td>\n",
       "      <td>Municipal Police</td>\n",
       "      <td>Anchorage</td>\n",
       "      <td>Alaska</td>\n",
       "      <td>1980</td>\n",
       "      <td>March</td>\n",
       "      <td>1</td>\n",
       "      <td>Murder or Manslaughter</td>\n",
       "      <td>...</td>\n",
       "      <td>Unknown</td>\n",
       "      <td>Male</td>\n",
       "      <td>42</td>\n",
       "      <td>White</td>\n",
       "      <td>Unknown</td>\n",
       "      <td>Acquaintance</td>\n",
       "      <td>Strangulation</td>\n",
       "      <td>0</td>\n",
       "      <td>0</td>\n",
       "      <td>FBI</td>\n",
       "    </tr>\n",
       "    <tr>\n",
       "      <th>2</th>\n",
       "      <td>3</td>\n",
       "      <td>AK00101</td>\n",
       "      <td>Anchorage</td>\n",
       "      <td>Municipal Police</td>\n",
       "      <td>Anchorage</td>\n",
       "      <td>Alaska</td>\n",
       "      <td>1980</td>\n",
       "      <td>March</td>\n",
       "      <td>2</td>\n",
       "      <td>Murder or Manslaughter</td>\n",
       "      <td>...</td>\n",
       "      <td>Unknown</td>\n",
       "      <td>Unknown</td>\n",
       "      <td>0</td>\n",
       "      <td>Unknown</td>\n",
       "      <td>Unknown</td>\n",
       "      <td>Unknown</td>\n",
       "      <td>Unknown</td>\n",
       "      <td>0</td>\n",
       "      <td>0</td>\n",
       "      <td>FBI</td>\n",
       "    </tr>\n",
       "    <tr>\n",
       "      <th>3</th>\n",
       "      <td>4</td>\n",
       "      <td>AK00101</td>\n",
       "      <td>Anchorage</td>\n",
       "      <td>Municipal Police</td>\n",
       "      <td>Anchorage</td>\n",
       "      <td>Alaska</td>\n",
       "      <td>1980</td>\n",
       "      <td>April</td>\n",
       "      <td>1</td>\n",
       "      <td>Murder or Manslaughter</td>\n",
       "      <td>...</td>\n",
       "      <td>Unknown</td>\n",
       "      <td>Male</td>\n",
       "      <td>42</td>\n",
       "      <td>White</td>\n",
       "      <td>Unknown</td>\n",
       "      <td>Acquaintance</td>\n",
       "      <td>Strangulation</td>\n",
       "      <td>0</td>\n",
       "      <td>0</td>\n",
       "      <td>FBI</td>\n",
       "    </tr>\n",
       "    <tr>\n",
       "      <th>4</th>\n",
       "      <td>5</td>\n",
       "      <td>AK00101</td>\n",
       "      <td>Anchorage</td>\n",
       "      <td>Municipal Police</td>\n",
       "      <td>Anchorage</td>\n",
       "      <td>Alaska</td>\n",
       "      <td>1980</td>\n",
       "      <td>April</td>\n",
       "      <td>2</td>\n",
       "      <td>Murder or Manslaughter</td>\n",
       "      <td>...</td>\n",
       "      <td>Unknown</td>\n",
       "      <td>Unknown</td>\n",
       "      <td>0</td>\n",
       "      <td>Unknown</td>\n",
       "      <td>Unknown</td>\n",
       "      <td>Unknown</td>\n",
       "      <td>Unknown</td>\n",
       "      <td>0</td>\n",
       "      <td>1</td>\n",
       "      <td>FBI</td>\n",
       "    </tr>\n",
       "  </tbody>\n",
       "</table>\n",
       "<p>5 rows × 24 columns</p>\n",
       "</div>"
      ],
      "text/plain": [
       "   Record ID Agency Code Agency Name       Agency Type       City   State  \\\n",
       "0          1     AK00101   Anchorage  Municipal Police  Anchorage  Alaska   \n",
       "1          2     AK00101   Anchorage  Municipal Police  Anchorage  Alaska   \n",
       "2          3     AK00101   Anchorage  Municipal Police  Anchorage  Alaska   \n",
       "3          4     AK00101   Anchorage  Municipal Police  Anchorage  Alaska   \n",
       "4          5     AK00101   Anchorage  Municipal Police  Anchorage  Alaska   \n",
       "\n",
       "   Year    Month  Incident              Crime Type  ... Victim Ethnicity  \\\n",
       "0  1980  January         1  Murder or Manslaughter  ...          Unknown   \n",
       "1  1980    March         1  Murder or Manslaughter  ...          Unknown   \n",
       "2  1980    March         2  Murder or Manslaughter  ...          Unknown   \n",
       "3  1980    April         1  Murder or Manslaughter  ...          Unknown   \n",
       "4  1980    April         2  Murder or Manslaughter  ...          Unknown   \n",
       "\n",
       "  Perpetrator Sex  Perpetrator Age               Perpetrator Race  \\\n",
       "0            Male               15  Native American/Alaska Native   \n",
       "1            Male               42                          White   \n",
       "2         Unknown                0                        Unknown   \n",
       "3            Male               42                          White   \n",
       "4         Unknown                0                        Unknown   \n",
       "\n",
       "  Perpetrator Ethnicity  Relationship         Weapon Victim Count  \\\n",
       "0               Unknown  Acquaintance   Blunt Object            0   \n",
       "1               Unknown  Acquaintance  Strangulation            0   \n",
       "2               Unknown       Unknown        Unknown            0   \n",
       "3               Unknown  Acquaintance  Strangulation            0   \n",
       "4               Unknown       Unknown        Unknown            0   \n",
       "\n",
       "  Perpetrator Count Record Source  \n",
       "0                 0           FBI  \n",
       "1                 0           FBI  \n",
       "2                 0           FBI  \n",
       "3                 0           FBI  \n",
       "4                 1           FBI  \n",
       "\n",
       "[5 rows x 24 columns]"
      ]
     },
     "execution_count": 5,
     "metadata": {},
     "output_type": "execute_result"
    }
   ],
   "source": [
    "cr.head()"
   ]
  },
  {
   "cell_type": "code",
   "execution_count": 6,
   "id": "64461975-7660-4775-b7be-4bb50bb806ae",
   "metadata": {},
   "outputs": [
    {
     "name": "stdout",
     "output_type": "stream",
     "text": [
      "<class 'pandas.core.frame.DataFrame'>\n",
      "RangeIndex: 638454 entries, 0 to 638453\n",
      "Data columns (total 24 columns):\n",
      " #   Column                 Non-Null Count   Dtype \n",
      "---  ------                 --------------   ----- \n",
      " 0   Record ID              638454 non-null  int64 \n",
      " 1   Agency Code            638454 non-null  object\n",
      " 2   Agency Name            638454 non-null  object\n",
      " 3   Agency Type            638454 non-null  object\n",
      " 4   City                   638454 non-null  object\n",
      " 5   State                  638454 non-null  object\n",
      " 6   Year                   638454 non-null  int64 \n",
      " 7   Month                  638454 non-null  object\n",
      " 8   Incident               638454 non-null  int64 \n",
      " 9   Crime Type             638454 non-null  object\n",
      " 10  Crime Solved           638454 non-null  object\n",
      " 11  Victim Sex             638454 non-null  object\n",
      " 12  Victim Age             638454 non-null  int64 \n",
      " 13  Victim Race            638454 non-null  object\n",
      " 14  Victim Ethnicity       638454 non-null  object\n",
      " 15  Perpetrator Sex        638454 non-null  object\n",
      " 16  Perpetrator Age        638454 non-null  object\n",
      " 17  Perpetrator Race       638454 non-null  object\n",
      " 18  Perpetrator Ethnicity  638454 non-null  object\n",
      " 19  Relationship           638454 non-null  object\n",
      " 20  Weapon                 638454 non-null  object\n",
      " 21  Victim Count           638454 non-null  int64 \n",
      " 22  Perpetrator Count      638454 non-null  int64 \n",
      " 23  Record Source          638454 non-null  object\n",
      "dtypes: int64(6), object(18)\n",
      "memory usage: 116.9+ MB\n"
     ]
    }
   ],
   "source": [
    "cr.info()"
   ]
  },
  {
   "cell_type": "code",
   "execution_count": 7,
   "id": "4c6c14c0-f972-4ee5-9203-10be94c12303",
   "metadata": {},
   "outputs": [],
   "source": [
    "# Strip whitespace from all string columns\n",
    "cr = cr.apply(lambda col: col.str.strip() if col.dtypes == 'object' else col)"
   ]
  },
  {
   "cell_type": "code",
   "execution_count": 8,
   "id": "de097f40-f0fc-447a-b520-ff50a625d204",
   "metadata": {},
   "outputs": [
    {
     "data": {
      "text/html": [
       "<div>\n",
       "<style scoped>\n",
       "    .dataframe tbody tr th:only-of-type {\n",
       "        vertical-align: middle;\n",
       "    }\n",
       "\n",
       "    .dataframe tbody tr th {\n",
       "        vertical-align: top;\n",
       "    }\n",
       "\n",
       "    .dataframe thead th {\n",
       "        text-align: right;\n",
       "    }\n",
       "</style>\n",
       "<table border=\"1\" class=\"dataframe\">\n",
       "  <thead>\n",
       "    <tr style=\"text-align: right;\">\n",
       "      <th></th>\n",
       "      <th>Record ID</th>\n",
       "      <th>Year</th>\n",
       "      <th>Incident</th>\n",
       "      <th>Victim Age</th>\n",
       "      <th>Victim Count</th>\n",
       "      <th>Perpetrator Count</th>\n",
       "    </tr>\n",
       "  </thead>\n",
       "  <tbody>\n",
       "    <tr>\n",
       "      <th>count</th>\n",
       "      <td>638454.00000</td>\n",
       "      <td>638454.000000</td>\n",
       "      <td>638454.000000</td>\n",
       "      <td>638454.000000</td>\n",
       "      <td>638454.000000</td>\n",
       "      <td>638454.000000</td>\n",
       "    </tr>\n",
       "    <tr>\n",
       "      <th>mean</th>\n",
       "      <td>319227.50000</td>\n",
       "      <td>1995.801102</td>\n",
       "      <td>22.967924</td>\n",
       "      <td>35.033512</td>\n",
       "      <td>0.123334</td>\n",
       "      <td>0.185224</td>\n",
       "    </tr>\n",
       "    <tr>\n",
       "      <th>std</th>\n",
       "      <td>184305.93872</td>\n",
       "      <td>9.927693</td>\n",
       "      <td>92.149821</td>\n",
       "      <td>41.628306</td>\n",
       "      <td>0.537733</td>\n",
       "      <td>0.585496</td>\n",
       "    </tr>\n",
       "    <tr>\n",
       "      <th>min</th>\n",
       "      <td>1.00000</td>\n",
       "      <td>1980.000000</td>\n",
       "      <td>0.000000</td>\n",
       "      <td>0.000000</td>\n",
       "      <td>0.000000</td>\n",
       "      <td>0.000000</td>\n",
       "    </tr>\n",
       "    <tr>\n",
       "      <th>25%</th>\n",
       "      <td>159614.25000</td>\n",
       "      <td>1987.000000</td>\n",
       "      <td>1.000000</td>\n",
       "      <td>22.000000</td>\n",
       "      <td>0.000000</td>\n",
       "      <td>0.000000</td>\n",
       "    </tr>\n",
       "    <tr>\n",
       "      <th>50%</th>\n",
       "      <td>319227.50000</td>\n",
       "      <td>1995.000000</td>\n",
       "      <td>2.000000</td>\n",
       "      <td>30.000000</td>\n",
       "      <td>0.000000</td>\n",
       "      <td>0.000000</td>\n",
       "    </tr>\n",
       "    <tr>\n",
       "      <th>75%</th>\n",
       "      <td>478840.75000</td>\n",
       "      <td>2004.000000</td>\n",
       "      <td>10.000000</td>\n",
       "      <td>42.000000</td>\n",
       "      <td>0.000000</td>\n",
       "      <td>0.000000</td>\n",
       "    </tr>\n",
       "    <tr>\n",
       "      <th>max</th>\n",
       "      <td>638454.00000</td>\n",
       "      <td>2014.000000</td>\n",
       "      <td>999.000000</td>\n",
       "      <td>998.000000</td>\n",
       "      <td>10.000000</td>\n",
       "      <td>10.000000</td>\n",
       "    </tr>\n",
       "  </tbody>\n",
       "</table>\n",
       "</div>"
      ],
      "text/plain": [
       "          Record ID           Year       Incident     Victim Age  \\\n",
       "count  638454.00000  638454.000000  638454.000000  638454.000000   \n",
       "mean   319227.50000    1995.801102      22.967924      35.033512   \n",
       "std    184305.93872       9.927693      92.149821      41.628306   \n",
       "min         1.00000    1980.000000       0.000000       0.000000   \n",
       "25%    159614.25000    1987.000000       1.000000      22.000000   \n",
       "50%    319227.50000    1995.000000       2.000000      30.000000   \n",
       "75%    478840.75000    2004.000000      10.000000      42.000000   \n",
       "max    638454.00000    2014.000000     999.000000     998.000000   \n",
       "\n",
       "        Victim Count  Perpetrator Count  \n",
       "count  638454.000000      638454.000000  \n",
       "mean        0.123334           0.185224  \n",
       "std         0.537733           0.585496  \n",
       "min         0.000000           0.000000  \n",
       "25%         0.000000           0.000000  \n",
       "50%         0.000000           0.000000  \n",
       "75%         0.000000           0.000000  \n",
       "max        10.000000          10.000000  "
      ]
     },
     "execution_count": 8,
     "metadata": {},
     "output_type": "execute_result"
    }
   ],
   "source": [
    "cr.describe()"
   ]
  },
  {
   "cell_type": "code",
   "execution_count": 9,
   "id": "7e333cb3-9db7-47c1-8af0-d9409598bf5c",
   "metadata": {},
   "outputs": [],
   "source": [
    "# Define the mapping for weapon categories\n",
    "weapon_mapping = {\n",
    "    'Blunt Object': 'Non-Firearm',\n",
    "    'Strangulation': 'Non-Firearm',\n",
    "    'Unknown': 'Unknown',\n",
    "    'Rifle': 'Firearm',\n",
    "    'Knife': 'Non-Firearm',\n",
    "    'Firearm': 'Firearm',\n",
    "    'Shotgun': 'Firearm',\n",
    "    'Fall': 'Non-Firearm',\n",
    "    'Handgun': 'Firearm',\n",
    "    'Drowning': 'Non-Firearm',\n",
    "    'Suffocation': 'Non-Firearm',\n",
    "    'Explosives': 'Non-Firearm',\n",
    "    'Fire': 'Non-Firearm',\n",
    "    'Drugs': 'Non-Firearm',\n",
    "    'Gun': 'Firearm',\n",
    "    'Poison': 'Non-Firearm'\n",
    "}\n",
    "\n",
    "# Apply the mapping to create a new column for weapon categories\n",
    "cr['Weapon Category'] = cr['Weapon'].replace(weapon_mapping)"
   ]
  },
  {
   "cell_type": "code",
   "execution_count": 10,
   "id": "d2eb04fc-13a8-47ec-ba63-556eecd3a7c7",
   "metadata": {},
   "outputs": [
    {
     "name": "stdout",
     "output_type": "stream",
     "text": [
      "<class 'pandas.core.frame.DataFrame'>\n",
      "RangeIndex: 638454 entries, 0 to 638453\n",
      "Data columns (total 25 columns):\n",
      " #   Column                 Non-Null Count   Dtype \n",
      "---  ------                 --------------   ----- \n",
      " 0   Record ID              638454 non-null  int64 \n",
      " 1   Agency Code            638454 non-null  object\n",
      " 2   Agency Name            638454 non-null  object\n",
      " 3   Agency Type            638454 non-null  object\n",
      " 4   City                   638454 non-null  object\n",
      " 5   State                  638454 non-null  object\n",
      " 6   Year                   638454 non-null  int64 \n",
      " 7   Month                  638454 non-null  object\n",
      " 8   Incident               638454 non-null  int64 \n",
      " 9   Crime Type             638454 non-null  object\n",
      " 10  Crime Solved           638454 non-null  object\n",
      " 11  Victim Sex             638454 non-null  object\n",
      " 12  Victim Age             638454 non-null  int64 \n",
      " 13  Victim Race            638454 non-null  object\n",
      " 14  Victim Ethnicity       638454 non-null  object\n",
      " 15  Perpetrator Sex        638454 non-null  object\n",
      " 16  Perpetrator Age        24315 non-null   object\n",
      " 17  Perpetrator Race       638454 non-null  object\n",
      " 18  Perpetrator Ethnicity  638454 non-null  object\n",
      " 19  Relationship           638454 non-null  object\n",
      " 20  Weapon                 638454 non-null  object\n",
      " 21  Victim Count           638454 non-null  int64 \n",
      " 22  Perpetrator Count      638454 non-null  int64 \n",
      " 23  Record Source          638454 non-null  object\n",
      " 24  Weapon Category        638454 non-null  object\n",
      "dtypes: int64(6), object(19)\n",
      "memory usage: 121.8+ MB\n"
     ]
    }
   ],
   "source": [
    "cr.info()"
   ]
  },
  {
   "cell_type": "code",
   "execution_count": 11,
   "id": "f13e513d-9797-44eb-a3ba-b7a0c21023ef",
   "metadata": {},
   "outputs": [],
   "source": [
    "# Define the mapping of relationships into broader categories\n",
    "relationship_mapping = {\n",
    "    'Acquaintance': 'Acquaintance',\n",
    "    'Friend': 'Acquaintance',\n",
    "    'Neighbor': 'Acquaintance',\n",
    "    'Employer': 'Acquaintance',\n",
    "    'Employee': 'Acquaintance',\n",
    "   \n",
    "    'Stranger': 'Stranger',\n",
    "   \n",
    "    'Wife': 'Lover',\n",
    "    'Husband': 'Lover',\n",
    "    'Girlfriend': 'Lover',\n",
    "    'Boyfriend': 'Lover',\n",
    "    'Ex-Husband': 'Lover',\n",
    "    'Ex-Wife': 'Lover',\n",
    "    'Common-Law Husband': 'Lover',\n",
    "    'Common-Law Wife': 'Lover',\n",
    "    'Boyfriend/Girlfriend': 'Lover',\n",
    "   \n",
    "    'Brother': 'Family',\n",
    "    'Sister': 'Family',\n",
    "    'Stepdaughter': 'Family',\n",
    "    'Son': 'Family',\n",
    "    'Daughter': 'Family',\n",
    "    'Father': 'Family',\n",
    "    'Mother': 'Family',\n",
    "    'Stepmother': 'Family',\n",
    "    'Stepfather': 'Family',\n",
    "    'Stepson': 'Family',\n",
    "    'Family': 'Family',\n",
    "    'In-Law' : 'Family',\n",
    "}\n",
    "\n",
    "# Apply the mapping to create a new column with broader relationship categories\n",
    "cr['Relationship Category'] = cr['Relationship'].replace(relationship_mapping)"
   ]
  },
  {
   "cell_type": "code",
   "execution_count": 12,
   "id": "5723ad06-957f-40a7-bef4-cc11fc73a5e8",
   "metadata": {},
   "outputs": [],
   "source": [
    "# list columns to convert to numeric\n",
    "int_columns = ['Perpetrator Age']\n",
    "\n",
    "# Convert column to integer, handling invalid entries\n",
    "for col in int_columns:\n",
    "    cr[col] = pd.to_numeric(cr[col], errors='coerce') # convert invalid values to NaN\n",
    "\n",
    "cr[col] = cr[col].fillna(0).astype(int) # Replace NaN with 0 and convert to integer"
   ]
  },
  {
   "cell_type": "code",
   "execution_count": 13,
   "id": "5f4676ac-dedf-4ca2-aee8-dc7210cf3eb7",
   "metadata": {},
   "outputs": [],
   "source": [
    "# list columns to convert to categorical\n",
    "categ_columns = ['Agency Code','Agency Name','Agency Type','City','State','Year','Month','Crime Type','Crime Solved','Victim Sex','Victim Race','Victim Ethnicity','Perpetrator Sex','Perpetrator Race','Perpetrator Ethnicity','Relationship','Weapon','Record Source']\n",
    "\n",
    "# convert columns to categorical\n",
    "cr[categ_columns] = cr[categ_columns].astype('category')"
   ]
  },
  {
   "cell_type": "code",
   "execution_count": 14,
   "id": "9245eebb-f3f7-4742-a485-5364a72d3f27",
   "metadata": {},
   "outputs": [
    {
     "name": "stdout",
     "output_type": "stream",
     "text": [
      "<class 'pandas.core.frame.DataFrame'>\n",
      "RangeIndex: 638454 entries, 0 to 638453\n",
      "Data columns (total 26 columns):\n",
      " #   Column                 Non-Null Count   Dtype   \n",
      "---  ------                 --------------   -----   \n",
      " 0   Record ID              638454 non-null  int64   \n",
      " 1   Agency Code            638454 non-null  category\n",
      " 2   Agency Name            638454 non-null  category\n",
      " 3   Agency Type            638454 non-null  category\n",
      " 4   City                   638454 non-null  category\n",
      " 5   State                  638454 non-null  category\n",
      " 6   Year                   638454 non-null  category\n",
      " 7   Month                  638454 non-null  category\n",
      " 8   Incident               638454 non-null  int64   \n",
      " 9   Crime Type             638454 non-null  category\n",
      " 10  Crime Solved           638454 non-null  category\n",
      " 11  Victim Sex             638454 non-null  category\n",
      " 12  Victim Age             638454 non-null  int64   \n",
      " 13  Victim Race            638454 non-null  category\n",
      " 14  Victim Ethnicity       638454 non-null  category\n",
      " 15  Perpetrator Sex        638454 non-null  category\n",
      " 16  Perpetrator Age        638454 non-null  int64   \n",
      " 17  Perpetrator Race       638454 non-null  category\n",
      " 18  Perpetrator Ethnicity  638454 non-null  category\n",
      " 19  Relationship           638454 non-null  category\n",
      " 20  Weapon                 638454 non-null  category\n",
      " 21  Victim Count           638454 non-null  int64   \n",
      " 22  Perpetrator Count      638454 non-null  int64   \n",
      " 23  Record Source          638454 non-null  category\n",
      " 24  Weapon Category        638454 non-null  object  \n",
      " 25  Relationship Category  638454 non-null  object  \n",
      "dtypes: category(18), int64(6), object(2)\n",
      "memory usage: 52.5+ MB\n"
     ]
    }
   ],
   "source": [
    "cr.info()"
   ]
  },
  {
   "cell_type": "code",
   "execution_count": 15,
   "id": "4292f514-5590-4f4c-91e9-ec6e09e4b533",
   "metadata": {},
   "outputs": [
    {
     "data": {
      "text/plain": [
       "<seaborn.axisgrid.FacetGrid at 0x7f048e419040>"
      ]
     },
     "execution_count": 15,
     "metadata": {},
     "output_type": "execute_result"
    },
    {
     "data": {
      "image/png": "[encoded data removed]",
      "text/plain": [
       "<Figure size 500x500 with 1 Axes>"
      ]
     },
     "metadata": {},
     "output_type": "display_data"
    }
   ],
   "source": [
    "sns.displot(cr['Victim Age'],kde=False,color='r',kind='hist',bins=30)"
   ]
  },
  {
   "cell_type": "code",
   "execution_count": 16,
   "id": "68c90536-bcbd-40ef-a48a-fb75a7354aa7",
   "metadata": {},
   "outputs": [
    {
     "name": "stdout",
     "output_type": "stream",
     "text": [
      "        Record ID Agency Code      Agency Name       Agency Type        City  \\\n",
      "0               1     AK00101        Anchorage  Municipal Police   Anchorage   \n",
      "1               2     AK00101        Anchorage  Municipal Police   Anchorage   \n",
      "2               3     AK00101        Anchorage  Municipal Police   Anchorage   \n",
      "3               4     AK00101        Anchorage  Municipal Police   Anchorage   \n",
      "4               5     AK00101        Anchorage  Municipal Police   Anchorage   \n",
      "...           ...         ...              ...               ...         ...   \n",
      "638449     638450     WY01500      Park County           Sheriff        Park   \n",
      "638450     638451     WY01700  Sheridan County           Sheriff    Sheridan   \n",
      "638451     638452     WY01701         Sheridan  Municipal Police    Sheridan   \n",
      "638452     638453     WY01800  Sublette County           Sheriff    Sublette   \n",
      "638453     638454     WY01902     Rock Springs  Municipal Police  Sweetwater   \n",
      "\n",
      "          State  Year      Month  Incident              Crime Type  ...  \\\n",
      "0        Alaska  1980    January         1  Murder or Manslaughter  ...   \n",
      "1        Alaska  1980      March         1  Murder or Manslaughter  ...   \n",
      "2        Alaska  1980      March         2  Murder or Manslaughter  ...   \n",
      "3        Alaska  1980      April         1  Murder or Manslaughter  ...   \n",
      "4        Alaska  1980      April         2  Murder or Manslaughter  ...   \n",
      "...         ...   ...        ...       ...                     ...  ...   \n",
      "638449  Wyoming  2014    January         1  Murder or Manslaughter  ...   \n",
      "638450  Wyoming  2014       June         1  Murder or Manslaughter  ...   \n",
      "638451  Wyoming  2014  September         1  Murder or Manslaughter  ...   \n",
      "638452  Wyoming  2014   December         1  Murder or Manslaughter  ...   \n",
      "638453  Wyoming  2014  September         1  Murder or Manslaughter  ...   \n",
      "\n",
      "       Perpetrator Age               Perpetrator Race  Perpetrator Ethnicity  \\\n",
      "0                    0  Native American/Alaska Native                Unknown   \n",
      "1                    0                          White                Unknown   \n",
      "2                    0                        Unknown                Unknown   \n",
      "3                    0                          White                Unknown   \n",
      "4                    0                        Unknown                Unknown   \n",
      "...                ...                            ...                    ...   \n",
      "638449               0                        Unknown                Unknown   \n",
      "638450              57                          White                Unknown   \n",
      "638451              22         Asian/Pacific Islander                Unknown   \n",
      "638452              31                          White           Not Hispanic   \n",
      "638453              24                          White           Not Hispanic   \n",
      "\n",
      "        Relationship         Weapon Victim Count  Perpetrator Count  \\\n",
      "0       Acquaintance   Blunt Object            0                  0   \n",
      "1       Acquaintance  Strangulation            0                  0   \n",
      "2            Unknown        Unknown            0                  0   \n",
      "3       Acquaintance  Strangulation            0                  0   \n",
      "4            Unknown        Unknown            0                  1   \n",
      "...              ...            ...          ...                ...   \n",
      "638449       Unknown        Handgun            0                  0   \n",
      "638450  Acquaintance        Handgun            0                  0   \n",
      "638451      Daughter    Suffocation            0                  0   \n",
      "638452      Stranger          Knife            0                  1   \n",
      "638453      Daughter   Blunt Object            0                  1   \n",
      "\n",
      "       Record Source Weapon Category Relationship Category  \n",
      "0                FBI     Non-Firearm          Acquaintance  \n",
      "1                FBI     Non-Firearm          Acquaintance  \n",
      "2                FBI         Unknown               Unknown  \n",
      "3                FBI     Non-Firearm          Acquaintance  \n",
      "4                FBI         Unknown               Unknown  \n",
      "...              ...             ...                   ...  \n",
      "638449           FBI         Firearm               Unknown  \n",
      "638450           FBI         Firearm          Acquaintance  \n",
      "638451           FBI     Non-Firearm                Family  \n",
      "638452           FBI     Non-Firearm              Stranger  \n",
      "638453           FBI     Non-Firearm                Family  \n",
      "\n",
      "[638454 rows x 26 columns]\n"
     ]
    }
   ],
   "source": [
    "print(cr)"
   ]
  },
  {
   "cell_type": "code",
   "execution_count": 17,
   "id": "cc1ab2c2-9d94-43f0-a18a-6308b6d7c406",
   "metadata": {},
   "outputs": [
    {
     "data": {
      "text/plain": [
       "<Axes: xlabel='Year', ylabel='count'>"
      ]
     },
     "execution_count": 17,
     "metadata": {},
     "output_type": "execute_result"
    },
    {
     "data": {
      "image/png": "[encoded data removed]",
      "text/plain": [
       "<Figure size 1600x300 with 1 Axes>"
      ]
     },
     "metadata": {},
     "output_type": "display_data"
    }
   ],
   "source": [
    "# data on the full dataset\n",
    "plt.figure(figsize=(16,3), layout='constrained')\n",
    "sns.countplot(x='Year',data=cr) # note dataset used i.e. cr"
   ]
  },
  {
   "cell_type": "code",
   "execution_count": 18,
   "id": "267e49d5-d0c7-443c-be8f-843aba1850a4",
   "metadata": {},
   "outputs": [
    {
     "data": {
      "text/plain": [
       "Incident\n",
       "1      265528\n",
       "2       71779\n",
       "3       39236\n",
       "4       27113\n",
       "5       20658\n",
       "        ...  \n",
       "195        33\n",
       "196        32\n",
       "197        32\n",
       "198        31\n",
       "202        30\n",
       "Name: count, Length: 200, dtype: int64"
      ]
     },
     "execution_count": 18,
     "metadata": {},
     "output_type": "execute_result"
    }
   ],
   "source": [
    "# Count of Crime Solved vs Unsolved\n",
    "cr['Incident'].value_counts().nlargest(200)"
   ]
  },
  {
   "cell_type": "code",
   "execution_count": 19,
   "id": "b7fe85e8-16c3-477b-b9a7-e2f7bd666c0f",
   "metadata": {},
   "outputs": [],
   "source": [
    "# data on the full dataset\n",
    "\n",
    "# agency type - almost all agency type (around 480k is municipal police and around another 100k is sheriff) - could be dropped\n",
    "# city - there are over 1782 cities with the largest being LA (44.5k), NY (38.4k), Cook (22.4k), Wayne (19.9k), Harris (16.3k).\n",
    "## city could be dropped and we keep state.\n",
    "# State - 51 states with largest being California (99.8k), Texas (62.1k), NY (49.3k), Florida (37.2k), Michigan (28.4k).\n",
    "# Year - changed the data type from integer to category.\n",
    "# Month - distribution is very even across months, ranging from 46079 crimes in February to 58696 in July.\n",
    "## month could be a target variable as well\n",
    "# victim race - not too many unknowns\n",
    "# victim ethnicity - Over 350,000 counts of unknowns\n",
    "# weapon - unkown less than 35,000.\n",
    "## weapon could be the target variable and the number of categories could be reduced.\n",
    "# perpetrator sex - unkown around 200,000\n",
    "# perpetrator ethnicity - over 400,000 unkowns\n",
    "# perpetrator race - around 200,000 unknowns\n",
    "# relationships - a large number of unknowns i.e. 273013\n",
    "## could be grouped into acquaintance (a person one knows slightly, but who is not a close friend), stranger, friends (incl employee,  \n",
    "## employer, neighbours), family (linked by blood or by love, incl. exs, bfs & gfs)\n",
    "# Crime solved - around 200,000 no and over 400,000 yes\n",
    "# Crime type - could be dropped - over 600,000 crimes by 'murder or manslaughter' & a little 'manslaughter by negligence'."
   ]
  },
  {
   "cell_type": "code",
   "execution_count": 20,
   "id": "162c676f-0e82-4294-a9f8-d02b9e68f540",
   "metadata": {},
   "outputs": [],
   "source": [
    "# FOCUS ON CRIMES SOLVED"
   ]
  },
  {
   "cell_type": "code",
   "execution_count": 21,
   "id": "c4146e7c-18d9-4e46-a57e-497c21130acd",
   "metadata": {},
   "outputs": [
    {
     "name": "stdout",
     "output_type": "stream",
     "text": [
      "Filtered Dataset - Crime Solved is 'Yes'\n",
      "Crime Solved\n",
      "Yes    448172\n",
      "No          0\n",
      "Name: count, dtype: int64\n"
     ]
    }
   ],
   "source": [
    "# Focus on filtered dataset - Crime Solved is 'Yes'\n",
    "filt_cr = cr[cr['Crime Solved'] == 'Yes']\n",
    "print(\"Filtered Dataset - Crime Solved is 'Yes'\")\n",
    "print(filt_cr['Crime Solved'].value_counts())"
   ]
  },
  {
   "cell_type": "code",
   "execution_count": 22,
   "id": "19f20c03-494f-409b-b0f8-16b61d028754",
   "metadata": {},
   "outputs": [],
   "source": [
    "# NUMERICAL VARIABLES"
   ]
  },
  {
   "cell_type": "code",
   "execution_count": 23,
   "id": "64636b99-858e-461d-9ef9-c77a828a5951",
   "metadata": {},
   "outputs": [
    {
     "data": {
      "image/png": "[encoded data removed]",
      "text/plain": [
       "<Figure size 800x600 with 2 Axes>"
      ]
     },
     "metadata": {},
     "output_type": "display_data"
    }
   ],
   "source": [
    "# create numerical variables subset\n",
    "num_subset = filt_cr[['Incident', 'Victim Age', 'Perpetrator Age', 'Victim Count', 'Perpetrator Count']]\n",
    "\n",
    "# calculate the correlation subset\n",
    "corr_num_subset = num_subset.dropna().corr()\n",
    "\n",
    "# plot heatmap\n",
    "plt.figure(figsize=(8,6))\n",
    "sns.heatmap(corr_num_subset, annot=True, linewidth=0.5, cmap='coolwarm')\n",
    "plt.title('Correlation Heatmap')\n",
    "plt.show()"
   ]
  },
  {
   "cell_type": "code",
   "execution_count": 24,
   "id": "7686ffdd-63cd-45af-94a4-a583cc0c2d2c",
   "metadata": {},
   "outputs": [],
   "source": [
    "# from above note the low correlation between numerical variables."
   ]
  },
  {
   "cell_type": "code",
   "execution_count": 25,
   "id": "6f8f955b-2b42-4e11-9964-1a335630e287",
   "metadata": {},
   "outputs": [],
   "source": [
    "# numerical variables such as perpetrator count and incident which we may have difficulty understanding, we should remove. What do these\n",
    "## two mean exactly?"
   ]
  },
  {
   "cell_type": "code",
   "execution_count": 26,
   "id": "4c6bca69-f284-4e79-98a0-5291c3252d76",
   "metadata": {},
   "outputs": [],
   "source": [
    "# CATEGORICAL VARIABLES"
   ]
  },
  {
   "cell_type": "code",
   "execution_count": 27,
   "id": "34247a2b-919c-4daa-8582-14b0f153e2de",
   "metadata": {},
   "outputs": [
    {
     "data": {
      "text/plain": [
       "Agency Type\n",
       "Municipal Police    336009\n",
       "Sheriff              82994\n",
       "County Police        15160\n",
       "State Police         11715\n",
       "Special Police        2058\n",
       "Regional Police        186\n",
       "Tribal Police           50\n",
       "Name: count, dtype: int64"
      ]
     },
     "execution_count": 27,
     "metadata": {},
     "output_type": "execute_result"
    }
   ],
   "source": [
    "# Count of selected variable or sum of count. Choose appropriate option:\n",
    "filt_cr['Agency Type'].value_counts()\n",
    "## filt_cr['Year'].value_counts().nlargest(100)\n",
    "## filt_cr['Year'].value_counts().sum()\n"
   ]
  },
  {
   "cell_type": "code",
   "execution_count": 28,
   "id": "cc6ce799-1eed-4f66-8a86-982cb6ae9663",
   "metadata": {},
   "outputs": [],
   "source": [
    "# data on the filtered dataset filt_cr\n",
    "\n",
    "# agency type - almost all agency type (around 336k is municipal police and around another 83kk is sheriff) - could be dropped\n",
    "# city - there are over 1782 cities with the largest being LA (26.7k), NY (19.2k), Cook (13.3k), Harris (13.1k), Wayne (12.7k).\n",
    "## city could be dropped and we keep state.\n",
    "# State - 51 states with largest being California (63.4k), Texas (47.4k), NY (26.7k), Florida (26.5k), Michigan (19.0k).\n",
    "# Year - changed the data type from integer to category.\n",
    "# Month - distribution is very even across months, ranging from 33258 crimes in February to 41468 in July.\n",
    "## month could be a target variable as well\n",
    "# victim sex - 337.6k male, 110.3k female, 331 unknown.\n",
    "# victim race - not too many unknowns (3.6k)\n",
    "# victim ethnicity - Over 255,000 counts of unknowns - could be reduced using cross tab\n",
    "# weapon - unkown less than 18.5k.\n",
    "## weapon could be the target variable and the number of categories could be reduced. Maybe two categories i.e. guns, fire & explosion vs\n",
    "## close encounters\n",
    "# perpetrator sex - 399.5k male, 48.5k female, 147 unknown.\n",
    "# perpetrator ethnicity - around 256k unkowns - could be reduced using cross tab\n",
    "# perpetrator race - around 6k unknowns\n",
    "# relationships - a large number of unknowns i.e. 94.9k (we could create groups and then make cross tabs)\n",
    "## could be grouped into acquaintance (a person one knows slightly, but who is not a close friend), stranger, friends (incl employee,  \n",
    "## employer, neighbours), family (linked by blood or by love, incl. exs, bfs & gfs)\n",
    "# Crime solved - filtered as yes and the full dataset is of 448.1k\n",
    "# Crime type - over 600,000 crimes by 'murder or manslaughter' & a little 'manslaughter by negligence'.\n",
    "## could be dropped \n",
    "# Record Source: FBI (191k) & FOIA only 625\n",
    "## drop"
   ]
  },
  {
   "cell_type": "code",
   "execution_count": 29,
   "id": "637a75e7-0d1e-410e-b595-8f27eae706de",
   "metadata": {},
   "outputs": [],
   "source": [
    "# Step 1: Extract relevant columns\n",
    "cr_vict_subset = filt_cr[['Victim Race','Victim Ethnicity']].copy()"
   ]
  },
  {
   "cell_type": "code",
   "execution_count": 30,
   "id": "4bf36c58-6d2b-48e8-96e1-c1a8816a6e25",
   "metadata": {},
   "outputs": [
    {
     "name": "stdout",
     "output_type": "stream",
     "text": [
      "Categories for each variable:\n",
      "Victim Race         ['Native American/Alaska Native', 'White', 'Bl...\n",
      "Victim Ethnicity    ['Unknown', 'Not Hispanic', 'Hispanic']\n",
      "Catego...\n",
      "dtype: object\n"
     ]
    }
   ],
   "source": [
    "vict = cr_vict_subset[['Victim Race','Victim Ethnicity']].apply(lambda col: col.unique())\n",
    "print(\"Categories for each variable:\")\n",
    "print(vict)"
   ]
  },
  {
   "cell_type": "code",
   "execution_count": 31,
   "id": "fefce5a8-3b73-458d-a360-be047780b824",
   "metadata": {},
   "outputs": [],
   "source": [
    "# Step 2: Replace 'unknown' with NaN for easier processing\n",
    "cr_vict_subset.replace('Unknown', np.nan, inplace=True)"
   ]
  },
  {
   "cell_type": "code",
   "execution_count": 32,
   "id": "05ce6805-4736-4347-9523-443c589b8a98",
   "metadata": {},
   "outputs": [
    {
     "name": "stdout",
     "output_type": "stream",
     "text": [
      "\n",
      "Conditional probabilities (Victim Ethnicity | Victim Race):\n",
      "Victim Ethnicity               Hispanic  Not Hispanic\n",
      "Victim Race                                          \n",
      "Asian/Pacific Islander         0.010816      0.989184\n",
      "Black                          0.011816      0.988184\n",
      "Native American/Alaska Native  0.004978      0.995022\n",
      "White                          0.401055      0.598945\n",
      "\n",
      "Conditional probabilities (Victim Race | Victim Ethnicity):\n",
      "Victim Race       Asian/Pacific Islander     Black  \\\n",
      "Victim Ethnicity                                     \n",
      "Hispanic                        0.010816  0.011816   \n",
      "Not Hispanic                    0.989184  0.988184   \n",
      "\n",
      "Victim Race       Native American/Alaska Native     White  \n",
      "Victim Ethnicity                                           \n",
      "Hispanic                               0.004978  0.401055  \n",
      "Not Hispanic                           0.995022  0.598945  \n"
     ]
    }
   ],
   "source": [
    "# Step 2a: Calculate conditional probabilities\n",
    "# Cross-tabulation of race and ethnicity\n",
    "prob_vict_ethn_given_race = pd.crosstab(cr_vict_subset['Victim Race'], cr_vict_subset['Victim Ethnicity'], normalize='index')\n",
    "prob_vict_race_given_ethnicity = pd.crosstab(cr_vict_subset['Victim Ethnicity'], cr_vict_subset['Victim Race'], normalize='columns')\n",
    "\n",
    "print(\"\\nConditional probabilities (Victim Ethnicity | Victim Race):\")\n",
    "print(prob_vict_ethn_given_race)\n",
    "\n",
    "print(\"\\nConditional probabilities (Victim Race | Victim Ethnicity):\")\n",
    "print(prob_vict_race_given_ethnicity)"
   ]
  },
  {
   "cell_type": "code",
   "execution_count": 33,
   "id": "6c6d8f44-a510-4aa6-9338-74dcd7d27e1c",
   "metadata": {},
   "outputs": [
    {
     "name": "stdout",
     "output_type": "stream",
     "text": [
      "\n",
      "Missing values per column:\n",
      "Victim Race           3592\n",
      "Victim Ethnicity    255032\n",
      "dtype: int64\n",
      "\n",
      "No missing values per column:\n",
      "Victim Race         444580\n",
      "Victim Ethnicity    193140\n",
      "dtype: int64\n"
     ]
    }
   ],
   "source": [
    "# Step 3: Analyse missingness \n",
    "print(\"\\nMissing values per column:\")\n",
    "print(cr_vict_subset.isnull().sum())\n",
    "\n",
    "# Step 3: Analyse non-missingness\n",
    "print(\"\\nNo missing values per column:\")\n",
    "print(cr_vict_subset.notnull().sum())"
   ]
  },
  {
   "cell_type": "code",
   "execution_count": 34,
   "id": "5975498d-087e-4d92-8ab8-1d0f74e15c51",
   "metadata": {},
   "outputs": [
    {
     "name": "stdout",
     "output_type": "stream",
     "text": [
      "\n",
      "Conditional probabilities (Victim Ethnicity | Victim Race):\n",
      "Victim Ethnicity               Hispanic  Not Hispanic\n",
      "Victim Race                                          \n",
      "Asian/Pacific Islander         0.010816      0.989184\n",
      "Black                          0.011816      0.988184\n",
      "Native American/Alaska Native  0.004978      0.995022\n",
      "White                          0.401055      0.598945\n",
      "\n",
      "Conditional probabilities (Victim Race | Victim Ethnicity):\n",
      "Victim Race       Asian/Pacific Islander     Black  \\\n",
      "Victim Ethnicity                                     \n",
      "Hispanic                        0.010816  0.011816   \n",
      "Not Hispanic                    0.989184  0.988184   \n",
      "\n",
      "Victim Race       Native American/Alaska Native     White  \n",
      "Victim Ethnicity                                           \n",
      "Hispanic                               0.004978  0.401055  \n",
      "Not Hispanic                           0.995022  0.598945  \n"
     ]
    }
   ],
   "source": [
    "# Step 4: Calculate conditional probabilities\n",
    "# Cross-tabulation of race and ethnicity\n",
    "prob_vict_ethn_given_race = pd.crosstab(cr_vict_subset['Victim Race'], cr_vict_subset['Victim Ethnicity'], normalize='index')\n",
    "prob_vict_race_given_ethnicity = pd.crosstab(cr_vict_subset['Victim Ethnicity'], cr_vict_subset['Victim Race'], normalize='columns')\n",
    "\n",
    "print(\"\\nConditional probabilities (Victim Ethnicity | Victim Race):\")\n",
    "print(prob_vict_ethn_given_race)\n",
    "\n",
    "print(\"\\nConditional probabilities (Victim Race | Victim Ethnicity):\")\n",
    "print(prob_vict_race_given_ethnicity)"
   ]
  },
  {
   "cell_type": "code",
   "execution_count": 35,
   "id": "c4019453-8ca5-406e-b733-bd0f23584506",
   "metadata": {},
   "outputs": [],
   "source": [
    "# Step 4a: Apply chi-square test for association between 2 categorical variables (victim race & ethnicity)\n",
    "## If there is a significant association between variables we can impute missing values"
   ]
  },
  {
   "cell_type": "code",
   "execution_count": 36,
   "id": "fe2e9754-77f3-4b22-9c9f-623a3db7703b",
   "metadata": {},
   "outputs": [],
   "source": [
    "from scipy.stats import chi2_contingency"
   ]
  },
  {
   "cell_type": "code",
   "execution_count": 37,
   "id": "d5f2b671-8e1e-4764-aeb1-a0502163029e",
   "metadata": {},
   "outputs": [],
   "source": [
    "# Consider creating a contingency table for perpetrator race and ethnicity\n",
    "## If there is a significant association between variables we can impute missing values\n",
    "### Key assumptions:\n",
    "#### Data must be categorical\n",
    "#### Expected frequency for each cell in the contingency table should be 5 or more for valid results. Else, combine categories or use Fisher's \n",
    "##### exact test for small sample sizes.\n",
    "\n",
    "# Remove rows with unkowns\n",
    "#filt_cr = filt_cr.dropna()\n",
    "filt_cr = cr[(cr['Victim Race'] != 'Unknown') & (cr['Victim Ethnicity'] != 'Unknown')]"
   ]
  },
  {
   "cell_type": "code",
   "execution_count": 38,
   "id": "10b3e36e-cda9-41b6-95d7-ce72a1b9d457",
   "metadata": {},
   "outputs": [],
   "source": [
    "# Create a contingency table for victim race and ethnicity\n",
    "contingency_table = pd.crosstab(filt_cr['Victim Race'], filt_cr['Victim Ethnicity'])"
   ]
  },
  {
   "cell_type": "code",
   "execution_count": 39,
   "id": "e5495f2a-c629-4127-8ffd-f98c1dd32f3b",
   "metadata": {},
   "outputs": [],
   "source": [
    "# Perform the chi-square test\n",
    "chi2, p, dof, expected = chi2_contingency(contingency_table)"
   ]
  },
  {
   "cell_type": "code",
   "execution_count": 40,
   "id": "f289d425-21ad-4053-81c3-4cb4aa5905e0",
   "metadata": {},
   "outputs": [
    {
     "name": "stdout",
     "output_type": "stream",
     "text": [
      "\n",
      "Contingency Table:\n",
      " Victim Ethnicity               Hispanic  Not Hispanic\n",
      "Victim Race                                          \n",
      "Asian/Pacific Islander               52          5568\n",
      "Black                              1213        100973\n",
      "Native American/Alaska Native        11          2010\n",
      "White                             71199         88778\n",
      "\n",
      "Chi-square statistic: 62272.58294372772\n",
      "P-value 0.0\n",
      "Degrees of freedom: 3\n",
      "Expected frequencies:\n",
      " [[  1509.64959749   4110.35040251]\n",
      " [ 27449.29782361  74736.70217639]\n",
      " [   542.88288906   1478.11711094]\n",
      " [ 42973.16968985 117003.83031015]]\n"
     ]
    }
   ],
   "source": [
    "# Display results\n",
    "print(\"\\nContingency Table:\\n\", contingency_table)\n",
    "print(\"\\nChi-square statistic:\", chi2)\n",
    "print(\"P-value\", p)\n",
    "print(\"Degrees of freedom:\", dof)\n",
    "print(\"Expected frequencies:\\n\", expected)"
   ]
  },
  {
   "cell_type": "code",
   "execution_count": 41,
   "id": "916eb44f-9f87-4dfe-8d86-e6df9aac6d87",
   "metadata": {},
   "outputs": [
    {
     "name": "stdout",
     "output_type": "stream",
     "text": [
      "There is a significant association between the variables.\n"
     ]
    }
   ],
   "source": [
    "# Interpretation\n",
    "if p < 0.05:\n",
    "    print(\"There is a significant association between the variables.\")\n",
    "else:\n",
    "    print(\"There is no significant association between the variables.\")"
   ]
  },
  {
   "cell_type": "code",
   "execution_count": 42,
   "id": "d94057a5-13b4-49d5-a086-1407a594b39e",
   "metadata": {},
   "outputs": [
    {
     "name": "stdout",
     "output_type": "stream",
     "text": [
      "Chi-square statistic: 62272.58294372772\n",
      "Cramer's V: 0.4804235055528901\n"
     ]
    }
   ],
   "source": [
    "# Step 4b: Establish strength/degree of association\n",
    "## Now that we establish that association is significant we need to establish strength of association\n",
    "## Note that the variables are on a nominal scale and hence we could apply Cramer's V\n",
    "\n",
    "# Calculate Cramer's V\n",
    "n = contingency_table.to_numpy().sum() # total no. of observations\n",
    "k, r = contingency_table.shape # dimensions of the table\n",
    "cramers_v = np.sqrt(chi2 / (n * min(k - 1, r - 1)))\n",
    "\n",
    "# Display results\n",
    "print(\"Chi-square statistic:\", chi2)\n",
    "print(\"Cramer's V:\", cramers_v)\n",
    "\n",
    "# Interpretation of below:\n",
    "## V < 0.1: Weak\n",
    "## 0.1 ≤ V < 0.3: Moderate\n",
    "## V > 0.3: Strong\n",
    "\n",
    "# This sets the basis for imputing the missing values"
   ]
  },
  {
   "cell_type": "code",
   "execution_count": 43,
   "id": "04c0f2c8-943a-4687-9e27-a33bae433876",
   "metadata": {},
   "outputs": [],
   "source": [
    "# Step 5: Impute missing values\n",
    "## Function to impute Victim Ethnicity based on Victim Race\n",
    "def impute_vict_ethnicity(row, prob_table):\n",
    "    if pd.isnull(row['Victim Ethnicity']) and row ['Victim Race'] in prob_table.index:\n",
    "        return np.random.choice(prob_table.columns, p=prob_table.loc[row['Victim Race']].values)\n",
    "    return row['Victim Ethnicity']\n",
    "\n",
    "## Function to impute Victim Race based on Victim Ethnicity\n",
    "def impute_vict_race(row, prob_table):\n",
    "    if pd.isnull(row['Victim Race']) and row ['Victim Ethnicity'] in prob_table.columns:\n",
    "        return np.random.choice(prob_table.index, p=prob_table[row['Victim Ethnicity']].values)\n",
    "    return row['Victim Race']\n",
    "\n",
    "## Apply imputations\n",
    "cr_vict_subset['Victim Ethnicity'] = cr_vict_subset.apply(impute_vict_ethnicity, axis=1, prob_table=prob_vict_ethn_given_race)\n",
    "cr_vict_subset['Victim Race'] = cr_vict_subset.apply(impute_vict_race, axis=1, prob_table=prob_vict_race_given_ethnicity)"
   ]
  },
  {
   "cell_type": "code",
   "execution_count": 44,
   "id": "cd961bbc-fd14-4825-9fab-f1d89bc69188",
   "metadata": {},
   "outputs": [
    {
     "name": "stdout",
     "output_type": "stream",
     "text": [
      "                          Victim Race Victim Ethnicity\n",
      "0       Native American/Alaska Native     Not Hispanic\n",
      "1                               White     Not Hispanic\n",
      "3                               White     Not Hispanic\n",
      "5                               White     Not Hispanic\n",
      "6       Native American/Alaska Native         Hispanic\n",
      "...                               ...              ...\n",
      "638448  Native American/Alaska Native     Not Hispanic\n",
      "638450                          White     Not Hispanic\n",
      "638451         Asian/Pacific Islander     Not Hispanic\n",
      "638452                          White     Not Hispanic\n",
      "638453                          White     Not Hispanic\n",
      "\n",
      "[448172 rows x 2 columns]\n"
     ]
    }
   ],
   "source": [
    "print(cr_vict_subset)"
   ]
  },
  {
   "cell_type": "code",
   "execution_count": 45,
   "id": "96375eff-8590-4d6e-a019-017a9c8bc547",
   "metadata": {},
   "outputs": [
    {
     "name": "stderr",
     "output_type": "stream",
     "text": [
      "/tmp/ipykernel_12115/3232450012.py:2: SettingWithCopyWarning: \n",
      "A value is trying to be set on a copy of a slice from a DataFrame.\n",
      "Try using .loc[row_indexer,col_indexer] = value instead\n",
      "\n",
      "See the caveats in the documentation: https://pandas.pydata.org/pandas-docs/stable/user_guide/indexing.html#returning-a-view-versus-a-copy\n",
      "  filt_cr[['Victim Race', 'Victim Ethnicity']] = cr_vict_subset.fillna('nan')\n"
     ]
    }
   ],
   "source": [
    "# Step 6: Update the original dataset\n",
    "filt_cr[['Victim Race', 'Victim Ethnicity']] = cr_vict_subset.fillna('nan')\n",
    "# print(cr[['Victim Race', 'Victim Ethnicity']])"
   ]
  },
  {
   "cell_type": "code",
   "execution_count": 46,
   "id": "58623498-447f-420c-ab41-94454cab7610",
   "metadata": {},
   "outputs": [
    {
     "data": {
      "text/plain": [
       "<Axes: xlabel='Victim Ethnicity', ylabel='count'>"
      ]
     },
     "execution_count": 46,
     "metadata": {},
     "output_type": "execute_result"
    },
    {
     "data": {
      "image/png": "[encoded data removed]",
      "text/plain": [
       "<Figure size 1500x300 with 1 Axes>"
      ]
     },
     "metadata": {},
     "output_type": "display_data"
    }
   ],
   "source": [
    "# Step 7: Visualization\n",
    "plt.figure(figsize=(15,3))\n",
    "sns.countplot(x='Victim Ethnicity',data=filt_cr) # note dataset used i.e. cr"
   ]
  },
  {
   "cell_type": "code",
   "execution_count": 47,
   "id": "d014cb3f-b096-420f-b0c8-f6dbe5836aa7",
   "metadata": {},
   "outputs": [
    {
     "name": "stdout",
     "output_type": "stream",
     "text": [
      "\n",
      "Missing values per column:\n",
      "Victim Race         3592\n",
      "Victim Ethnicity    3346\n",
      "dtype: int64\n",
      "\n",
      "Not missing values per column:\n",
      "Victim Race         444580\n",
      "Victim Ethnicity    444826\n",
      "dtype: int64\n"
     ]
    }
   ],
   "source": [
    "# Step 8: Analyse missingness\n",
    "print(\"\\nMissing values per column:\")\n",
    "print(cr_vict_subset.isnull().sum())\n",
    "\n",
    "# Step 8: Analyse non-missingness\n",
    "print(\"\\nNot missing values per column:\")\n",
    "print(cr_vict_subset.notnull().sum())"
   ]
  },
  {
   "cell_type": "code",
   "execution_count": 48,
   "id": "205db910-b82a-4505-a165-8ec70d49584f",
   "metadata": {},
   "outputs": [
    {
     "name": "stdout",
     "output_type": "stream",
     "text": [
      "Victim Ethnicity Ratios:\n",
      "Victim Ethnicity\n",
      "Not Hispanic    0.754067\n",
      "Hispanic        0.245933\n",
      "Name: proportion, dtype: float64\n",
      "Victim Race Ratios:\n",
      "Victim Race\n",
      "White                            0.601672\n",
      "Black                            0.369866\n",
      "Asian/Pacific Islander           0.020130\n",
      "Native American/Alaska Native    0.008331\n",
      "Name: proportion, dtype: float64\n"
     ]
    }
   ],
   "source": [
    "# Step 9: Dealing with the remaining unknowns by distirbuting the unkown values across the categories based on calculated ratios\n",
    "## apply only if needed!\n",
    "# Calculate the proportions of known values\n",
    "vict_ethn_ratios = filt_cr['Victim Ethnicity'][filt_cr['Victim Ethnicity'] != 'Unknown'].value_counts(normalize=True)\n",
    "vict_race_ratios = filt_cr['Victim Race'][filt_cr['Victim Race'] != 'Unknown'].value_counts(normalize=True)\n",
    "\n",
    "print(\"Victim Ethnicity Ratios:\")\n",
    "print(vict_ethn_ratios)\n",
    "\n",
    "print(\"Victim Race Ratios:\")\n",
    "print(vict_race_ratios)"
   ]
  },
  {
   "cell_type": "code",
   "execution_count": 49,
   "id": "48c94868-1326-442c-a88d-6bba1e9f0e16",
   "metadata": {},
   "outputs": [
    {
     "name": "stderr",
     "output_type": "stream",
     "text": [
      "/tmp/ipykernel_12115/1380973275.py:11: SettingWithCopyWarning: \n",
      "A value is trying to be set on a copy of a slice from a DataFrame.\n",
      "Try using .loc[row_indexer,col_indexer] = value instead\n",
      "\n",
      "See the caveats in the documentation: https://pandas.pydata.org/pandas-docs/stable/user_guide/indexing.html#returning-a-view-versus-a-copy\n",
      "  filt_cr['Victim Ethnicity'] = filt_cr['Victim Ethnicity'].apply(assign_category, ratios = vict_ethn_ratios)\n",
      "/tmp/ipykernel_12115/1380973275.py:12: SettingWithCopyWarning: \n",
      "A value is trying to be set on a copy of a slice from a DataFrame.\n",
      "Try using .loc[row_indexer,col_indexer] = value instead\n",
      "\n",
      "See the caveats in the documentation: https://pandas.pydata.org/pandas-docs/stable/user_guide/indexing.html#returning-a-view-versus-a-copy\n",
      "  filt_cr['Victim Race'] = filt_cr['Victim Race'].apply(assign_category, ratios = vict_race_ratios)\n"
     ]
    }
   ],
   "source": [
    "# Step 10: Distribute Unknowns\n",
    "import random\n",
    "\n",
    "def assign_category(value, ratios):\n",
    "    \"\"\"Assigns a category based on the given ratios.\"\"\"\n",
    "    if value == 'Unknown':\n",
    "        return random.choices(ratios.index, weights=ratios.values, k=1)[0]\n",
    "    return value\n",
    "\n",
    "#Apply the function to fill in missing values\n",
    "filt_cr['Victim Ethnicity'] = filt_cr['Victim Ethnicity'].apply(assign_category, ratios = vict_ethn_ratios)\n",
    "filt_cr['Victim Race'] = filt_cr['Victim Race'].apply(assign_category, ratios = vict_race_ratios)"
   ]
  },
  {
   "cell_type": "code",
   "execution_count": 50,
   "id": "cbb19449-5f92-4c09-adb4-6236dbdb3aa8",
   "metadata": {},
   "outputs": [
    {
     "name": "stdout",
     "output_type": "stream",
     "text": [
      "\n",
      "Missing values per column:\n",
      "76910\n",
      "76910\n",
      "\n",
      "No missing values per column:\n",
      "192894\n",
      "192894\n"
     ]
    }
   ],
   "source": [
    "# Step 11: Analyse missingness \n",
    "print(\"\\nMissing values per column:\")\n",
    "print(filt_cr['Victim Ethnicity'].isnull().sum())\n",
    "print(filt_cr['Victim Race'].isnull().sum())\n",
    "\n",
    "print(\"\\nNo missing values per column:\")\n",
    "print(filt_cr['Victim Ethnicity'].notnull().sum())\n",
    "print(filt_cr['Victim Race'].notnull().sum())\n",
    "\n",
    "# Note that no missing values matches the Filtered Dataset - Crime Solved is 'Yes'"
   ]
  },
  {
   "cell_type": "code",
   "execution_count": 51,
   "id": "4cf5f6d4-ede0-49f6-9b0b-9957a889295e",
   "metadata": {},
   "outputs": [],
   "source": [
    "# Step 1: Extract relevant columns\n",
    "cr_perp_subset = filt_cr[['Perpetrator Race','Perpetrator Ethnicity']].copy()"
   ]
  },
  {
   "cell_type": "code",
   "execution_count": 52,
   "id": "d80553fb-2c5b-4516-8657-1f3744b5c67e",
   "metadata": {},
   "outputs": [
    {
     "name": "stdout",
     "output_type": "stream",
     "text": [
      "Categories for each variable:\n",
      "Perpetrator Race         ['Native American/Alaska Native', 'Black', 'Wh...\n",
      "Perpetrator Ethnicity    ['Not Hispanic', 'Unknown', 'Hispanic']\n",
      "Catego...\n",
      "dtype: object\n"
     ]
    }
   ],
   "source": [
    "perp = cr_perp_subset[['Perpetrator Race','Perpetrator Ethnicity']].apply(lambda col: col.unique())\n",
    "print(\"Categories for each variable:\")\n",
    "print(perp)"
   ]
  },
  {
   "cell_type": "code",
   "execution_count": 53,
   "id": "46af828d-52e8-4e03-99b6-c24f0e145639",
   "metadata": {},
   "outputs": [],
   "source": [
    "# Step 2: Replace 'unknown' with NaN for easier processing\n",
    "cr_perp_subset.replace('Unknown', np.nan, inplace=True)"
   ]
  },
  {
   "cell_type": "code",
   "execution_count": 54,
   "id": "0d9c91d0-f882-417f-bde8-af959554fc32",
   "metadata": {},
   "outputs": [
    {
     "name": "stdout",
     "output_type": "stream",
     "text": [
      "\n",
      "Conditional probabilities (Perpetrator Ethnicity | Perpetrator Race):\n",
      "Perpetrator Ethnicity          Hispanic  Not Hispanic\n",
      "Perpetrator Race                                     \n",
      "Asian/Pacific Islander         0.013855      0.986145\n",
      "Black                          0.010661      0.989339\n",
      "Native American/Alaska Native  0.009715      0.990285\n",
      "White                          0.414081      0.585919\n",
      "\n",
      "Conditional probabilities (Perpetrator Race | Perpetrator Ethnicity):\n",
      "Perpetrator Race       Asian/Pacific Islander     Black  \\\n",
      "Perpetrator Ethnicity                                     \n",
      "Hispanic                             0.013855  0.010661   \n",
      "Not Hispanic                         0.986145  0.989339   \n",
      "\n",
      "Perpetrator Race       Native American/Alaska Native     White  \n",
      "Perpetrator Ethnicity                                           \n",
      "Hispanic                                    0.009715  0.414081  \n",
      "Not Hispanic                                0.990285  0.585919  \n"
     ]
    }
   ],
   "source": [
    "# Step 2a: Calculate conditional probabilities\n",
    "# Cross-tabulation of race and ethnicity\n",
    "prob_perp_ethn_given_race = pd.crosstab(cr_perp_subset['Perpetrator Race'], cr_perp_subset['Perpetrator Ethnicity'], normalize='index')\n",
    "prob_perp_race_given_ethnicity = pd.crosstab(cr_perp_subset['Perpetrator Ethnicity'], cr_perp_subset['Perpetrator Race'], normalize='columns')\n",
    "\n",
    "print(\"\\nConditional probabilities (Perpetrator Ethnicity | Perpetrator Race):\")\n",
    "print(prob_perp_ethn_given_race)\n",
    "\n",
    "print(\"\\nConditional probabilities (Perpetrator Race | Perpetrator Ethnicity):\")\n",
    "print(prob_perp_race_given_ethnicity)"
   ]
  },
  {
   "cell_type": "code",
   "execution_count": 55,
   "id": "a36ee56d-c2b6-460a-96c1-6b520c1b7224",
   "metadata": {},
   "outputs": [
    {
     "name": "stdout",
     "output_type": "stream",
     "text": [
      "\n",
      "Missing values per column:\n",
      "Perpetrator Race         78577\n",
      "Perpetrator Ethnicity    79889\n",
      "dtype: int64\n",
      "\n",
      "Not missing values per column:\n",
      "Perpetrator Race         191227\n",
      "Perpetrator Ethnicity    189915\n",
      "dtype: int64\n"
     ]
    }
   ],
   "source": [
    "# Step 3: Analyse missingness\n",
    "print(\"\\nMissing values per column:\")\n",
    "print(cr_perp_subset.isnull().sum())\n",
    "\n",
    "# Step 3: Analyse non-missingness\n",
    "print(\"\\nNot missing values per column:\")\n",
    "print(cr_perp_subset.notnull().sum())"
   ]
  },
  {
   "cell_type": "code",
   "execution_count": 56,
   "id": "7a119d70-ed09-47d1-a538-44b997a4b069",
   "metadata": {},
   "outputs": [
    {
     "name": "stdout",
     "output_type": "stream",
     "text": [
      "\n",
      "Conditional probabilities (Perpetrator Ethnicity | Perpetrator Race):\n",
      "Perpetrator Ethnicity          Hispanic  Not Hispanic\n",
      "Perpetrator Race                                     \n",
      "Asian/Pacific Islander         0.013855      0.986145\n",
      "Black                          0.010661      0.989339\n",
      "Native American/Alaska Native  0.009715      0.990285\n",
      "White                          0.414081      0.585919\n",
      "\n",
      "Conditional probabilities (Perpetrator Race | Perpetrator Ethnicity):\n",
      "Perpetrator Race       Asian/Pacific Islander     Black  \\\n",
      "Perpetrator Ethnicity                                     \n",
      "Hispanic                             0.013855  0.010661   \n",
      "Not Hispanic                         0.986145  0.989339   \n",
      "\n",
      "Perpetrator Race       Native American/Alaska Native     White  \n",
      "Perpetrator Ethnicity                                           \n",
      "Hispanic                                    0.009715  0.414081  \n",
      "Not Hispanic                                0.990285  0.585919  \n"
     ]
    }
   ],
   "source": [
    "# Step 4: Calculate conditional probabilities\n",
    "# Cross-tabulation of race and ethnicity\n",
    "prob_perp_ethn_given_race = pd.crosstab(cr_perp_subset['Perpetrator Race'], cr_perp_subset['Perpetrator Ethnicity'], normalize='index')\n",
    "prob_perp_race_given_ethnicity = pd.crosstab(cr_perp_subset['Perpetrator Ethnicity'], cr_perp_subset['Perpetrator Race'], normalize='columns')\n",
    "\n",
    "print(\"\\nConditional probabilities (Perpetrator Ethnicity | Perpetrator Race):\")\n",
    "print(prob_perp_ethn_given_race)\n",
    "\n",
    "print(\"\\nConditional probabilities (Perpetrator Race | Perpetrator Ethnicity):\")\n",
    "print(prob_perp_race_given_ethnicity)"
   ]
  },
  {
   "cell_type": "code",
   "execution_count": 57,
   "id": "e99d9c6d-8fe7-4054-9ad1-b3c8222673d4",
   "metadata": {},
   "outputs": [
    {
     "name": "stdout",
     "output_type": "stream",
     "text": [
      "\n",
      "Contingency Table:\n",
      " Perpetrator Ethnicity          Hispanic  Not Hispanic\n",
      "Perpetrator Race                                     \n",
      "Asian/Pacific Islander               48          3316\n",
      "Black                               875         75704\n",
      "Native American/Alaska Native        17          1542\n",
      "White                             45767         64206\n",
      "\n",
      "Chi-square statistic: 41556.07610306301\n",
      "P-value 0.0\n",
      "Degrees of freedom: 3\n",
      "Expected frequencies:\n",
      " [[  820.58936154  2543.41063846]\n",
      " [18680.11674109 57898.88325891]\n",
      " [  380.29096749  1178.70903251]\n",
      " [26826.00292989 83146.99707011]]\n",
      "There is a significant association between the variables.\n"
     ]
    }
   ],
   "source": [
    "# Consider creating a contingency table for perpetrator race and ethnicity\n",
    "## If there is a significant association between variables we can impute missing values\n",
    "\n",
    "# Remove rows with unkowns\n",
    "#filt_cr = filt_cr.dropna()\n",
    "filt_cr = cr[(cr['Perpetrator Race'] != 'Unknown') & (cr['Perpetrator Ethnicity'] != 'Unknown')]\n",
    "contingency_table = pd.crosstab(filt_cr['Perpetrator Race'], filt_cr['Perpetrator Ethnicity'])\n",
    "\n",
    "# Perform the chi-square test\n",
    "chi2, p, dof, expected = chi2_contingency(contingency_table)\n",
    "\n",
    "# Display results\n",
    "#print(\"Filtered DataFrame:\\n\", filt_cr)\n",
    "print(\"\\nContingency Table:\\n\", contingency_table)\n",
    "print(\"\\nChi-square statistic:\", chi2)\n",
    "print(\"P-value\", p)\n",
    "print(\"Degrees of freedom:\", dof)\n",
    "print(\"Expected frequencies:\\n\", expected)\n",
    "\n",
    "# Interpretation\n",
    "if p < 0.05:\n",
    "    print(\"There is a significant association between the variables.\")\n",
    "else:\n",
    "    print(\"There is no significant association between the variables.\")"
   ]
  },
  {
   "cell_type": "code",
   "execution_count": 58,
   "id": "773944ab-7102-40f3-922d-1ee316b72d4d",
   "metadata": {},
   "outputs": [
    {
     "name": "stdout",
     "output_type": "stream",
     "text": [
      "Chi-square statistic: 41556.07610306301\n",
      "Cramer's V: 0.4658662269840794\n"
     ]
    }
   ],
   "source": [
    "# Step 4b: Establish strength/degree of association\n",
    "## Now that we establish that association is significant we need to establish strength of association\n",
    "## Note that the variables are on a nominal scale and hence we could apply Cramer's V\n",
    "\n",
    "# Calculate Cramer's V\n",
    "n = contingency_table.to_numpy().sum() # total no. of observations\n",
    "k, r = contingency_table.shape # dimensions of the table\n",
    "cramers_v = np.sqrt(chi2 / (n * min(k - 1, r - 1)))\n",
    "\n",
    "# Display results\n",
    "print(\"Chi-square statistic:\", chi2)\n",
    "print(\"Cramer's V:\", cramers_v)\n",
    "\n",
    "# Interpretation of below:\n",
    "## V < 0.1: Weak\n",
    "## 0.1 ≤ V < 0.3: Moderate\n",
    "## V > 0.3: Strong\n",
    "\n",
    "# This sets the basis for imputing the missing values"
   ]
  },
  {
   "cell_type": "code",
   "execution_count": 59,
   "id": "bb2d1d6b-bd69-4530-878b-b782b8da1e5c",
   "metadata": {},
   "outputs": [],
   "source": [
    "# Step 5: Impute missing values\n",
    "## Function to impute Perpetrator Ethnicity based on Perpetrator Race\n",
    "def impute_perp_ethnicity(row, prob_table):\n",
    "    if pd.isnull(row['Perpetrator Ethnicity']) and row ['Perpetrator Race'] in prob_table.index:\n",
    "        return np.random.choice(prob_table.columns, p=prob_table.loc[row['Perpetrator Race']].values)\n",
    "    return row['Perpetrator Ethnicity']\n",
    "\n",
    "## Function to impute Perpetrator Race based on Perpetrator Ethnicity\n",
    "def impute_perp_race(row, prob_table):\n",
    "    if pd.isnull(row['Perpetrator Race']) and row ['Perpetrator Ethnicity'] in prob_table.columns:\n",
    "        return np.random.choice(prob_table.index, p=prob_table[row['Perpetrator Ethnicity']].values)\n",
    "    return row['Perpetrator Race']\n",
    "\n",
    "## Apply imputations\n",
    "cr_perp_subset['Perpetrator Ethnicity'] = cr_perp_subset.apply(impute_perp_ethnicity, axis=1, prob_table=prob_perp_ethn_given_race)\n",
    "cr_perp_subset['Perpetrator Race'] = cr_perp_subset.apply(impute_perp_race, axis=1, prob_table=prob_perp_race_given_ethnicity)"
   ]
  },
  {
   "cell_type": "code",
   "execution_count": 60,
   "id": "6c8464df-8155-4d3f-a561-c2dc5c17900d",
   "metadata": {},
   "outputs": [
    {
     "name": "stderr",
     "output_type": "stream",
     "text": [
      "/tmp/ipykernel_12115/573566724.py:2: SettingWithCopyWarning: \n",
      "A value is trying to be set on a copy of a slice from a DataFrame.\n",
      "Try using .loc[row_indexer,col_indexer] = value instead\n",
      "\n",
      "See the caveats in the documentation: https://pandas.pydata.org/pandas-docs/stable/user_guide/indexing.html#returning-a-view-versus-a-copy\n",
      "  filt_cr[['Perpetrator Race', 'Perpetrator Ethnicity']] = cr_perp_subset.fillna('nan')\n"
     ]
    }
   ],
   "source": [
    "# Step 6: Update the original dataset\n",
    "filt_cr[['Perpetrator Race', 'Perpetrator Ethnicity']] = cr_perp_subset.fillna('nan')\n",
    "#print(cr[['Perpetrator Race', 'Perpetrator Ethnicity']])"
   ]
  },
  {
   "cell_type": "code",
   "execution_count": 61,
   "id": "ae9f9ac1-0219-471a-8880-7e7d6846fe5c",
   "metadata": {},
   "outputs": [
    {
     "data": {
      "text/plain": [
       "<Axes: xlabel='Perpetrator Ethnicity', ylabel='count'>"
      ]
     },
     "execution_count": 61,
     "metadata": {},
     "output_type": "execute_result"
    },
    {
     "data": {
      "image/png": "[encoded data removed]",
      "text/plain": [
       "<Figure size 1500x300 with 1 Axes>"
      ]
     },
     "metadata": {},
     "output_type": "display_data"
    }
   ],
   "source": [
    "# Step 7: Visualization\n",
    "plt.figure(figsize=(15,3))\n",
    "sns.countplot(x='Perpetrator Ethnicity',data=filt_cr) # note dataset used i.e. cr"
   ]
  },
  {
   "cell_type": "code",
   "execution_count": 62,
   "id": "d38e1f05-d0d1-4afa-9aa6-470ab04628a2",
   "metadata": {},
   "outputs": [
    {
     "name": "stdout",
     "output_type": "stream",
     "text": [
      "\n",
      "Missing values per column:\n",
      "Perpetrator Race         78577\n",
      "Perpetrator Ethnicity    78167\n",
      "dtype: int64\n",
      "\n",
      "Not missing values per column:\n",
      "Perpetrator Race         191227\n",
      "Perpetrator Ethnicity    191637\n",
      "dtype: int64\n"
     ]
    }
   ],
   "source": [
    "# Step 8: Analyse missingness\n",
    "print(\"\\nMissing values per column:\")\n",
    "print(cr_perp_subset.isnull().sum())\n",
    "\n",
    "# Step 8: Analyse non-missingness\n",
    "print(\"\\nNot missing values per column:\")\n",
    "print(cr_perp_subset.notnull().sum())"
   ]
  },
  {
   "cell_type": "code",
   "execution_count": 63,
   "id": "1106553f-9b6a-45b4-8e98-a608b41030fe",
   "metadata": {},
   "outputs": [
    {
     "name": "stdout",
     "output_type": "stream",
     "text": [
      "Perpetrator Ethnicity Ratios:\n",
      "Perpetrator Ethnicity\n",
      "Not Hispanic    0.757975\n",
      "Hispanic        0.242025\n",
      "Name: proportion, dtype: float64\n",
      "Perpetrator Race Ratios:\n",
      "Perpetrator Race\n",
      "White                            0.573389\n",
      "Black                            0.400945\n",
      "Asian/Pacific Islander           0.017519\n",
      "Native American/Alaska Native    0.008148\n",
      "Name: proportion, dtype: float64\n"
     ]
    }
   ],
   "source": [
    "# Step 9: Dealing with the remaining unknowns by distirbuting the unkown values across the categories based on calculated ratios\n",
    "# Calculate the proportions of known values\n",
    "perp_ethn_ratios = filt_cr['Perpetrator Ethnicity'][cr['Perpetrator Ethnicity'] != 'Unknown'].value_counts(normalize=True)\n",
    "perp_race_ratios = filt_cr['Perpetrator Race'][cr['Perpetrator Race'] != 'Unknown'].value_counts(normalize=True)\n",
    "\n",
    "print(\"Perpetrator Ethnicity Ratios:\")\n",
    "print(perp_ethn_ratios)\n",
    "\n",
    "print(\"Perpetrator Race Ratios:\")\n",
    "print(perp_race_ratios)"
   ]
  },
  {
   "cell_type": "code",
   "execution_count": 64,
   "id": "f14018b6-9267-4ea8-8e5c-b3cfa178dc4c",
   "metadata": {},
   "outputs": [
    {
     "name": "stderr",
     "output_type": "stream",
     "text": [
      "/tmp/ipykernel_12115/3907168526.py:11: SettingWithCopyWarning: \n",
      "A value is trying to be set on a copy of a slice from a DataFrame.\n",
      "Try using .loc[row_indexer,col_indexer] = value instead\n",
      "\n",
      "See the caveats in the documentation: https://pandas.pydata.org/pandas-docs/stable/user_guide/indexing.html#returning-a-view-versus-a-copy\n",
      "  filt_cr['Perpetrator Ethnicity'] = filt_cr['Perpetrator Ethnicity'].apply(assign_category, ratios = perp_ethn_ratios)\n",
      "/tmp/ipykernel_12115/3907168526.py:12: SettingWithCopyWarning: \n",
      "A value is trying to be set on a copy of a slice from a DataFrame.\n",
      "Try using .loc[row_indexer,col_indexer] = value instead\n",
      "\n",
      "See the caveats in the documentation: https://pandas.pydata.org/pandas-docs/stable/user_guide/indexing.html#returning-a-view-versus-a-copy\n",
      "  filt_cr['Perpetrator Race'] = filt_cr['Perpetrator Race'].apply(assign_category, ratios = perp_race_ratios)\n"
     ]
    }
   ],
   "source": [
    "# Step 10: Distribute Unknowns\n",
    "import random\n",
    "\n",
    "def assign_category(value, ratios):\n",
    "    \"\"\"Assigns a category based on the given ratios.\"\"\"\n",
    "    if value == 'Unknown':\n",
    "        return random.choices(ratios.index, weights=ratios.values, k=1)[0]\n",
    "    return value\n",
    "\n",
    "#Apply the function to fill in missing values\n",
    "filt_cr['Perpetrator Ethnicity'] = filt_cr['Perpetrator Ethnicity'].apply(assign_category, ratios = perp_ethn_ratios)\n",
    "filt_cr['Perpetrator Race'] = filt_cr['Perpetrator Race'].apply(assign_category, ratios = perp_race_ratios)"
   ]
  },
  {
   "cell_type": "code",
   "execution_count": 65,
   "id": "95c0590a-c2a5-4da8-ba9f-2fa35a7da97d",
   "metadata": {},
   "outputs": [
    {
     "name": "stdout",
     "output_type": "stream",
     "text": [
      "\n",
      "Missing values per column:\n",
      "1970\n",
      "1970\n",
      "\n",
      "No missing values per column:\n",
      "189505\n",
      "189505\n"
     ]
    }
   ],
   "source": [
    "# Step 11: Analyse missingness \n",
    "print(\"\\nMissing values per column:\")\n",
    "print(filt_cr['Perpetrator Ethnicity'].isnull().sum())\n",
    "print(filt_cr['Perpetrator Race'].isnull().sum())\n",
    "\n",
    "print(\"\\nNo missing values per column:\")\n",
    "print(filt_cr['Perpetrator Ethnicity'].notnull().sum())\n",
    "print(filt_cr['Perpetrator Race'].notnull().sum())\n",
    "\n",
    "# Note that no missing values matches the Filtered Dataset - Crime Solved is 'Yes'"
   ]
  },
  {
   "cell_type": "code",
   "execution_count": 66,
   "id": "b821cecc-2b85-4652-9cfe-d5cd19bda14f",
   "metadata": {},
   "outputs": [
    {
     "name": "stderr",
     "output_type": "stream",
     "text": [
      "/tmp/ipykernel_12115/1950331318.py:5: SettingWithCopyWarning: \n",
      "A value is trying to be set on a copy of a slice from a DataFrame.\n",
      "Try using .loc[row_indexer,col_indexer] = value instead\n",
      "\n",
      "See the caveats in the documentation: https://pandas.pydata.org/pandas-docs/stable/user_guide/indexing.html#returning-a-view-versus-a-copy\n",
      "  filt_cr[categ_columns] = filt_cr[categ_columns].astype('category')\n"
     ]
    }
   ],
   "source": [
    "# list columns to convert to categorical\n",
    "categ_columns = ['Agency Code','Agency Name','Agency Type','City','State','Year','Month','Crime Type','Crime Solved','Victim Sex','Victim Race','Victim Ethnicity','Perpetrator Sex','Perpetrator Race','Perpetrator Ethnicity','Relationship','Weapon','Record Source']\n",
    "\n",
    "# convert columns to categorical\n",
    "filt_cr[categ_columns] = filt_cr[categ_columns].astype('category')"
   ]
  },
  {
   "cell_type": "code",
   "execution_count": 67,
   "id": "88f5eeef-13ec-457c-8eec-233fd280a520",
   "metadata": {},
   "outputs": [
    {
     "name": "stdout",
     "output_type": "stream",
     "text": [
      "<class 'pandas.core.frame.DataFrame'>\n",
      "Index: 191475 entries, 44 to 638453\n",
      "Data columns (total 26 columns):\n",
      " #   Column                 Non-Null Count   Dtype   \n",
      "---  ------                 --------------   -----   \n",
      " 0   Record ID              191475 non-null  int64   \n",
      " 1   Agency Code            191475 non-null  category\n",
      " 2   Agency Name            191475 non-null  category\n",
      " 3   Agency Type            191475 non-null  category\n",
      " 4   City                   191475 non-null  category\n",
      " 5   State                  191475 non-null  category\n",
      " 6   Year                   191475 non-null  category\n",
      " 7   Month                  191475 non-null  category\n",
      " 8   Incident               191475 non-null  int64   \n",
      " 9   Crime Type             191475 non-null  category\n",
      " 10  Crime Solved           191475 non-null  category\n",
      " 11  Victim Sex             191475 non-null  category\n",
      " 12  Victim Age             191475 non-null  int64   \n",
      " 13  Victim Race            191475 non-null  category\n",
      " 14  Victim Ethnicity       191475 non-null  category\n",
      " 15  Perpetrator Sex        191475 non-null  category\n",
      " 16  Perpetrator Age        191475 non-null  int64   \n",
      " 17  Perpetrator Race       189505 non-null  category\n",
      " 18  Perpetrator Ethnicity  189505 non-null  category\n",
      " 19  Relationship           191475 non-null  category\n",
      " 20  Weapon                 191475 non-null  category\n",
      " 21  Victim Count           191475 non-null  int64   \n",
      " 22  Perpetrator Count      191475 non-null  int64   \n",
      " 23  Record Source          191475 non-null  category\n",
      " 24  Weapon Category        191475 non-null  object  \n",
      " 25  Relationship Category  191475 non-null  object  \n",
      "dtypes: category(18), int64(6), object(2)\n",
      "memory usage: 17.7+ MB\n"
     ]
    }
   ],
   "source": [
    "filt_cr.info()"
   ]
  },
  {
   "cell_type": "code",
   "execution_count": 68,
   "id": "23289ea2-19aa-40d1-8144-45ffad00efac",
   "metadata": {},
   "outputs": [
    {
     "name": "stderr",
     "output_type": "stream",
     "text": [
      "/tmp/ipykernel_12115/2986074747.py:1: SettingWithCopyWarning: \n",
      "A value is trying to be set on a copy of a slice from a DataFrame\n",
      "\n",
      "See the caveats in the documentation: https://pandas.pydata.org/pandas-docs/stable/user_guide/indexing.html#returning-a-view-versus-a-copy\n",
      "  filt_cr.drop(['Record ID','Agency Code','Agency Name','Incident','City','Crime Type','Record Source','Perpetrator Count'],axis='columns', inplace=True)\n"
     ]
    }
   ],
   "source": [
    "filt_cr.drop(['Record ID','Agency Code','Agency Name','Incident','City','Crime Type','Record Source','Perpetrator Count'],axis='columns', inplace=True)"
   ]
  },
  {
   "cell_type": "code",
   "execution_count": 69,
   "id": "7deb38d6-00b9-4c23-9e0b-5ac207dac269",
   "metadata": {},
   "outputs": [],
   "source": [
    "#filt_cr.drop(['Agency Code','Crime Type'],axis='columns', inplace=True)"
   ]
  },
  {
   "cell_type": "code",
   "execution_count": 70,
   "id": "0a660cce-7ad2-4345-9410-752d03a05baf",
   "metadata": {},
   "outputs": [],
   "source": [
    "#filt_cr.drop(['Record Source'],axis='columns', inplace=True)"
   ]
  },
  {
   "cell_type": "code",
   "execution_count": 71,
   "id": "3dd370ef-cf2b-45ce-b22f-75dc36e572b9",
   "metadata": {},
   "outputs": [],
   "source": [
    "#filt_cr.drop(['Record ID','Agency Name'],axis='columns', inplace=True)"
   ]
  },
  {
   "cell_type": "code",
   "execution_count": 72,
   "id": "96f7e2fe-09f4-4d43-9d30-d3870bad7f84",
   "metadata": {},
   "outputs": [],
   "source": [
    "#filt_cr.drop(['Perpetrator Count'],axis='columns', inplace=True)"
   ]
  },
  {
   "cell_type": "code",
   "execution_count": 73,
   "id": "de5a4702-f6c4-4a57-913b-fdb6148985c4",
   "metadata": {},
   "outputs": [
    {
     "name": "stdout",
     "output_type": "stream",
     "text": [
      "<class 'pandas.core.frame.DataFrame'>\n",
      "Index: 191475 entries, 44 to 638453\n",
      "Data columns (total 18 columns):\n",
      " #   Column                 Non-Null Count   Dtype   \n",
      "---  ------                 --------------   -----   \n",
      " 0   Agency Type            191475 non-null  category\n",
      " 1   State                  191475 non-null  category\n",
      " 2   Year                   191475 non-null  category\n",
      " 3   Month                  191475 non-null  category\n",
      " 4   Crime Solved           191475 non-null  category\n",
      " 5   Victim Sex             191475 non-null  category\n",
      " 6   Victim Age             191475 non-null  int64   \n",
      " 7   Victim Race            191475 non-null  category\n",
      " 8   Victim Ethnicity       191475 non-null  category\n",
      " 9   Perpetrator Sex        191475 non-null  category\n",
      " 10  Perpetrator Age        191475 non-null  int64   \n",
      " 11  Perpetrator Race       189505 non-null  category\n",
      " 12  Perpetrator Ethnicity  189505 non-null  category\n",
      " 13  Relationship           191475 non-null  category\n",
      " 14  Weapon                 191475 non-null  category\n",
      " 15  Victim Count           191475 non-null  int64   \n",
      " 16  Weapon Category        191475 non-null  object  \n",
      " 17  Relationship Category  191475 non-null  object  \n",
      "dtypes: category(13), int64(3), object(2)\n",
      "memory usage: 11.1+ MB\n"
     ]
    }
   ],
   "source": [
    "filt_cr.info()"
   ]
  },
  {
   "cell_type": "code",
   "execution_count": 74,
   "id": "8e30a7c6-5779-4ee4-a49b-c6de35ca9790",
   "metadata": {},
   "outputs": [
    {
     "data": {
      "text/html": [
       "<div>\n",
       "<style scoped>\n",
       "    .dataframe tbody tr th:only-of-type {\n",
       "        vertical-align: middle;\n",
       "    }\n",
       "\n",
       "    .dataframe tbody tr th {\n",
       "        vertical-align: top;\n",
       "    }\n",
       "\n",
       "    .dataframe thead th {\n",
       "        text-align: right;\n",
       "    }\n",
       "</style>\n",
       "<table border=\"1\" class=\"dataframe\">\n",
       "  <thead>\n",
       "    <tr style=\"text-align: right;\">\n",
       "      <th></th>\n",
       "      <th>Victim Age</th>\n",
       "      <th>Perpetrator Age</th>\n",
       "      <th>Victim Count</th>\n",
       "    </tr>\n",
       "  </thead>\n",
       "  <tbody>\n",
       "    <tr>\n",
       "      <th>count</th>\n",
       "      <td>191475.000000</td>\n",
       "      <td>191475.000000</td>\n",
       "      <td>191475.000000</td>\n",
       "    </tr>\n",
       "    <tr>\n",
       "      <th>mean</th>\n",
       "      <td>33.328842</td>\n",
       "      <td>1.077582</td>\n",
       "      <td>0.107382</td>\n",
       "    </tr>\n",
       "    <tr>\n",
       "      <th>std</th>\n",
       "      <td>23.725795</td>\n",
       "      <td>6.323988</td>\n",
       "      <td>0.480704</td>\n",
       "    </tr>\n",
       "    <tr>\n",
       "      <th>min</th>\n",
       "      <td>0.000000</td>\n",
       "      <td>0.000000</td>\n",
       "      <td>0.000000</td>\n",
       "    </tr>\n",
       "    <tr>\n",
       "      <th>25%</th>\n",
       "      <td>22.000000</td>\n",
       "      <td>0.000000</td>\n",
       "      <td>0.000000</td>\n",
       "    </tr>\n",
       "    <tr>\n",
       "      <th>50%</th>\n",
       "      <td>30.000000</td>\n",
       "      <td>0.000000</td>\n",
       "      <td>0.000000</td>\n",
       "    </tr>\n",
       "    <tr>\n",
       "      <th>75%</th>\n",
       "      <td>41.000000</td>\n",
       "      <td>0.000000</td>\n",
       "      <td>0.000000</td>\n",
       "    </tr>\n",
       "    <tr>\n",
       "      <th>max</th>\n",
       "      <td>998.000000</td>\n",
       "      <td>93.000000</td>\n",
       "      <td>10.000000</td>\n",
       "    </tr>\n",
       "  </tbody>\n",
       "</table>\n",
       "</div>"
      ],
      "text/plain": [
       "          Victim Age  Perpetrator Age   Victim Count\n",
       "count  191475.000000    191475.000000  191475.000000\n",
       "mean       33.328842         1.077582       0.107382\n",
       "std        23.725795         6.323988       0.480704\n",
       "min         0.000000         0.000000       0.000000\n",
       "25%        22.000000         0.000000       0.000000\n",
       "50%        30.000000         0.000000       0.000000\n",
       "75%        41.000000         0.000000       0.000000\n",
       "max       998.000000        93.000000      10.000000"
      ]
     },
     "execution_count": 74,
     "metadata": {},
     "output_type": "execute_result"
    }
   ],
   "source": [
    "filt_cr.describe()\n",
    "# note victim ages range from 0 to 998. The end points are both incorrect\n",
    "# note that perpetrator age ranges from 0 to 93. The lower end point is incorrect."
   ]
  },
  {
   "cell_type": "code",
   "execution_count": 75,
   "id": "86813869-3e30-467a-aeae-b084c07cb2cb",
   "metadata": {},
   "outputs": [],
   "source": [
    "# data on the filtered dataset filt_cr\n",
    "\n",
    "# agency type - almost all agency type (around 336k is municipal police and around another 83kk is sheriff) - could be dropped\n",
    "# State - 51 states with largest being California (63.4k), Texas (47.4k), NY (26.7k), Florida (26.5k), Michigan (19.0k).\n",
    "# Year - changed the data type from integer to category.\n",
    "# Month - distribution is very even across months, ranging from 33258 crimes in February to 41468 in July.\n",
    "# victim sex - 337.6k male, 110.3k female, 331 unknown.\n",
    "# victim race - not too many unknowns (3.6k)\n",
    "# victim ethnicity - Over 255,000 counts of unknowns - could be reduced using cross tab\n",
    "# weapon - unkown less than 18.5k.\n",
    "## weapon could be the target variable and the number of categories could be reduced. Maybe two categories i.e. guns, fire & explosion vs\n",
    "## close encounters\n",
    "# perpetrator sex - 399.5k male, 48.5k female, 147 unknown.\n",
    "# perpetrator ethnicity - around 256k unkowns - could be reduced using cross tab\n",
    "# perpetrator race - around 6k unknowns\n",
    "# relationships - a large number of unknowns i.e. 94.9k (we could create groups and then make cross tabs)\n",
    "## could be grouped into acquaintance (a person one knows slightly, but who is not a close friend), stranger, friends (incl employee,  \n",
    "## employer, neighbours), family (linked by blood or by love, incl. exs, bfs & gfs)\n",
    "# Crime solved - filtered as yes and the full dataset is of 448.1k"
   ]
  },
  {
   "cell_type": "code",
   "execution_count": 76,
   "id": "f84d2542-ba56-4805-bf93-c4927a2d278d",
   "metadata": {},
   "outputs": [
    {
     "data": {
      "text/plain": [
       "Agency Type\n",
       "Municipal Police    147054\n",
       "Sheriff              36764\n",
       "State Police          3589\n",
       "County Police         3443\n",
       "Special Police         506\n",
       "Regional Police        110\n",
       "Tribal Police            9\n",
       "Name: count, dtype: int64"
      ]
     },
     "execution_count": 76,
     "metadata": {},
     "output_type": "execute_result"
    }
   ],
   "source": [
    "# Count of selected variable or sum of count. Choose appropriate option:\n",
    "filt_cr['Agency Type'].value_counts()\n",
    "## filt_cr['Year'].value_counts().nlargest(100)\n",
    "## filt_cr['Year'].value_counts().sum()"
   ]
  },
  {
   "cell_type": "code",
   "execution_count": 77,
   "id": "7afdb591-dd7f-45d8-8f03-bc59129a1135",
   "metadata": {},
   "outputs": [
    {
     "name": "stderr",
     "output_type": "stream",
     "text": [
      "/tmp/ipykernel_12115/1424856505.py:9: SettingWithCopyWarning: \n",
      "A value is trying to be set on a copy of a slice from a DataFrame.\n",
      "Try using .loc[row_indexer,col_indexer] = value instead\n",
      "\n",
      "See the caveats in the documentation: https://pandas.pydata.org/pandas-docs/stable/user_guide/indexing.html#returning-a-view-versus-a-copy\n",
      "  filt_cr['Agency_Type_grouped'] = filt_cr['Agency Type'].apply(lambda x: x if category_counts[x] >= threshold else 'Other Police')\n"
     ]
    }
   ],
   "source": [
    "# Creation of the 'Other Police' category to group small categories\n",
    "# set threshold to group small categories\n",
    "threshold = 6000\n",
    "\n",
    "# Get the counts of each category\n",
    "category_counts = filt_cr['Agency Type'].value_counts()\n",
    "\n",
    "# Create a new column with 'Other Police' for categories below the threshold\n",
    "filt_cr['Agency_Type_grouped'] = filt_cr['Agency Type'].apply(lambda x: x if category_counts[x] >= threshold else 'Other Police')"
   ]
  },
  {
   "cell_type": "code",
   "execution_count": 78,
   "id": "0bcf1f49-90bc-41aa-af11-d280c62bc8ba",
   "metadata": {},
   "outputs": [
    {
     "data": {
      "text/plain": [
       "Agency_Type_grouped\n",
       "Municipal Police    147054\n",
       "Sheriff              36764\n",
       "Other Police          7657\n",
       "Name: count, dtype: int64"
      ]
     },
     "execution_count": 78,
     "metadata": {},
     "output_type": "execute_result"
    }
   ],
   "source": [
    "# Count of selected variable or sum of count. Choose appropriate option:\n",
    "filt_cr['Agency_Type_grouped'].value_counts()\n",
    "## filt_cr['Year'].value_counts().nlargest(100)\n",
    "## filt_cr['Year'].value_counts().sum()"
   ]
  },
  {
   "cell_type": "code",
   "execution_count": 79,
   "id": "f847004b-cbad-417f-a3b8-899f6c1db2d3",
   "metadata": {},
   "outputs": [
    {
     "name": "stdout",
     "output_type": "stream",
     "text": [
      "Agency Type              191475\n",
      "State                    191475\n",
      "Year                     191475\n",
      "Month                    191475\n",
      "Crime Solved             191475\n",
      "Victim Sex               191475\n",
      "Victim Age               191475\n",
      "Victim Race              191475\n",
      "Victim Ethnicity         191475\n",
      "Perpetrator Sex          191475\n",
      "Perpetrator Age          191475\n",
      "Perpetrator Race         189505\n",
      "Perpetrator Ethnicity    189505\n",
      "Relationship             191475\n",
      "Weapon                   191475\n",
      "Victim Count             191475\n",
      "Weapon Category          191475\n",
      "Relationship Category    191475\n",
      "Agency_Type_grouped      191475\n",
      "dtype: int64\n"
     ]
    }
   ],
   "source": [
    "print(filt_cr.notnull().sum()) # use notnull or isnull"
   ]
  },
  {
   "cell_type": "code",
   "execution_count": 80,
   "id": "04839420-e9d0-4efc-900d-f45b5611b22a",
   "metadata": {},
   "outputs": [
    {
     "name": "stderr",
     "output_type": "stream",
     "text": [
      "/tmp/ipykernel_12115/136388999.py:1: SettingWithCopyWarning: \n",
      "A value is trying to be set on a copy of a slice from a DataFrame\n",
      "\n",
      "See the caveats in the documentation: https://pandas.pydata.org/pandas-docs/stable/user_guide/indexing.html#returning-a-view-versus-a-copy\n",
      "  filt_cr.dropna(axis=0, inplace=True) # drop rows with missing values from the filt_cr dataset\n"
     ]
    }
   ],
   "source": [
    "filt_cr.dropna(axis=0, inplace=True) # drop rows with missing values from the filt_cr dataset"
   ]
  },
  {
   "cell_type": "code",
   "execution_count": 81,
   "id": "38b591c5-a020-4cfc-8ed2-48b4516b336b",
   "metadata": {},
   "outputs": [
    {
     "name": "stdout",
     "output_type": "stream",
     "text": [
      "\n",
      "Count of each age instance:\n",
      "Victim Age\n",
      "998    32\n",
      "Name: count, dtype: int64\n"
     ]
    }
   ],
   "source": [
    "# Filter for victim ages above 100\n",
    "ages_above_100 = filt_cr[filt_cr['Victim Age'] > 100]\n",
    "\n",
    "# Count occurences of each age above 100\n",
    "age_counts = ages_above_100['Victim Age'].value_counts()\n",
    "\n",
    "# Display the results\n",
    "#print(\"Count of ages above 100:\")\n",
    "#print(ages_above_100)\n",
    "print(\"\\nCount of each age instance:\")\n",
    "print(age_counts)"
   ]
  },
  {
   "cell_type": "code",
   "execution_count": 82,
   "id": "da3a90e4-2bc2-44f7-83ce-dcdc684ac898",
   "metadata": {},
   "outputs": [],
   "source": [
    "# Drop rows where age is 0 or greater than 110\n",
    "filt_cr = filt_cr[(filt_cr['Victim Age'] > 0) & (filt_cr['Victim Age'] < 110)] "
   ]
  },
  {
   "cell_type": "code",
   "execution_count": 83,
   "id": "b68d0e9e-75a8-480e-9e53-8b9890381eb9",
   "metadata": {},
   "outputs": [
    {
     "data": {
      "text/html": [
       "<div>\n",
       "<style scoped>\n",
       "    .dataframe tbody tr th:only-of-type {\n",
       "        vertical-align: middle;\n",
       "    }\n",
       "\n",
       "    .dataframe tbody tr th {\n",
       "        vertical-align: top;\n",
       "    }\n",
       "\n",
       "    .dataframe thead th {\n",
       "        text-align: right;\n",
       "    }\n",
       "</style>\n",
       "<table border=\"1\" class=\"dataframe\">\n",
       "  <thead>\n",
       "    <tr style=\"text-align: right;\">\n",
       "      <th></th>\n",
       "      <th>Victim Age</th>\n",
       "      <th>Perpetrator Age</th>\n",
       "      <th>Victim Count</th>\n",
       "    </tr>\n",
       "  </thead>\n",
       "  <tbody>\n",
       "    <tr>\n",
       "      <th>count</th>\n",
       "      <td>186399.000000</td>\n",
       "      <td>186399.000000</td>\n",
       "      <td>186399.000000</td>\n",
       "    </tr>\n",
       "    <tr>\n",
       "      <th>mean</th>\n",
       "      <td>33.572326</td>\n",
       "      <td>1.065478</td>\n",
       "      <td>0.107565</td>\n",
       "    </tr>\n",
       "    <tr>\n",
       "      <th>std</th>\n",
       "      <td>16.759630</td>\n",
       "      <td>6.305104</td>\n",
       "      <td>0.480733</td>\n",
       "    </tr>\n",
       "    <tr>\n",
       "      <th>min</th>\n",
       "      <td>1.000000</td>\n",
       "      <td>0.000000</td>\n",
       "      <td>0.000000</td>\n",
       "    </tr>\n",
       "    <tr>\n",
       "      <th>25%</th>\n",
       "      <td>22.000000</td>\n",
       "      <td>0.000000</td>\n",
       "      <td>0.000000</td>\n",
       "    </tr>\n",
       "    <tr>\n",
       "      <th>50%</th>\n",
       "      <td>30.000000</td>\n",
       "      <td>0.000000</td>\n",
       "      <td>0.000000</td>\n",
       "    </tr>\n",
       "    <tr>\n",
       "      <th>75%</th>\n",
       "      <td>42.000000</td>\n",
       "      <td>0.000000</td>\n",
       "      <td>0.000000</td>\n",
       "    </tr>\n",
       "    <tr>\n",
       "      <th>max</th>\n",
       "      <td>99.000000</td>\n",
       "      <td>93.000000</td>\n",
       "      <td>10.000000</td>\n",
       "    </tr>\n",
       "  </tbody>\n",
       "</table>\n",
       "</div>"
      ],
      "text/plain": [
       "          Victim Age  Perpetrator Age   Victim Count\n",
       "count  186399.000000    186399.000000  186399.000000\n",
       "mean       33.572326         1.065478       0.107565\n",
       "std        16.759630         6.305104       0.480733\n",
       "min         1.000000         0.000000       0.000000\n",
       "25%        22.000000         0.000000       0.000000\n",
       "50%        30.000000         0.000000       0.000000\n",
       "75%        42.000000         0.000000       0.000000\n",
       "max        99.000000        93.000000      10.000000"
      ]
     },
     "execution_count": 83,
     "metadata": {},
     "output_type": "execute_result"
    }
   ],
   "source": [
    "filt_cr.describe()"
   ]
  },
  {
   "cell_type": "code",
   "execution_count": 84,
   "id": "c2b8cb86-27ef-4693-8455-91469308c5e8",
   "metadata": {},
   "outputs": [],
   "source": [
    "# drop perpetrator age because there are a large number of missing values..."
   ]
  },
  {
   "cell_type": "code",
   "execution_count": 85,
   "id": "e5e79af0-4e73-49e0-a736-7b64ef7261f9",
   "metadata": {},
   "outputs": [
    {
     "name": "stdout",
     "output_type": "stream",
     "text": [
      "\n",
      "Count of each age instance:\n",
      "Perpetrator Age\n",
      "0    180341\n",
      "Name: count, dtype: int64\n"
     ]
    }
   ],
   "source": [
    "# Filter for perpetrator ages above 100\n",
    "ages_equal_0 = filt_cr[filt_cr['Perpetrator Age'] == 0]\n",
    "\n",
    "# Count occurences of age = 0\n",
    "age_counts = ages_equal_0['Perpetrator Age'].value_counts()\n",
    "\n",
    "# Display the results\n",
    "#print(\"Count of ages above 100:\")\n",
    "#print(ages_above_100)\n",
    "print(\"\\nCount of each age instance:\")\n",
    "print(age_counts)"
   ]
  },
  {
   "cell_type": "code",
   "execution_count": 86,
   "id": "2a6d6f7a-d349-41af-b821-d19de5e7b87a",
   "metadata": {},
   "outputs": [],
   "source": [
    "columns_to_drop = ['Crime Solved', 'Relationship', 'Weapon', 'Perpetrator Age', 'Victim Count', 'Year']\n",
    "df_dropped = filt_cr.drop(columns=columns_to_drop)\n",
    "\n",
    "# Save to file the new dataset with all filters\n",
    "##df_dropped.to_csv('ML_REVISED_V4_noyear.csv', index=False)"
   ]
  },
  {
   "cell_type": "code",
   "execution_count": 87,
   "id": "d1349c62-f433-40fe-9bd1-9729e62151ea",
   "metadata": {},
   "outputs": [
    {
     "name": "stdout",
     "output_type": "stream",
     "text": [
      "Counts of Weapon Simplified Groups:\n",
      "Weapon Category\n",
      "Firearm        123942\n",
      "Non-Firearm     57779\n",
      "Unknown          4678\n",
      "Name: count, dtype: int64\n"
     ]
    }
   ],
   "source": [
    "# Count occurrences of each Weapon Simplified group\n",
    "weapon_simplified_counts = df_dropped['Weapon Category'].value_counts()\n",
    "\n",
    "# Display the counts\n",
    "print(\"Counts of Weapon Simplified Groups:\")\n",
    "print(weapon_simplified_counts)"
   ]
  },
  {
   "cell_type": "code",
   "execution_count": 90,
   "id": "d8a17dc6-3e90-4c37-9d8f-2977ddb47013",
   "metadata": {
    "scrolled": true
   },
   "outputs": [
    {
     "name": "stdout",
     "output_type": "stream",
     "text": [
      "Counts of Relationship Simplified Groups:\n",
      "Relationship Category\n",
      "Acquaintance    65571\n",
      "Stranger        42506\n",
      "Lover           27553\n",
      "Family          17902\n",
      "Name: count, dtype: int64\n"
     ]
    }
   ],
   "source": [
    "# Count occurrences of each Relationship Simplified group\n",
    "relationship_simplified_counts = df_dropped['Relationship Category'].value_counts()\n",
    "\n",
    "# Display the counts\n",
    "print(\"Counts of Relationship Simplified Groups:\")\n",
    "print(relationship_simplified_counts)"
   ]
  },
  {
   "cell_type": "code",
   "execution_count": 91,
   "id": "f704334b-3266-462c-996b-3055d24f62a1",
   "metadata": {},
   "outputs": [],
   "source": [
    "df_dropped = df_dropped[(df_dropped['Weapon Category'] != 'Unknown') & (df_dropped['Relationship Category'] != 'Unknown')]"
   ]
  },
  {
   "cell_type": "code",
   "execution_count": 92,
   "id": "28d1591c-9277-486e-a0f1-5c237d89841b",
   "metadata": {},
   "outputs": [
    {
     "name": "stdout",
     "output_type": "stream",
     "text": [
      "Counts of Weapon Simplified Groups:\n",
      "Weapon Category\n",
      "Firearm        103004\n",
      "Non-Firearm     50528\n",
      "Name: count, dtype: int64\n"
     ]
    }
   ],
   "source": [
    "weapon_simplified_counts_3 = df_dropped['Weapon Category'].value_counts()\n",
    "\n",
    "# Display the counts\n",
    "print(\"Counts of Weapon Simplified Groups:\")\n",
    "print(weapon_simplified_counts_3)"
   ]
  },
  {
   "cell_type": "code",
   "execution_count": 93,
   "id": "6206e91b-0d98-42dc-977e-2fc251dc827d",
   "metadata": {},
   "outputs": [
    {
     "name": "stdout",
     "output_type": "stream",
     "text": [
      "Counts of Relationship Simplified Groups:\n",
      "Relationship Category\n",
      "Acquaintance    65571\n",
      "Stranger        42506\n",
      "Lover           27553\n",
      "Family          17902\n",
      "Name: count, dtype: int64\n"
     ]
    }
   ],
   "source": [
    "# Count occurrences of each Relationship Simplified group\n",
    "relationship_simplified_counts_4 = df_dropped['Relationship Category'].value_counts()\n",
    "\n",
    "# Display the counts\n",
    "print(\"Counts of Relationship Simplified Groups:\")\n",
    "print(relationship_simplified_counts_4)"
   ]
  },
  {
   "cell_type": "code",
   "execution_count": 94,
   "id": "abf2fec2-c012-449d-9703-85ccd9932ea1",
   "metadata": {},
   "outputs": [],
   "source": [
    "df_dropped.to_csv('ML_REVISED_V5_noyear_nounknowns.csv', index=False)"
   ]
  },
  {
   "cell_type": "code",
   "execution_count": null,
   "id": "daec37c1-ec1a-4bab-977c-9852aaf386bd",
   "metadata": {},
   "outputs": [],
   "source": []
  }
 ],
 "metadata": {
  "kernelspec": {
   "display_name": "Python 3 (ipykernel)",
   "language": "python",
   "name": "python3"
  },
  "language_info": {
   "codemirror_mode": {
    "name": "ipython",
    "version": 3
   },
   "file_extension": ".py",
   "mimetype": "text/x-python",
   "name": "python",
   "nbconvert_exporter": "python",
   "pygments_lexer": "ipython3",
   "version": "3.8.10"
  }
 },
 "nbformat": 4,
 "nbformat_minor": 5
}
