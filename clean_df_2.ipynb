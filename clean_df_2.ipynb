{
 "cells": [
  {
   "cell_type": "code",
   "source": [
    "import pandas as pd\n",
    "df = pd.read_csv('US_Crime_DataSet_Original.csv')"
   ],
   "metadata": {
    "collapsed": true,
    "ExecuteTime": {
     "end_time": "2025-01-11T11:17:18.390558Z",
     "start_time": "2025-01-11T11:17:16.498964Z"
    }
   },
   "id": "initial_id",
   "outputs": [
    {
     "name": "stderr",
     "output_type": "stream",
     "text": [
      "C:\\Users\\patbr\\AppData\\Local\\Temp\\ipykernel_11204\\2784183536.py:2: DtypeWarning: Columns (16) have mixed types. Specify dtype option on import or set low_memory=False.\n",
      "  df = pd.read_csv('US_Crime_DataSet_Original.csv')\n"
     ]
    }
   ],
   "execution_count": 181
  },
  {
   "cell_type": "code",
   "source": [
    "df.head()"
   ],
   "metadata": {
    "collapsed": false,
    "ExecuteTime": {
     "end_time": "2025-01-11T11:17:20.685387Z",
     "start_time": "2025-01-11T11:17:20.626190Z"
    }
   },
   "id": "60a0fe2c635ec056",
   "outputs": [
    {
     "data": {
      "text/plain": [
       "   Record ID Agency Code Agency Name       Agency Type       City   State  \\\n",
       "0          1     AK00101   Anchorage  Municipal Police  Anchorage  Alaska   \n",
       "1          2     AK00101   Anchorage  Municipal Police  Anchorage  Alaska   \n",
       "2          3     AK00101   Anchorage  Municipal Police  Anchorage  Alaska   \n",
       "3          4     AK00101   Anchorage  Municipal Police  Anchorage  Alaska   \n",
       "4          5     AK00101   Anchorage  Municipal Police  Anchorage  Alaska   \n",
       "\n",
       "   Year    Month  Incident              Crime Type  ... Victim Ethnicity  \\\n",
       "0  1980  January         1  Murder or Manslaughter  ...          Unknown   \n",
       "1  1980    March         1  Murder or Manslaughter  ...          Unknown   \n",
       "2  1980    March         2  Murder or Manslaughter  ...          Unknown   \n",
       "3  1980    April         1  Murder or Manslaughter  ...          Unknown   \n",
       "4  1980    April         2  Murder or Manslaughter  ...          Unknown   \n",
       "\n",
       "  Perpetrator Sex  Perpetrator Age               Perpetrator Race  \\\n",
       "0            Male               15  Native American/Alaska Native   \n",
       "1            Male               42                          White   \n",
       "2         Unknown                0                        Unknown   \n",
       "3            Male               42                          White   \n",
       "4         Unknown                0                        Unknown   \n",
       "\n",
       "  Perpetrator Ethnicity  Relationship         Weapon Victim Count  \\\n",
       "0               Unknown  Acquaintance   Blunt Object            0   \n",
       "1               Unknown  Acquaintance  Strangulation            0   \n",
       "2               Unknown       Unknown        Unknown            0   \n",
       "3               Unknown  Acquaintance  Strangulation            0   \n",
       "4               Unknown       Unknown        Unknown            0   \n",
       "\n",
       "  Perpetrator Count Record Source  \n",
       "0                 0           FBI  \n",
       "1                 0           FBI  \n",
       "2                 0           FBI  \n",
       "3                 0           FBI  \n",
       "4                 1           FBI  \n",
       "\n",
       "[5 rows x 24 columns]"
      ],
      "text/html": [
       "<div>\n",
       "<style scoped>\n",
       "    .dataframe tbody tr th:only-of-type {\n",
       "        vertical-align: middle;\n",
       "    }\n",
       "\n",
       "    .dataframe tbody tr th {\n",
       "        vertical-align: top;\n",
       "    }\n",
       "\n",
       "    .dataframe thead th {\n",
       "        text-align: right;\n",
       "    }\n",
       "</style>\n",
       "<table border=\"1\" class=\"dataframe\">\n",
       "  <thead>\n",
       "    <tr style=\"text-align: right;\">\n",
       "      <th></th>\n",
       "      <th>Record ID</th>\n",
       "      <th>Agency Code</th>\n",
       "      <th>Agency Name</th>\n",
       "      <th>Agency Type</th>\n",
       "      <th>City</th>\n",
       "      <th>State</th>\n",
       "      <th>Year</th>\n",
       "      <th>Month</th>\n",
       "      <th>Incident</th>\n",
       "      <th>Crime Type</th>\n",
       "      <th>...</th>\n",
       "      <th>Victim Ethnicity</th>\n",
       "      <th>Perpetrator Sex</th>\n",
       "      <th>Perpetrator Age</th>\n",
       "      <th>Perpetrator Race</th>\n",
       "      <th>Perpetrator Ethnicity</th>\n",
       "      <th>Relationship</th>\n",
       "      <th>Weapon</th>\n",
       "      <th>Victim Count</th>\n",
       "      <th>Perpetrator Count</th>\n",
       "      <th>Record Source</th>\n",
       "    </tr>\n",
       "  </thead>\n",
       "  <tbody>\n",
       "    <tr>\n",
       "      <th>0</th>\n",
       "      <td>1</td>\n",
       "      <td>AK00101</td>\n",
       "      <td>Anchorage</td>\n",
       "      <td>Municipal Police</td>\n",
       "      <td>Anchorage</td>\n",
       "      <td>Alaska</td>\n",
       "      <td>1980</td>\n",
       "      <td>January</td>\n",
       "      <td>1</td>\n",
       "      <td>Murder or Manslaughter</td>\n",
       "      <td>...</td>\n",
       "      <td>Unknown</td>\n",
       "      <td>Male</td>\n",
       "      <td>15</td>\n",
       "      <td>Native American/Alaska Native</td>\n",
       "      <td>Unknown</td>\n",
       "      <td>Acquaintance</td>\n",
       "      <td>Blunt Object</td>\n",
       "      <td>0</td>\n",
       "      <td>0</td>\n",
       "      <td>FBI</td>\n",
       "    </tr>\n",
       "    <tr>\n",
       "      <th>1</th>\n",
       "      <td>2</td>\n",
       "      <td>AK00101</td>\n",
       "      <td>Anchorage</td>\n",
       "      <td>Municipal Police</td>\n",
       "      <td>Anchorage</td>\n",
       "      <td>Alaska</td>\n",
       "      <td>1980</td>\n",
       "      <td>March</td>\n",
       "      <td>1</td>\n",
       "      <td>Murder or Manslaughter</td>\n",
       "      <td>...</td>\n",
       "      <td>Unknown</td>\n",
       "      <td>Male</td>\n",
       "      <td>42</td>\n",
       "      <td>White</td>\n",
       "      <td>Unknown</td>\n",
       "      <td>Acquaintance</td>\n",
       "      <td>Strangulation</td>\n",
       "      <td>0</td>\n",
       "      <td>0</td>\n",
       "      <td>FBI</td>\n",
       "    </tr>\n",
       "    <tr>\n",
       "      <th>2</th>\n",
       "      <td>3</td>\n",
       "      <td>AK00101</td>\n",
       "      <td>Anchorage</td>\n",
       "      <td>Municipal Police</td>\n",
       "      <td>Anchorage</td>\n",
       "      <td>Alaska</td>\n",
       "      <td>1980</td>\n",
       "      <td>March</td>\n",
       "      <td>2</td>\n",
       "      <td>Murder or Manslaughter</td>\n",
       "      <td>...</td>\n",
       "      <td>Unknown</td>\n",
       "      <td>Unknown</td>\n",
       "      <td>0</td>\n",
       "      <td>Unknown</td>\n",
       "      <td>Unknown</td>\n",
       "      <td>Unknown</td>\n",
       "      <td>Unknown</td>\n",
       "      <td>0</td>\n",
       "      <td>0</td>\n",
       "      <td>FBI</td>\n",
       "    </tr>\n",
       "    <tr>\n",
       "      <th>3</th>\n",
       "      <td>4</td>\n",
       "      <td>AK00101</td>\n",
       "      <td>Anchorage</td>\n",
       "      <td>Municipal Police</td>\n",
       "      <td>Anchorage</td>\n",
       "      <td>Alaska</td>\n",
       "      <td>1980</td>\n",
       "      <td>April</td>\n",
       "      <td>1</td>\n",
       "      <td>Murder or Manslaughter</td>\n",
       "      <td>...</td>\n",
       "      <td>Unknown</td>\n",
       "      <td>Male</td>\n",
       "      <td>42</td>\n",
       "      <td>White</td>\n",
       "      <td>Unknown</td>\n",
       "      <td>Acquaintance</td>\n",
       "      <td>Strangulation</td>\n",
       "      <td>0</td>\n",
       "      <td>0</td>\n",
       "      <td>FBI</td>\n",
       "    </tr>\n",
       "    <tr>\n",
       "      <th>4</th>\n",
       "      <td>5</td>\n",
       "      <td>AK00101</td>\n",
       "      <td>Anchorage</td>\n",
       "      <td>Municipal Police</td>\n",
       "      <td>Anchorage</td>\n",
       "      <td>Alaska</td>\n",
       "      <td>1980</td>\n",
       "      <td>April</td>\n",
       "      <td>2</td>\n",
       "      <td>Murder or Manslaughter</td>\n",
       "      <td>...</td>\n",
       "      <td>Unknown</td>\n",
       "      <td>Unknown</td>\n",
       "      <td>0</td>\n",
       "      <td>Unknown</td>\n",
       "      <td>Unknown</td>\n",
       "      <td>Unknown</td>\n",
       "      <td>Unknown</td>\n",
       "      <td>0</td>\n",
       "      <td>1</td>\n",
       "      <td>FBI</td>\n",
       "    </tr>\n",
       "  </tbody>\n",
       "</table>\n",
       "<p>5 rows × 24 columns</p>\n",
       "</div>"
      ]
     },
     "execution_count": 182,
     "metadata": {},
     "output_type": "execute_result"
    }
   ],
   "execution_count": 182
  },
  {
   "metadata": {
    "ExecuteTime": {
     "end_time": "2025-01-11T11:17:22.381794Z",
     "start_time": "2025-01-11T11:17:22.366158Z"
    }
   },
   "cell_type": "code",
   "source": "len(df)",
   "id": "a17b8c692d152c80",
   "outputs": [
    {
     "data": {
      "text/plain": [
       "638454"
      ]
     },
     "execution_count": 183,
     "metadata": {},
     "output_type": "execute_result"
    }
   ],
   "execution_count": 183
  },
  {
   "metadata": {
    "ExecuteTime": {
     "end_time": "2025-01-11T11:17:26.052257Z",
     "start_time": "2025-01-11T11:17:23.837445Z"
    }
   },
   "cell_type": "code",
   "source": [
    "# Clean whitespaces\n",
    "df = df.apply(lambda col: col.str.strip() if col.dtypes == 'object' else col)"
   ],
   "id": "94fbb0067b5bfc3a",
   "outputs": [],
   "execution_count": 184
  },
  {
   "metadata": {
    "ExecuteTime": {
     "end_time": "2025-01-11T11:17:27.804044Z",
     "start_time": "2025-01-11T11:17:27.388818Z"
    }
   },
   "cell_type": "code",
   "source": [
    "# Weapon Mapping\n",
    "weapon_mapping = {\n",
    "    'Blunt Object': 'Non-Firearm',\n",
    "    'Strangulation': 'Non-Firearm',\n",
    "    'Unknown': 'Unknown',\n",
    "    'Rifle': 'Firearm',\n",
    "    'Knife': 'Non-Firearm',\n",
    "    'Firearm': 'Firearm',\n",
    "    'Shotgun': 'Firearm',\n",
    "    'Fall': 'Non-Firearm',\n",
    "    'Handgun': 'Firearm',\n",
    "    'Drowning': 'Non-Firearm',\n",
    "    'Suffocation': 'Non-Firearm',\n",
    "    'Explosives': 'Non-Firearm',\n",
    "    'Fire': 'Non-Firearm',\n",
    "    'Drugs': 'Non-Firearm',\n",
    "    'Gun': 'Firearm',\n",
    "    'Poison': 'Non-Firearm'\n",
    "}\n",
    "df['Weapon Category'] = df['Weapon'].replace(weapon_mapping)"
   ],
   "id": "13328f4b499d1f5d",
   "outputs": [],
   "execution_count": 185
  },
  {
   "metadata": {
    "ExecuteTime": {
     "end_time": "2025-01-11T11:17:31.160772Z",
     "start_time": "2025-01-11T11:17:30.972864Z"
    }
   },
   "cell_type": "code",
   "source": "df = df[df['Weapon Category'] != 'Unknown']",
   "id": "80059187c750b64d",
   "outputs": [],
   "execution_count": 186
  },
  {
   "cell_type": "code",
   "source": [
    "# Relationship Mappings\n",
    "relationship_mapping = {\n",
    "    'Family': ['Mother', 'Father', 'Stepdaughter', 'Stepfather',\n",
    "               'Stepson', 'Stepmother', 'Daughter', 'Son', 'Brother', 'Sister', \n",
    "               'In-Law', 'Family'],\n",
    "    'Lover': ['Wife', 'Husband', 'Girlfriend', 'Boyfriend', 'Boyfriend/Girlfriend', 'Ex-Husband', 'Ex-Wife', 'Common-Law Husband', 'Common-Law Wife'],\n",
    "    'Acquaintance': ['Acquaintance', 'Neighbor', 'Friend', 'Employer', 'Employee'],\n",
    "    'Stranger': ['Stranger']\n",
    "}\n",
    "\n",
    "# Create a reverse mapping dictionary\n",
    "reverse_mapping = {relation: category for category, relations in relationship_mapping.items() for relation in relations}\n",
    "\n",
    "# Map the categories to a new column\n",
    "df['Relationship Category'] = df['Relationship'].map(reverse_mapping)\n",
    "df = df.dropna(subset=['Relationship Category'])"
   ],
   "metadata": {
    "collapsed": false,
    "ExecuteTime": {
     "end_time": "2025-01-11T11:17:32.585798Z",
     "start_time": "2025-01-11T11:17:32.363042Z"
    }
   },
   "id": "ddf6b9838972ef62",
   "outputs": [],
   "execution_count": 187
  },
  {
   "metadata": {
    "ExecuteTime": {
     "end_time": "2025-01-11T11:17:34.828476Z",
     "start_time": "2025-01-11T11:17:34.793473Z"
    }
   },
   "cell_type": "code",
   "source": "df['Relationship Category'].unique()",
   "id": "cdcdc888dac6006f",
   "outputs": [
    {
     "data": {
      "text/plain": [
       "array(['Acquaintance', 'Lover', 'Stranger', 'Family'], dtype=object)"
      ]
     },
     "execution_count": 188,
     "metadata": {},
     "output_type": "execute_result"
    }
   ],
   "execution_count": 188
  },
  {
   "metadata": {
    "ExecuteTime": {
     "end_time": "2025-01-11T11:17:36.739021Z",
     "start_time": "2025-01-11T11:17:36.707022Z"
    }
   },
   "cell_type": "code",
   "source": "df['Perpetrator Age'].unique()",
   "id": "81eab9bf51f001d4",
   "outputs": [
    {
     "data": {
      "text/plain": [
       "array([nan, '21', '32', '28', '20', '61', '38', '18', '17', '53', '25',\n",
       "       '84', '43', '30', '16', '47', '54', '22', '50', '42', '36', '24',\n",
       "       '35', '60', '27', '19', '14', '23', '63', '81', '31', '51', '15',\n",
       "       '0', '40', '33', '26', '41', '29', '34', '52', '37', '69', '44',\n",
       "       '48', '55', '56', '45', '49', '65', '39', '59', '70', '46', '11',\n",
       "       '58', '77', '67', '76', '57', '85', '13', '89', '71', '64', '62',\n",
       "       '3', '80', '73', '75', '83', '72', '66', '86', '68', '74', '87',\n",
       "       '78', '95', '6', '12', '88', '9', '90', '93', '10', '92', '79',\n",
       "       '1', '82'], dtype=object)"
      ]
     },
     "execution_count": 189,
     "metadata": {},
     "output_type": "execute_result"
    }
   ],
   "execution_count": 189
  },
  {
   "metadata": {
    "ExecuteTime": {
     "end_time": "2025-01-11T11:17:39.934541Z",
     "start_time": "2025-01-11T11:17:39.806746Z"
    }
   },
   "cell_type": "code",
   "source": "df = df[df['Crime Solved'] == 'Yes']",
   "id": "a6906c16b5ec293",
   "outputs": [],
   "execution_count": 190
  },
  {
   "metadata": {
    "ExecuteTime": {
     "end_time": "2025-01-11T09:20:33.230341Z",
     "start_time": "2025-01-11T09:20:33.214530Z"
    }
   },
   "cell_type": "code",
   "source": "len(df)",
   "id": "d328e9c3c7b3008",
   "outputs": [
    {
     "data": {
      "text/plain": [
       "340375"
      ]
     },
     "execution_count": 53,
     "metadata": {},
     "output_type": "execute_result"
    }
   ],
   "execution_count": 53
  },
  {
   "metadata": {
    "ExecuteTime": {
     "end_time": "2025-01-11T09:56:47.789146Z",
     "start_time": "2025-01-11T09:56:47.741471Z"
    }
   },
   "cell_type": "code",
   "source": "df['Agency Type'].value_counts()",
   "id": "67cd9f45a7c50e16",
   "outputs": [
    {
     "data": {
      "text/plain": [
       "Agency Type\n",
       "Municipal Police    252116\n",
       "Sheriff              66147\n",
       "County Police        11209\n",
       "State Police          9313\n",
       "Special Police        1415\n",
       "Regional Police        145\n",
       "Tribal Police           30\n",
       "Name: count, dtype: int64"
      ]
     },
     "execution_count": 93,
     "metadata": {},
     "output_type": "execute_result"
    }
   ],
   "execution_count": 93
  },
  {
   "metadata": {
    "ExecuteTime": {
     "end_time": "2025-01-11T11:17:44.014094Z",
     "start_time": "2025-01-11T11:17:43.881381Z"
    }
   },
   "cell_type": "code",
   "source": [
    "# less then 6000 rename to Other Police\n",
    "df['Agency Type'] = df['Agency Type'].astype(str)\n",
    "df['Agency Type'] = df['Agency Type'].replace('County Police', 'Other Police')\n",
    "df['Agency Type'] = df['Agency Type'].replace('State Police', 'Other Police')\n",
    "df['Agency Type'] = df['Agency Type'].replace('Special Police', 'Other Police')\n",
    "df['Agency Type'] = df['Agency Type'].replace('Regional Police', 'Other Police')\n",
    "df['Agency Type'] = df['Agency Type'].replace('Tribal Police', 'Other Police')"
   ],
   "id": "8838a1a54f0d1e52",
   "outputs": [],
   "execution_count": 191
  },
  {
   "metadata": {
    "ExecuteTime": {
     "end_time": "2025-01-11T09:56:51.400888Z",
     "start_time": "2025-01-11T09:56:51.369129Z"
    }
   },
   "cell_type": "code",
   "source": "df['Agency Type'].value_counts()",
   "id": "78fafd65dda85624",
   "outputs": [
    {
     "data": {
      "text/plain": [
       "Agency Type\n",
       "Municipal Police    252116\n",
       "Sheriff              66147\n",
       "Other Police         22112\n",
       "Name: count, dtype: int64"
      ]
     },
     "execution_count": 95,
     "metadata": {},
     "output_type": "execute_result"
    }
   ],
   "execution_count": 95
  },
  {
   "metadata": {
    "ExecuteTime": {
     "end_time": "2025-01-11T11:17:47.402348Z",
     "start_time": "2025-01-11T11:17:47.263130Z"
    }
   },
   "cell_type": "code",
   "source": [
    "df = df[(df['Victim Race'] != 'Unknown') & (df['Victim Ethnicity'] != 'Unknown')]\n",
    "df = df[(df['Perpetrator Race'] != 'Unknown') & (df['Perpetrator Ethnicity'] != 'Unknown')]"
   ],
   "id": "72513701de021e20",
   "outputs": [],
   "execution_count": 192
  },
  {
   "metadata": {
    "ExecuteTime": {
     "end_time": "2025-01-11T09:57:02.543272Z",
     "start_time": "2025-01-11T09:57:02.511855Z"
    }
   },
   "cell_type": "code",
   "source": "len(df)",
   "id": "e93dd8550533b59c",
   "outputs": [
    {
     "data": {
      "text/plain": [
       "155855"
      ]
     },
     "execution_count": 97,
     "metadata": {},
     "output_type": "execute_result"
    }
   ],
   "execution_count": 97
  },
  {
   "metadata": {
    "ExecuteTime": {
     "end_time": "2025-01-11T10:10:33.541386Z",
     "start_time": "2025-01-11T10:10:33.525610Z"
    }
   },
   "cell_type": "code",
   "source": "from scipy.stats import chi2_contingency",
   "id": "a0e1d76113e69bcb",
   "outputs": [],
   "execution_count": 121
  },
  {
   "metadata": {
    "ExecuteTime": {
     "end_time": "2025-01-11T11:17:51.259438Z",
     "start_time": "2025-01-11T11:17:51.157304Z"
    }
   },
   "cell_type": "code",
   "source": [
    "contingency_table = pd.crosstab(df['Victim Race'], df['Victim Ethnicity'])\n",
    "chi2, p, dof, expected = chi2_contingency(contingency_table)\n",
    "# Display results\n",
    "print(\"\\nContingency Table:\\n\", contingency_table)\n",
    "print(\"\\nChi-square statistic:\", chi2)\n",
    "print(\"P-value\", p)\n",
    "print(\"Degrees of freedom:\", dof)\n",
    "print(\"Expected frequencies:\\n\", expected)"
   ],
   "id": "5f5aad24fc7c60bd",
   "outputs": [
    {
     "name": "stdout",
     "output_type": "stream",
     "text": [
      "\n",
      "Contingency Table:\n",
      " Victim Ethnicity               Hispanic  Not Hispanic\n",
      "Victim Race                                          \n",
      "Asian/Pacific Islander               36          3078\n",
      "Black                               598         56325\n",
      "Native American/Alaska Native         7          1434\n",
      "White                             34536         59841\n",
      "\n",
      "Chi-square statistic: 26923.29458447682\n",
      "P-value 0.0\n",
      "Degrees of freedom: 3\n",
      "Expected frequencies:\n",
      " [[  702.84031953  2411.15968047]\n",
      " [12847.71339386 44075.28660614]\n",
      " [  325.2385679   1115.7614321 ]\n",
      " [21301.20771871 73075.79228129]]\n"
     ]
    }
   ],
   "execution_count": 193
  },
  {
   "metadata": {
    "ExecuteTime": {
     "end_time": "2025-01-11T11:17:53.653793Z",
     "start_time": "2025-01-11T11:17:53.622067Z"
    }
   },
   "cell_type": "code",
   "source": [
    "# Interpretation\n",
    "if p < 0.05:\n",
    "    print(\"There is a significant association between the variables.\")\n",
    "else:\n",
    "    print(\"There is no significant association between the variables.\")"
   ],
   "id": "483262a116e6b6eb",
   "outputs": [
    {
     "name": "stdout",
     "output_type": "stream",
     "text": [
      "There is a significant association between the variables.\n"
     ]
    }
   ],
   "execution_count": 194
  },
  {
   "metadata": {
    "ExecuteTime": {
     "end_time": "2025-01-11T10:10:42.328800Z",
     "start_time": "2025-01-11T10:10:42.312783Z"
    }
   },
   "cell_type": "code",
   "source": "import numpy as np",
   "id": "f36bfc84a3d2f390",
   "outputs": [],
   "execution_count": 124
  },
  {
   "metadata": {
    "ExecuteTime": {
     "end_time": "2025-01-11T11:17:55.329008Z",
     "start_time": "2025-01-11T11:17:55.297129Z"
    }
   },
   "cell_type": "code",
   "source": [
    "# Calculate Cramer's V\n",
    "n = contingency_table.to_numpy().sum() # total no. of observations\n",
    "k, r = contingency_table.shape # dimensions of the table\n",
    "cramers_v = np.sqrt(chi2 / (n * min(k - 1, r - 1)))\n",
    "\n",
    "# Display results\n",
    "print(\"Chi-square statistic:\", chi2)\n",
    "print(\"Cramer's V:\", cramers_v)\n",
    "\n",
    "# Interpretation of below:\n",
    "## V < 0.1: Weak\n",
    "## 0.1 ≤ V < 0.3: Moderate\n",
    "## V > 0.3: Strong\n",
    "\n",
    "# This sets the basis for imputing the missing values"
   ],
   "id": "b983ff84c944f28a",
   "outputs": [
    {
     "name": "stdout",
     "output_type": "stream",
     "text": [
      "Chi-square statistic: 26923.29458447682\n",
      "Cramer's V: 0.4156269802231352\n"
     ]
    }
   ],
   "execution_count": 195
  },
  {
   "metadata": {
    "ExecuteTime": {
     "end_time": "2025-01-11T11:17:57.540861Z",
     "start_time": "2025-01-11T11:17:57.493347Z"
    }
   },
   "cell_type": "code",
   "source": [
    "cr_vict_subset = df[['Victim Race','Victim Ethnicity']].copy()\n",
    "cr_vict_subset.replace('Unknown', np.nan, inplace=True)"
   ],
   "id": "916f05c91c141b85",
   "outputs": [],
   "execution_count": 196
  },
  {
   "metadata": {
    "ExecuteTime": {
     "end_time": "2025-01-11T11:17:59.239438Z",
     "start_time": "2025-01-11T11:17:59.176407Z"
    }
   },
   "cell_type": "code",
   "source": [
    "cr_perp_subset = df[['Perpetrator Race','Perpetrator Ethnicity']].copy()\n",
    "cr_perp_subset.replace('Unknown', np.nan, inplace=True)"
   ],
   "id": "d779eab0246979ff",
   "outputs": [],
   "execution_count": 197
  },
  {
   "metadata": {
    "ExecuteTime": {
     "end_time": "2025-01-11T11:18:01.414532Z",
     "start_time": "2025-01-11T11:18:01.322087Z"
    }
   },
   "cell_type": "code",
   "source": [
    "prob_vict_ethn_given_race = pd.crosstab(cr_vict_subset['Victim Race'], cr_vict_subset['Victim Ethnicity'], normalize='index')\n",
    "prob_vict_race_given_ethnicity = pd.crosstab(cr_vict_subset['Victim Ethnicity'], cr_vict_subset['Victim Race'], normalize='columns')"
   ],
   "id": "c79e958a103149ca",
   "outputs": [],
   "execution_count": 198
  },
  {
   "metadata": {
    "ExecuteTime": {
     "end_time": "2025-01-11T11:18:02.795442Z",
     "start_time": "2025-01-11T11:18:02.715929Z"
    }
   },
   "cell_type": "code",
   "source": [
    "prob_perp_ethn_given_race = pd.crosstab(cr_perp_subset['Perpetrator Race'], cr_perp_subset['Perpetrator Ethnicity'], normalize='index')\n",
    "prob_perp_race_given_ethnicity = pd.crosstab(cr_perp_subset['Perpetrator Ethnicity'], cr_perp_subset['Perpetrator Race'], normalize='columns')"
   ],
   "id": "a6a37bc7871d7258",
   "outputs": [],
   "execution_count": 199
  },
  {
   "metadata": {
    "ExecuteTime": {
     "end_time": "2025-01-11T11:18:07.178345Z",
     "start_time": "2025-01-11T11:18:04.552607Z"
    }
   },
   "cell_type": "code",
   "source": [
    "# Step 5: Impute missing values\n",
    "## Function to impute Victim Ethnicity based on Victim Race\n",
    "def impute_vict_ethnicity(row, prob_table):\n",
    "    if pd.isnull(row['Victim Ethnicity']) and row ['Victim Race'] in prob_table.index:\n",
    "        return np.random.choice(prob_table.columns, p=prob_table.loc[row['Victim Race']].values)\n",
    "    return row['Victim Ethnicity']\n",
    "\n",
    "## Function to impute Victim Race based on Victim Ethnicity\n",
    "def impute_vict_race(row, prob_table):\n",
    "    if pd.isnull(row['Victim Race']) and row ['Victim Ethnicity'] in prob_table.columns:\n",
    "        return np.random.choice(prob_table.index, p=prob_table[row['Victim Ethnicity']].values)\n",
    "    return row['Victim Race']\n",
    "\n",
    "## Apply imputations\n",
    "df['Victim Ethnicity'] = cr_vict_subset.apply(impute_vict_ethnicity, axis=1, prob_table=prob_vict_ethn_given_race)\n",
    "df['Victim Race'] = cr_vict_subset.apply(impute_vict_race, axis=1, prob_table=prob_vict_race_given_ethnicity)"
   ],
   "id": "8218f9ad2fc49a71",
   "outputs": [],
   "execution_count": 200
  },
  {
   "metadata": {
    "ExecuteTime": {
     "end_time": "2025-01-11T10:04:51.862652Z",
     "start_time": "2025-01-11T10:04:51.830635Z"
    }
   },
   "cell_type": "code",
   "source": "df['Victim Ethnicity'].unique()",
   "id": "57f0e5ef033cb5fe",
   "outputs": [
    {
     "data": {
      "text/plain": [
       "array(['Not Hispanic', 'Hispanic'], dtype=object)"
      ]
     },
     "execution_count": 105,
     "metadata": {},
     "output_type": "execute_result"
    }
   ],
   "execution_count": 105
  },
  {
   "metadata": {
    "ExecuteTime": {
     "end_time": "2025-01-11T10:05:03.513755Z",
     "start_time": "2025-01-11T10:05:03.492174Z"
    }
   },
   "cell_type": "code",
   "source": "df['Victim Race'].unique()",
   "id": "76c2a366e9ee70dc",
   "outputs": [
    {
     "data": {
      "text/plain": [
       "array(['Native American/Alaska Native', 'Black', 'White',\n",
       "       'Asian/Pacific Islander'], dtype=object)"
      ]
     },
     "execution_count": 106,
     "metadata": {},
     "output_type": "execute_result"
    }
   ],
   "execution_count": 106
  },
  {
   "metadata": {
    "ExecuteTime": {
     "end_time": "2025-01-11T11:18:12.771397Z",
     "start_time": "2025-01-11T11:18:10.478977Z"
    }
   },
   "cell_type": "code",
   "source": [
    "# Step 5: Impute missing values\n",
    "## Function to impute Victim Ethnicity based on Victim Race\n",
    "def impute_perp_ethnicity(row, prob_table):\n",
    "    if pd.isnull(row['Perpetrator Ethnicity']) and row ['Perpetrator Race'] in prob_table.index:\n",
    "        return np.random.choice(prob_table.columns, p=prob_table.loc[row['Perpetrator Race']].values)\n",
    "    return row['Perpetrator Ethnicity']\n",
    "\n",
    "## Function to impute Victim Race based on Victim Ethnicity\n",
    "def impute_perp_race(row, prob_table):\n",
    "    if pd.isnull(row['Perpetrator Race']) and row ['Perpetrator Ethnicity'] in prob_table.columns:\n",
    "        return np.random.choice(prob_table.index, p=prob_table[row['Perpetrator Ethnicity']].values)\n",
    "    return row['Perpetrator Race']\n",
    "\n",
    "## Apply imputations\n",
    "df['Perpetrator Ethnicity'] = cr_perp_subset.apply(impute_perp_ethnicity, axis=1, prob_table=prob_perp_ethn_given_race)\n",
    "df['Perpetrator Race'] = cr_perp_subset.apply(impute_perp_race, axis=1, prob_table=prob_perp_race_given_ethnicity)"
   ],
   "id": "87b34f0bc915ce67",
   "outputs": [],
   "execution_count": 201
  },
  {
   "metadata": {
    "ExecuteTime": {
     "end_time": "2025-01-11T10:11:06.522551Z",
     "start_time": "2025-01-11T10:11:06.506829Z"
    }
   },
   "cell_type": "code",
   "source": "df['Perpetrator Ethnicity'].unique()",
   "id": "600071f2d06c1689",
   "outputs": [
    {
     "data": {
      "text/plain": [
       "array(['Not Hispanic', 'Hispanic'], dtype=object)"
      ]
     },
     "execution_count": 132,
     "metadata": {},
     "output_type": "execute_result"
    }
   ],
   "execution_count": 132
  },
  {
   "metadata": {
    "ExecuteTime": {
     "end_time": "2025-01-11T10:11:08.249885Z",
     "start_time": "2025-01-11T10:11:08.218148Z"
    }
   },
   "cell_type": "code",
   "source": "df['Perpetrator Race'].unique()",
   "id": "fa8e093822c426d8",
   "outputs": [
    {
     "data": {
      "text/plain": [
       "array(['Native American/Alaska Native', 'Black', 'White',\n",
       "       'Asian/Pacific Islander'], dtype=object)"
      ]
     },
     "execution_count": 133,
     "metadata": {},
     "output_type": "execute_result"
    }
   ],
   "execution_count": 133
  },
  {
   "metadata": {
    "ExecuteTime": {
     "end_time": "2025-01-11T10:12:55.593108Z",
     "start_time": "2025-01-11T10:12:55.561661Z"
    }
   },
   "cell_type": "code",
   "source": "df.head()",
   "id": "c577dbfe29e940f9",
   "outputs": [
    {
     "data": {
      "text/plain": [
       "    Record ID Agency Code          Agency Name   Agency Type       City  \\\n",
       "44         45     AKASP00  Alaska State Police  Other Police     Juneau   \n",
       "52         53     AL00100            Jefferson       Sheriff  Jefferson   \n",
       "53         54     AL00100            Jefferson       Sheriff  Jefferson   \n",
       "54         55     AL00100            Jefferson       Sheriff  Jefferson   \n",
       "58         59     AL00100            Jefferson       Sheriff  Jefferson   \n",
       "\n",
       "      State  Year      Month  Incident                  Crime Type  ...  \\\n",
       "44   Alaska  1980   November         4  Manslaughter by Negligence  ...   \n",
       "52  Alabama  1980       July         1      Murder or Manslaughter  ...   \n",
       "53  Alabama  1980       July         2      Murder or Manslaughter  ...   \n",
       "54  Alabama  1980       July         3      Murder or Manslaughter  ...   \n",
       "58  Alabama  1980  September        41      Murder or Manslaughter  ...   \n",
       "\n",
       "   Perpetrator Age               Perpetrator Race  Perpetrator Ethnicity  \\\n",
       "44             NaN  Native American/Alaska Native           Not Hispanic   \n",
       "52             NaN                          Black           Not Hispanic   \n",
       "53             NaN                          White           Not Hispanic   \n",
       "54             NaN                          Black           Not Hispanic   \n",
       "58             NaN                          White           Not Hispanic   \n",
       "\n",
       "    Relationship    Weapon Victim Count Perpetrator Count Record Source  \\\n",
       "44          Wife  Drowning            0                 0           FBI   \n",
       "52  Acquaintance   Handgun            0                 0           FBI   \n",
       "53       Husband   Handgun            0                 0           FBI   \n",
       "54  Acquaintance   Handgun            0                 1           FBI   \n",
       "58        Father     Rifle            0                 0           FBI   \n",
       "\n",
       "   Weapon Category Relationship Category  \n",
       "44     Non-Firearm                 Lover  \n",
       "52         Firearm          Acquaintance  \n",
       "53         Firearm                 Lover  \n",
       "54         Firearm          Acquaintance  \n",
       "58         Firearm                Family  \n",
       "\n",
       "[5 rows x 26 columns]"
      ],
      "text/html": [
       "<div>\n",
       "<style scoped>\n",
       "    .dataframe tbody tr th:only-of-type {\n",
       "        vertical-align: middle;\n",
       "    }\n",
       "\n",
       "    .dataframe tbody tr th {\n",
       "        vertical-align: top;\n",
       "    }\n",
       "\n",
       "    .dataframe thead th {\n",
       "        text-align: right;\n",
       "    }\n",
       "</style>\n",
       "<table border=\"1\" class=\"dataframe\">\n",
       "  <thead>\n",
       "    <tr style=\"text-align: right;\">\n",
       "      <th></th>\n",
       "      <th>Record ID</th>\n",
       "      <th>Agency Code</th>\n",
       "      <th>Agency Name</th>\n",
       "      <th>Agency Type</th>\n",
       "      <th>City</th>\n",
       "      <th>State</th>\n",
       "      <th>Year</th>\n",
       "      <th>Month</th>\n",
       "      <th>Incident</th>\n",
       "      <th>Crime Type</th>\n",
       "      <th>...</th>\n",
       "      <th>Perpetrator Age</th>\n",
       "      <th>Perpetrator Race</th>\n",
       "      <th>Perpetrator Ethnicity</th>\n",
       "      <th>Relationship</th>\n",
       "      <th>Weapon</th>\n",
       "      <th>Victim Count</th>\n",
       "      <th>Perpetrator Count</th>\n",
       "      <th>Record Source</th>\n",
       "      <th>Weapon Category</th>\n",
       "      <th>Relationship Category</th>\n",
       "    </tr>\n",
       "  </thead>\n",
       "  <tbody>\n",
       "    <tr>\n",
       "      <th>44</th>\n",
       "      <td>45</td>\n",
       "      <td>AKASP00</td>\n",
       "      <td>Alaska State Police</td>\n",
       "      <td>Other Police</td>\n",
       "      <td>Juneau</td>\n",
       "      <td>Alaska</td>\n",
       "      <td>1980</td>\n",
       "      <td>November</td>\n",
       "      <td>4</td>\n",
       "      <td>Manslaughter by Negligence</td>\n",
       "      <td>...</td>\n",
       "      <td>NaN</td>\n",
       "      <td>Native American/Alaska Native</td>\n",
       "      <td>Not Hispanic</td>\n",
       "      <td>Wife</td>\n",
       "      <td>Drowning</td>\n",
       "      <td>0</td>\n",
       "      <td>0</td>\n",
       "      <td>FBI</td>\n",
       "      <td>Non-Firearm</td>\n",
       "      <td>Lover</td>\n",
       "    </tr>\n",
       "    <tr>\n",
       "      <th>52</th>\n",
       "      <td>53</td>\n",
       "      <td>AL00100</td>\n",
       "      <td>Jefferson</td>\n",
       "      <td>Sheriff</td>\n",
       "      <td>Jefferson</td>\n",
       "      <td>Alabama</td>\n",
       "      <td>1980</td>\n",
       "      <td>July</td>\n",
       "      <td>1</td>\n",
       "      <td>Murder or Manslaughter</td>\n",
       "      <td>...</td>\n",
       "      <td>NaN</td>\n",
       "      <td>Black</td>\n",
       "      <td>Not Hispanic</td>\n",
       "      <td>Acquaintance</td>\n",
       "      <td>Handgun</td>\n",
       "      <td>0</td>\n",
       "      <td>0</td>\n",
       "      <td>FBI</td>\n",
       "      <td>Firearm</td>\n",
       "      <td>Acquaintance</td>\n",
       "    </tr>\n",
       "    <tr>\n",
       "      <th>53</th>\n",
       "      <td>54</td>\n",
       "      <td>AL00100</td>\n",
       "      <td>Jefferson</td>\n",
       "      <td>Sheriff</td>\n",
       "      <td>Jefferson</td>\n",
       "      <td>Alabama</td>\n",
       "      <td>1980</td>\n",
       "      <td>July</td>\n",
       "      <td>2</td>\n",
       "      <td>Murder or Manslaughter</td>\n",
       "      <td>...</td>\n",
       "      <td>NaN</td>\n",
       "      <td>White</td>\n",
       "      <td>Not Hispanic</td>\n",
       "      <td>Husband</td>\n",
       "      <td>Handgun</td>\n",
       "      <td>0</td>\n",
       "      <td>0</td>\n",
       "      <td>FBI</td>\n",
       "      <td>Firearm</td>\n",
       "      <td>Lover</td>\n",
       "    </tr>\n",
       "    <tr>\n",
       "      <th>54</th>\n",
       "      <td>55</td>\n",
       "      <td>AL00100</td>\n",
       "      <td>Jefferson</td>\n",
       "      <td>Sheriff</td>\n",
       "      <td>Jefferson</td>\n",
       "      <td>Alabama</td>\n",
       "      <td>1980</td>\n",
       "      <td>July</td>\n",
       "      <td>3</td>\n",
       "      <td>Murder or Manslaughter</td>\n",
       "      <td>...</td>\n",
       "      <td>NaN</td>\n",
       "      <td>Black</td>\n",
       "      <td>Not Hispanic</td>\n",
       "      <td>Acquaintance</td>\n",
       "      <td>Handgun</td>\n",
       "      <td>0</td>\n",
       "      <td>1</td>\n",
       "      <td>FBI</td>\n",
       "      <td>Firearm</td>\n",
       "      <td>Acquaintance</td>\n",
       "    </tr>\n",
       "    <tr>\n",
       "      <th>58</th>\n",
       "      <td>59</td>\n",
       "      <td>AL00100</td>\n",
       "      <td>Jefferson</td>\n",
       "      <td>Sheriff</td>\n",
       "      <td>Jefferson</td>\n",
       "      <td>Alabama</td>\n",
       "      <td>1980</td>\n",
       "      <td>September</td>\n",
       "      <td>41</td>\n",
       "      <td>Murder or Manslaughter</td>\n",
       "      <td>...</td>\n",
       "      <td>NaN</td>\n",
       "      <td>White</td>\n",
       "      <td>Not Hispanic</td>\n",
       "      <td>Father</td>\n",
       "      <td>Rifle</td>\n",
       "      <td>0</td>\n",
       "      <td>0</td>\n",
       "      <td>FBI</td>\n",
       "      <td>Firearm</td>\n",
       "      <td>Family</td>\n",
       "    </tr>\n",
       "  </tbody>\n",
       "</table>\n",
       "<p>5 rows × 26 columns</p>\n",
       "</div>"
      ]
     },
     "execution_count": 135,
     "metadata": {},
     "output_type": "execute_result"
    }
   ],
   "execution_count": 135
  },
  {
   "metadata": {
    "ExecuteTime": {
     "end_time": "2025-01-11T11:18:18.161291Z",
     "start_time": "2025-01-11T11:18:18.082164Z"
    }
   },
   "cell_type": "code",
   "source": "df = df[(df['Victim Age'] != 0) & (df['Victim Age'] <= 100)]",
   "id": "b4a5ddaa584e1925",
   "outputs": [],
   "execution_count": 202
  },
  {
   "metadata": {
    "ExecuteTime": {
     "end_time": "2025-01-11T10:23:14.528155Z",
     "start_time": "2025-01-11T10:23:14.512303Z"
    }
   },
   "cell_type": "code",
   "source": "len(df)",
   "id": "e538015e32254f5",
   "outputs": [
    {
     "data": {
      "text/plain": [
       "153512"
      ]
     },
     "execution_count": 158,
     "metadata": {},
     "output_type": "execute_result"
    }
   ],
   "execution_count": 158
  },
  {
   "metadata": {
    "ExecuteTime": {
     "end_time": "2025-01-11T11:18:21.940952Z",
     "start_time": "2025-01-11T11:18:21.893061Z"
    }
   },
   "cell_type": "code",
   "source": [
    "# State to Region\n",
    "state_to_region = {\n",
    "    # East Coast\n",
    "    'Rhodes Island': 'Northeast',\n",
    "    'District of Columbia': 'Northeast',\n",
    "    'Maine': 'Northeast', \n",
    "    'New Hampshire': 'Northeast', \n",
    "    'Vermont': 'Northeast', \n",
    "    'Massachusetts': 'Northeast', \n",
    "    'Rhode Island': 'Northeast', \n",
    "    'Connecticut': 'Northeast',\n",
    "    'New York': 'Northeast', \n",
    "    'New Jersey': 'Northeast', \n",
    "    'Pennsylvania': 'Northeast',\n",
    "    'Delaware': 'South', \n",
    "    'Maryland': 'South', \n",
    "    'Virginia': 'South', \n",
    "    'North Carolina': 'South',\n",
    "    'South Carolina': 'South', \n",
    "    'Georgia': 'South', \n",
    "    'Florida': 'South', \n",
    "    'Alabama': 'South',\n",
    "    'Mississippi': 'South', \n",
    "    'Louisiana': 'South', \n",
    "    'Arkansas': 'South', \n",
    "    'Tennessee': 'South',\n",
    "    'Kentucky': 'South', \n",
    "    'West Virginia': 'South', \n",
    "    'Oklahoma': 'South', \n",
    "    'Texas': 'South',\n",
    "    'Ohio': 'Midwest', \n",
    "    'Indiana': 'Midwest', \n",
    "    'Illinois': 'Midwest', \n",
    "    'Iowa': 'Midwest', \n",
    "    'Missouri': 'Midwest', \n",
    "    'Michigan': 'Midwest', \n",
    "    'Wisconsin': 'Midwest', \n",
    "    'Minnesota': 'Midwest',\n",
    "    'North Dakota': 'Midwest', \n",
    "    'South Dakota': 'Midwest', \n",
    "    'Nebraska': 'Midwest', \n",
    "    'Kansas': 'Midwest',\n",
    "    'Montana': 'West', \n",
    "    'Wyoming': 'West', \n",
    "    'Idaho': 'West', \n",
    "    'Washington': 'West', \n",
    "    'Oregon': 'West',\n",
    "    'California': 'West', \n",
    "    'Nevada': 'West', \n",
    "    'Utah': 'West', \n",
    "    'Colorado': 'West', \n",
    "    'Arizona': 'West',\n",
    "    'New Mexico': 'West', \n",
    "    'Alaska': 'West', \n",
    "    'Hawaii': 'West'\n",
    "}\n",
    "\n",
    "# Apply state_to_region to the 'State' column (replace 'State' with your column name)\n",
    "df['Region'] = df['State'].map(state_to_region)"
   ],
   "id": "12177641b228e354",
   "outputs": [],
   "execution_count": 203
  },
  {
   "metadata": {
    "ExecuteTime": {
     "end_time": "2025-01-11T11:18:25.491145Z",
     "start_time": "2025-01-11T11:18:25.443411Z"
    }
   },
   "cell_type": "code",
   "source": [
    "# Season\n",
    "def month_to_season(month):\n",
    "    if month in ['December', 'January', 'February']:\n",
    "        return 'Winter'\n",
    "    elif month in ['March', 'April', 'May']:\n",
    "        return 'Spring'\n",
    "    elif month in ['June', 'July', 'August']:\n",
    "        return 'Summer'\n",
    "    elif month in ['September', 'October', 'November']:\n",
    "        return 'Autumn'\n",
    "\n",
    "df['Season'] = df['Month'].apply(month_to_season)"
   ],
   "id": "46187a717ec4f228",
   "outputs": [],
   "execution_count": 204
  },
  {
   "metadata": {
    "ExecuteTime": {
     "end_time": "2025-01-11T11:18:27.643424Z",
     "start_time": "2025-01-11T11:18:27.579941Z"
    }
   },
   "cell_type": "code",
   "source": [
    "# Delete all that have Victim Sex Unknown\n",
    "df = df[df['Victim Sex'] != 'Unknown']"
   ],
   "id": "69a3749002fb9bb5",
   "outputs": [],
   "execution_count": 205
  },
  {
   "metadata": {
    "ExecuteTime": {
     "end_time": "2025-01-11T11:18:31.236498Z",
     "start_time": "2025-01-11T11:18:29.890145Z"
    }
   },
   "cell_type": "code",
   "source": "df.to_csv('FULL_df_3_single_weapon.csv', index=False)",
   "id": "b15f75bbe8afd3f3",
   "outputs": [],
   "execution_count": 206
  },
  {
   "metadata": {
    "ExecuteTime": {
     "end_time": "2025-01-11T10:54:37.297160Z",
     "start_time": "2025-01-11T10:54:37.265517Z"
    }
   },
   "cell_type": "code",
   "source": "df.columns",
   "id": "b8aa260990a16051",
   "outputs": [
    {
     "data": {
      "text/plain": [
       "Index(['Record ID', 'Agency Code', 'Agency Name', 'Agency Type', 'City',\n",
       "       'State', 'Year', 'Month', 'Incident', 'Crime Type', 'Crime Solved',\n",
       "       'Victim Sex', 'Victim Age', 'Victim Race', 'Victim Ethnicity',\n",
       "       'Perpetrator Sex', 'Perpetrator Age', 'Perpetrator Race',\n",
       "       'Perpetrator Ethnicity', 'Relationship', 'Weapon', 'Victim Count',\n",
       "       'Perpetrator Count', 'Record Source', 'Weapon Category',\n",
       "       'Relationship Category', 'Region', 'Season'],\n",
       "      dtype='object')"
      ]
     },
     "execution_count": 163,
     "metadata": {},
     "output_type": "execute_result"
    }
   ],
   "execution_count": 163
  },
  {
   "metadata": {
    "ExecuteTime": {
     "end_time": "2025-01-11T11:18:34.680485Z",
     "start_time": "2025-01-11T11:18:34.657045Z"
    }
   },
   "cell_type": "code",
   "source": "df.head()",
   "id": "ea1d42ba67bbb7c9",
   "outputs": [
    {
     "data": {
      "text/plain": [
       "    Record ID Agency Code          Agency Name   Agency Type       City  \\\n",
       "44         45     AKASP00  Alaska State Police  Other Police     Juneau   \n",
       "52         53     AL00100            Jefferson       Sheriff  Jefferson   \n",
       "53         54     AL00100            Jefferson       Sheriff  Jefferson   \n",
       "54         55     AL00100            Jefferson       Sheriff  Jefferson   \n",
       "58         59     AL00100            Jefferson       Sheriff  Jefferson   \n",
       "\n",
       "      State  Year      Month  Incident                  Crime Type  ...  \\\n",
       "44   Alaska  1980   November         4  Manslaughter by Negligence  ...   \n",
       "52  Alabama  1980       July         1      Murder or Manslaughter  ...   \n",
       "53  Alabama  1980       July         2      Murder or Manslaughter  ...   \n",
       "54  Alabama  1980       July         3      Murder or Manslaughter  ...   \n",
       "58  Alabama  1980  September        41      Murder or Manslaughter  ...   \n",
       "\n",
       "   Perpetrator Ethnicity  Relationship    Weapon Victim Count  \\\n",
       "44          Not Hispanic          Wife  Drowning            0   \n",
       "52          Not Hispanic  Acquaintance   Handgun            0   \n",
       "53          Not Hispanic       Husband   Handgun            0   \n",
       "54          Not Hispanic  Acquaintance   Handgun            0   \n",
       "58          Not Hispanic        Father     Rifle            0   \n",
       "\n",
       "   Perpetrator Count Record Source Weapon Category Relationship Category  \\\n",
       "44                 0           FBI     Non-Firearm                 Lover   \n",
       "52                 0           FBI         Firearm          Acquaintance   \n",
       "53                 0           FBI         Firearm                 Lover   \n",
       "54                 1           FBI         Firearm          Acquaintance   \n",
       "58                 0           FBI         Firearm                Family   \n",
       "\n",
       "   Region  Season  \n",
       "44   West  Autumn  \n",
       "52  South  Summer  \n",
       "53  South  Summer  \n",
       "54  South  Summer  \n",
       "58  South  Autumn  \n",
       "\n",
       "[5 rows x 28 columns]"
      ],
      "text/html": [
       "<div>\n",
       "<style scoped>\n",
       "    .dataframe tbody tr th:only-of-type {\n",
       "        vertical-align: middle;\n",
       "    }\n",
       "\n",
       "    .dataframe tbody tr th {\n",
       "        vertical-align: top;\n",
       "    }\n",
       "\n",
       "    .dataframe thead th {\n",
       "        text-align: right;\n",
       "    }\n",
       "</style>\n",
       "<table border=\"1\" class=\"dataframe\">\n",
       "  <thead>\n",
       "    <tr style=\"text-align: right;\">\n",
       "      <th></th>\n",
       "      <th>Record ID</th>\n",
       "      <th>Agency Code</th>\n",
       "      <th>Agency Name</th>\n",
       "      <th>Agency Type</th>\n",
       "      <th>City</th>\n",
       "      <th>State</th>\n",
       "      <th>Year</th>\n",
       "      <th>Month</th>\n",
       "      <th>Incident</th>\n",
       "      <th>Crime Type</th>\n",
       "      <th>...</th>\n",
       "      <th>Perpetrator Ethnicity</th>\n",
       "      <th>Relationship</th>\n",
       "      <th>Weapon</th>\n",
       "      <th>Victim Count</th>\n",
       "      <th>Perpetrator Count</th>\n",
       "      <th>Record Source</th>\n",
       "      <th>Weapon Category</th>\n",
       "      <th>Relationship Category</th>\n",
       "      <th>Region</th>\n",
       "      <th>Season</th>\n",
       "    </tr>\n",
       "  </thead>\n",
       "  <tbody>\n",
       "    <tr>\n",
       "      <th>44</th>\n",
       "      <td>45</td>\n",
       "      <td>AKASP00</td>\n",
       "      <td>Alaska State Police</td>\n",
       "      <td>Other Police</td>\n",
       "      <td>Juneau</td>\n",
       "      <td>Alaska</td>\n",
       "      <td>1980</td>\n",
       "      <td>November</td>\n",
       "      <td>4</td>\n",
       "      <td>Manslaughter by Negligence</td>\n",
       "      <td>...</td>\n",
       "      <td>Not Hispanic</td>\n",
       "      <td>Wife</td>\n",
       "      <td>Drowning</td>\n",
       "      <td>0</td>\n",
       "      <td>0</td>\n",
       "      <td>FBI</td>\n",
       "      <td>Non-Firearm</td>\n",
       "      <td>Lover</td>\n",
       "      <td>West</td>\n",
       "      <td>Autumn</td>\n",
       "    </tr>\n",
       "    <tr>\n",
       "      <th>52</th>\n",
       "      <td>53</td>\n",
       "      <td>AL00100</td>\n",
       "      <td>Jefferson</td>\n",
       "      <td>Sheriff</td>\n",
       "      <td>Jefferson</td>\n",
       "      <td>Alabama</td>\n",
       "      <td>1980</td>\n",
       "      <td>July</td>\n",
       "      <td>1</td>\n",
       "      <td>Murder or Manslaughter</td>\n",
       "      <td>...</td>\n",
       "      <td>Not Hispanic</td>\n",
       "      <td>Acquaintance</td>\n",
       "      <td>Handgun</td>\n",
       "      <td>0</td>\n",
       "      <td>0</td>\n",
       "      <td>FBI</td>\n",
       "      <td>Firearm</td>\n",
       "      <td>Acquaintance</td>\n",
       "      <td>South</td>\n",
       "      <td>Summer</td>\n",
       "    </tr>\n",
       "    <tr>\n",
       "      <th>53</th>\n",
       "      <td>54</td>\n",
       "      <td>AL00100</td>\n",
       "      <td>Jefferson</td>\n",
       "      <td>Sheriff</td>\n",
       "      <td>Jefferson</td>\n",
       "      <td>Alabama</td>\n",
       "      <td>1980</td>\n",
       "      <td>July</td>\n",
       "      <td>2</td>\n",
       "      <td>Murder or Manslaughter</td>\n",
       "      <td>...</td>\n",
       "      <td>Not Hispanic</td>\n",
       "      <td>Husband</td>\n",
       "      <td>Handgun</td>\n",
       "      <td>0</td>\n",
       "      <td>0</td>\n",
       "      <td>FBI</td>\n",
       "      <td>Firearm</td>\n",
       "      <td>Lover</td>\n",
       "      <td>South</td>\n",
       "      <td>Summer</td>\n",
       "    </tr>\n",
       "    <tr>\n",
       "      <th>54</th>\n",
       "      <td>55</td>\n",
       "      <td>AL00100</td>\n",
       "      <td>Jefferson</td>\n",
       "      <td>Sheriff</td>\n",
       "      <td>Jefferson</td>\n",
       "      <td>Alabama</td>\n",
       "      <td>1980</td>\n",
       "      <td>July</td>\n",
       "      <td>3</td>\n",
       "      <td>Murder or Manslaughter</td>\n",
       "      <td>...</td>\n",
       "      <td>Not Hispanic</td>\n",
       "      <td>Acquaintance</td>\n",
       "      <td>Handgun</td>\n",
       "      <td>0</td>\n",
       "      <td>1</td>\n",
       "      <td>FBI</td>\n",
       "      <td>Firearm</td>\n",
       "      <td>Acquaintance</td>\n",
       "      <td>South</td>\n",
       "      <td>Summer</td>\n",
       "    </tr>\n",
       "    <tr>\n",
       "      <th>58</th>\n",
       "      <td>59</td>\n",
       "      <td>AL00100</td>\n",
       "      <td>Jefferson</td>\n",
       "      <td>Sheriff</td>\n",
       "      <td>Jefferson</td>\n",
       "      <td>Alabama</td>\n",
       "      <td>1980</td>\n",
       "      <td>September</td>\n",
       "      <td>41</td>\n",
       "      <td>Murder or Manslaughter</td>\n",
       "      <td>...</td>\n",
       "      <td>Not Hispanic</td>\n",
       "      <td>Father</td>\n",
       "      <td>Rifle</td>\n",
       "      <td>0</td>\n",
       "      <td>0</td>\n",
       "      <td>FBI</td>\n",
       "      <td>Firearm</td>\n",
       "      <td>Family</td>\n",
       "      <td>South</td>\n",
       "      <td>Autumn</td>\n",
       "    </tr>\n",
       "  </tbody>\n",
       "</table>\n",
       "<p>5 rows × 28 columns</p>\n",
       "</div>"
      ]
     },
     "execution_count": 207,
     "metadata": {},
     "output_type": "execute_result"
    }
   ],
   "execution_count": 207
  },
  {
   "metadata": {
    "ExecuteTime": {
     "end_time": "2025-01-11T11:18:38.252867Z",
     "start_time": "2025-01-11T11:18:38.207991Z"
    }
   },
   "cell_type": "code",
   "source": "df = df.drop(columns=['Record ID', 'Agency Code', 'Agency Name', 'City', 'State', 'Year', 'Month', 'Incident','Crime Type'])",
   "id": "ca0c1547e80b262c",
   "outputs": [],
   "execution_count": 208
  },
  {
   "metadata": {
    "ExecuteTime": {
     "end_time": "2025-01-11T10:58:07.154531Z",
     "start_time": "2025-01-11T10:58:07.123607Z"
    }
   },
   "cell_type": "code",
   "source": "df.head()",
   "id": "4802b025aca6c1cf",
   "outputs": [
    {
     "data": {
      "text/plain": [
       "     Agency Type Crime Solved Victim Sex  Victim Age  \\\n",
       "44  Other Police          Yes     Female          26   \n",
       "52       Sheriff          Yes       Male          23   \n",
       "53       Sheriff          Yes       Male          42   \n",
       "54       Sheriff          Yes       Male          33   \n",
       "58       Sheriff          Yes       Male          46   \n",
       "\n",
       "                      Victim Race Victim Ethnicity Perpetrator Sex  \\\n",
       "44  Native American/Alaska Native     Not Hispanic            Male   \n",
       "52                          Black     Not Hispanic            Male   \n",
       "53                          White     Not Hispanic          Female   \n",
       "54                          Black     Not Hispanic            Male   \n",
       "58                          White     Not Hispanic            Male   \n",
       "\n",
       "   Perpetrator Age               Perpetrator Race Perpetrator Ethnicity  \\\n",
       "44             NaN  Native American/Alaska Native          Not Hispanic   \n",
       "52             NaN                          Black          Not Hispanic   \n",
       "53             NaN                          White          Not Hispanic   \n",
       "54             NaN                          Black          Not Hispanic   \n",
       "58             NaN                          White          Not Hispanic   \n",
       "\n",
       "    Relationship    Weapon  Victim Count  Perpetrator Count Record Source  \\\n",
       "44          Wife  Drowning             0                  0           FBI   \n",
       "52  Acquaintance   Handgun             0                  0           FBI   \n",
       "53       Husband   Handgun             0                  0           FBI   \n",
       "54  Acquaintance   Handgun             0                  1           FBI   \n",
       "58        Father     Rifle             0                  0           FBI   \n",
       "\n",
       "   Weapon Category Relationship Category Region  Season  \n",
       "44     Non-Firearm                 Lover   West  Autumn  \n",
       "52         Firearm          Acquaintance  South  Summer  \n",
       "53         Firearm                 Lover  South  Summer  \n",
       "54         Firearm          Acquaintance  South  Summer  \n",
       "58         Firearm                Family  South  Autumn  "
      ],
      "text/html": [
       "<div>\n",
       "<style scoped>\n",
       "    .dataframe tbody tr th:only-of-type {\n",
       "        vertical-align: middle;\n",
       "    }\n",
       "\n",
       "    .dataframe tbody tr th {\n",
       "        vertical-align: top;\n",
       "    }\n",
       "\n",
       "    .dataframe thead th {\n",
       "        text-align: right;\n",
       "    }\n",
       "</style>\n",
       "<table border=\"1\" class=\"dataframe\">\n",
       "  <thead>\n",
       "    <tr style=\"text-align: right;\">\n",
       "      <th></th>\n",
       "      <th>Agency Type</th>\n",
       "      <th>Crime Solved</th>\n",
       "      <th>Victim Sex</th>\n",
       "      <th>Victim Age</th>\n",
       "      <th>Victim Race</th>\n",
       "      <th>Victim Ethnicity</th>\n",
       "      <th>Perpetrator Sex</th>\n",
       "      <th>Perpetrator Age</th>\n",
       "      <th>Perpetrator Race</th>\n",
       "      <th>Perpetrator Ethnicity</th>\n",
       "      <th>Relationship</th>\n",
       "      <th>Weapon</th>\n",
       "      <th>Victim Count</th>\n",
       "      <th>Perpetrator Count</th>\n",
       "      <th>Record Source</th>\n",
       "      <th>Weapon Category</th>\n",
       "      <th>Relationship Category</th>\n",
       "      <th>Region</th>\n",
       "      <th>Season</th>\n",
       "    </tr>\n",
       "  </thead>\n",
       "  <tbody>\n",
       "    <tr>\n",
       "      <th>44</th>\n",
       "      <td>Other Police</td>\n",
       "      <td>Yes</td>\n",
       "      <td>Female</td>\n",
       "      <td>26</td>\n",
       "      <td>Native American/Alaska Native</td>\n",
       "      <td>Not Hispanic</td>\n",
       "      <td>Male</td>\n",
       "      <td>NaN</td>\n",
       "      <td>Native American/Alaska Native</td>\n",
       "      <td>Not Hispanic</td>\n",
       "      <td>Wife</td>\n",
       "      <td>Drowning</td>\n",
       "      <td>0</td>\n",
       "      <td>0</td>\n",
       "      <td>FBI</td>\n",
       "      <td>Non-Firearm</td>\n",
       "      <td>Lover</td>\n",
       "      <td>West</td>\n",
       "      <td>Autumn</td>\n",
       "    </tr>\n",
       "    <tr>\n",
       "      <th>52</th>\n",
       "      <td>Sheriff</td>\n",
       "      <td>Yes</td>\n",
       "      <td>Male</td>\n",
       "      <td>23</td>\n",
       "      <td>Black</td>\n",
       "      <td>Not Hispanic</td>\n",
       "      <td>Male</td>\n",
       "      <td>NaN</td>\n",
       "      <td>Black</td>\n",
       "      <td>Not Hispanic</td>\n",
       "      <td>Acquaintance</td>\n",
       "      <td>Handgun</td>\n",
       "      <td>0</td>\n",
       "      <td>0</td>\n",
       "      <td>FBI</td>\n",
       "      <td>Firearm</td>\n",
       "      <td>Acquaintance</td>\n",
       "      <td>South</td>\n",
       "      <td>Summer</td>\n",
       "    </tr>\n",
       "    <tr>\n",
       "      <th>53</th>\n",
       "      <td>Sheriff</td>\n",
       "      <td>Yes</td>\n",
       "      <td>Male</td>\n",
       "      <td>42</td>\n",
       "      <td>White</td>\n",
       "      <td>Not Hispanic</td>\n",
       "      <td>Female</td>\n",
       "      <td>NaN</td>\n",
       "      <td>White</td>\n",
       "      <td>Not Hispanic</td>\n",
       "      <td>Husband</td>\n",
       "      <td>Handgun</td>\n",
       "      <td>0</td>\n",
       "      <td>0</td>\n",
       "      <td>FBI</td>\n",
       "      <td>Firearm</td>\n",
       "      <td>Lover</td>\n",
       "      <td>South</td>\n",
       "      <td>Summer</td>\n",
       "    </tr>\n",
       "    <tr>\n",
       "      <th>54</th>\n",
       "      <td>Sheriff</td>\n",
       "      <td>Yes</td>\n",
       "      <td>Male</td>\n",
       "      <td>33</td>\n",
       "      <td>Black</td>\n",
       "      <td>Not Hispanic</td>\n",
       "      <td>Male</td>\n",
       "      <td>NaN</td>\n",
       "      <td>Black</td>\n",
       "      <td>Not Hispanic</td>\n",
       "      <td>Acquaintance</td>\n",
       "      <td>Handgun</td>\n",
       "      <td>0</td>\n",
       "      <td>1</td>\n",
       "      <td>FBI</td>\n",
       "      <td>Firearm</td>\n",
       "      <td>Acquaintance</td>\n",
       "      <td>South</td>\n",
       "      <td>Summer</td>\n",
       "    </tr>\n",
       "    <tr>\n",
       "      <th>58</th>\n",
       "      <td>Sheriff</td>\n",
       "      <td>Yes</td>\n",
       "      <td>Male</td>\n",
       "      <td>46</td>\n",
       "      <td>White</td>\n",
       "      <td>Not Hispanic</td>\n",
       "      <td>Male</td>\n",
       "      <td>NaN</td>\n",
       "      <td>White</td>\n",
       "      <td>Not Hispanic</td>\n",
       "      <td>Father</td>\n",
       "      <td>Rifle</td>\n",
       "      <td>0</td>\n",
       "      <td>0</td>\n",
       "      <td>FBI</td>\n",
       "      <td>Firearm</td>\n",
       "      <td>Family</td>\n",
       "      <td>South</td>\n",
       "      <td>Autumn</td>\n",
       "    </tr>\n",
       "  </tbody>\n",
       "</table>\n",
       "</div>"
      ]
     },
     "execution_count": 168,
     "metadata": {},
     "output_type": "execute_result"
    }
   ],
   "execution_count": 168
  },
  {
   "metadata": {
    "ExecuteTime": {
     "end_time": "2025-01-11T11:18:40.797267Z",
     "start_time": "2025-01-11T11:18:40.749443Z"
    }
   },
   "cell_type": "code",
   "source": "df = df.drop(columns=['Crime Solved','Perpetrator Age','Relationship', 'Weapon', 'Victim Count', 'Perpetrator Count', 'Record Source', 'Victim Race', 'Perpetrator Race'])",
   "id": "16925be71d8068f3",
   "outputs": [],
   "execution_count": 209
  },
  {
   "metadata": {
    "ExecuteTime": {
     "end_time": "2025-01-11T11:18:42.905537Z",
     "start_time": "2025-01-11T11:18:42.889551Z"
    }
   },
   "cell_type": "code",
   "source": "df.head()",
   "id": "71c425864f3392a3",
   "outputs": [
    {
     "data": {
      "text/plain": [
       "     Agency Type Victim Sex  Victim Age Victim Ethnicity Perpetrator Sex  \\\n",
       "44  Other Police     Female          26     Not Hispanic            Male   \n",
       "52       Sheriff       Male          23     Not Hispanic            Male   \n",
       "53       Sheriff       Male          42     Not Hispanic          Female   \n",
       "54       Sheriff       Male          33     Not Hispanic            Male   \n",
       "58       Sheriff       Male          46     Not Hispanic            Male   \n",
       "\n",
       "   Perpetrator Ethnicity Weapon Category Relationship Category Region  Season  \n",
       "44          Not Hispanic     Non-Firearm                 Lover   West  Autumn  \n",
       "52          Not Hispanic         Firearm          Acquaintance  South  Summer  \n",
       "53          Not Hispanic         Firearm                 Lover  South  Summer  \n",
       "54          Not Hispanic         Firearm          Acquaintance  South  Summer  \n",
       "58          Not Hispanic         Firearm                Family  South  Autumn  "
      ],
      "text/html": [
       "<div>\n",
       "<style scoped>\n",
       "    .dataframe tbody tr th:only-of-type {\n",
       "        vertical-align: middle;\n",
       "    }\n",
       "\n",
       "    .dataframe tbody tr th {\n",
       "        vertical-align: top;\n",
       "    }\n",
       "\n",
       "    .dataframe thead th {\n",
       "        text-align: right;\n",
       "    }\n",
       "</style>\n",
       "<table border=\"1\" class=\"dataframe\">\n",
       "  <thead>\n",
       "    <tr style=\"text-align: right;\">\n",
       "      <th></th>\n",
       "      <th>Agency Type</th>\n",
       "      <th>Victim Sex</th>\n",
       "      <th>Victim Age</th>\n",
       "      <th>Victim Ethnicity</th>\n",
       "      <th>Perpetrator Sex</th>\n",
       "      <th>Perpetrator Ethnicity</th>\n",
       "      <th>Weapon Category</th>\n",
       "      <th>Relationship Category</th>\n",
       "      <th>Region</th>\n",
       "      <th>Season</th>\n",
       "    </tr>\n",
       "  </thead>\n",
       "  <tbody>\n",
       "    <tr>\n",
       "      <th>44</th>\n",
       "      <td>Other Police</td>\n",
       "      <td>Female</td>\n",
       "      <td>26</td>\n",
       "      <td>Not Hispanic</td>\n",
       "      <td>Male</td>\n",
       "      <td>Not Hispanic</td>\n",
       "      <td>Non-Firearm</td>\n",
       "      <td>Lover</td>\n",
       "      <td>West</td>\n",
       "      <td>Autumn</td>\n",
       "    </tr>\n",
       "    <tr>\n",
       "      <th>52</th>\n",
       "      <td>Sheriff</td>\n",
       "      <td>Male</td>\n",
       "      <td>23</td>\n",
       "      <td>Not Hispanic</td>\n",
       "      <td>Male</td>\n",
       "      <td>Not Hispanic</td>\n",
       "      <td>Firearm</td>\n",
       "      <td>Acquaintance</td>\n",
       "      <td>South</td>\n",
       "      <td>Summer</td>\n",
       "    </tr>\n",
       "    <tr>\n",
       "      <th>53</th>\n",
       "      <td>Sheriff</td>\n",
       "      <td>Male</td>\n",
       "      <td>42</td>\n",
       "      <td>Not Hispanic</td>\n",
       "      <td>Female</td>\n",
       "      <td>Not Hispanic</td>\n",
       "      <td>Firearm</td>\n",
       "      <td>Lover</td>\n",
       "      <td>South</td>\n",
       "      <td>Summer</td>\n",
       "    </tr>\n",
       "    <tr>\n",
       "      <th>54</th>\n",
       "      <td>Sheriff</td>\n",
       "      <td>Male</td>\n",
       "      <td>33</td>\n",
       "      <td>Not Hispanic</td>\n",
       "      <td>Male</td>\n",
       "      <td>Not Hispanic</td>\n",
       "      <td>Firearm</td>\n",
       "      <td>Acquaintance</td>\n",
       "      <td>South</td>\n",
       "      <td>Summer</td>\n",
       "    </tr>\n",
       "    <tr>\n",
       "      <th>58</th>\n",
       "      <td>Sheriff</td>\n",
       "      <td>Male</td>\n",
       "      <td>46</td>\n",
       "      <td>Not Hispanic</td>\n",
       "      <td>Male</td>\n",
       "      <td>Not Hispanic</td>\n",
       "      <td>Firearm</td>\n",
       "      <td>Family</td>\n",
       "      <td>South</td>\n",
       "      <td>Autumn</td>\n",
       "    </tr>\n",
       "  </tbody>\n",
       "</table>\n",
       "</div>"
      ]
     },
     "execution_count": 210,
     "metadata": {},
     "output_type": "execute_result"
    }
   ],
   "execution_count": 210
  },
  {
   "metadata": {
    "ExecuteTime": {
     "end_time": "2025-01-11T11:18:51.060355Z",
     "start_time": "2025-01-11T11:18:50.607968Z"
    }
   },
   "cell_type": "code",
   "source": "df.to_csv('clean_df_3_single_weapon.csv', index=False)",
   "id": "7e10963aab1eb8ab",
   "outputs": [],
   "execution_count": 211
  },
  {
   "metadata": {
    "ExecuteTime": {
     "end_time": "2025-01-11T11:34:46.702165Z",
     "start_time": "2025-01-11T11:34:46.560231Z"
    }
   },
   "cell_type": "code",
   "source": "len(df)",
   "id": "d4bcbda134884e24",
   "outputs": [
    {
     "data": {
      "text/plain": [
       "153511"
      ]
     },
     "execution_count": 212,
     "metadata": {},
     "output_type": "execute_result"
    }
   ],
   "execution_count": 212
  }
 ],
 "metadata": {
  "kernelspec": {
   "display_name": "Python 3",
   "language": "python",
   "name": "python3"
  },
  "language_info": {
   "codemirror_mode": {
    "name": "ipython",
    "version": 2
   },
   "file_extension": ".py",
   "mimetype": "text/x-python",
   "name": "python",
   "nbconvert_exporter": "python",
   "pygments_lexer": "ipython2",
   "version": "2.7.6"
  }
 },
 "nbformat": 4,
 "nbformat_minor": 5
}
