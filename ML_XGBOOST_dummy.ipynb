{
 "cells": [
  {
   "cell_type": "code",
   "id": "74a91e64088155aa",
   "metadata": {
    "ExecuteTime": {
     "end_time": "2025-01-10T22:38:48.752912Z",
     "start_time": "2025-01-10T22:38:48.252905Z"
    }
   },
   "source": [
    "from sklearn.model_selection import train_test_split\n",
    "\n",
    "import pandas as pd\n",
    "import numpy as np\n",
    "import seaborn as sns\n",
    "import matplotlib.pyplot as plt\n",
    "\n",
    "\n",
    "crime = pd.read_csv('05. crime_dataset_analysis.csv')\n",
    "\n",
    "X = crime.drop(columns=[\"Weapon Category\"])\n",
    "y = crime[\"Weapon Category\"]\n",
    "\n",
    "# Split into training and testing sets\n",
    "X_train, X_test, y_train, y_test = train_test_split(X, y, test_size=0.3, random_state=42, stratify=y)\n",
    "\n",
    "\n",
    "\n"
   ],
   "outputs": [],
   "execution_count": 6
  },
  {
   "metadata": {
    "ExecuteTime": {
     "end_time": "2025-01-10T22:38:56.586343Z",
     "start_time": "2025-01-10T22:38:55.306817Z"
    }
   },
   "cell_type": "code",
   "source": [
    "# XGBoost\n",
    "from xgboost import XGBClassifier\n",
    "from sklearn.metrics import classification_report, accuracy_score, confusion_matrix\n",
    "\n",
    "scale_pos_weight = len(y_train) / sum(y_train == 1)  # Number of negative to positive samples\n",
    "\n",
    "# Initialize XGBoost model with scale_pos_weight\n",
    "xgb_model = XGBClassifier(random_state=42,\n",
    "                          eval_metric='aucpr',\n",
    "                          scale_pos_weight=scale_pos_weight)\n",
    "\n",
    "# Fit the model on the training data\n",
    "xgb_model.fit(X_train, y_train)\n",
    "\n",
    "# Make predictions on the test data\n",
    "y_pred = xgb_model.predict(X_test)\n",
    "\n",
    "# Evaluate the model's performance\n",
    "accuracy = accuracy_score(y_test, y_pred)\n",
    "print(f\"Accuracy: {accuracy}\")\n",
    "\n",
    "# Display the classification report\n",
    "print(classification_report(y_test, y_pred))"
   ],
   "id": "initial_id",
   "outputs": [
    {
     "name": "stdout",
     "output_type": "stream",
     "text": [
      "Accuracy: 0.7031093933208842\n",
      "              precision    recall  f1-score   support\n",
      "\n",
      "           0       0.73      0.16      0.26     15157\n",
      "           1       0.70      0.97      0.81     30897\n",
      "\n",
      "    accuracy                           0.70     46054\n",
      "   macro avg       0.71      0.56      0.54     46054\n",
      "weighted avg       0.71      0.70      0.63     46054\n",
      "\n"
     ]
    }
   ],
   "execution_count": 7
  },
  {
   "cell_type": "code",
   "id": "94149d94df4af12",
   "metadata": {
    "ExecuteTime": {
     "end_time": "2025-01-10T22:37:45.124916Z",
     "start_time": "2025-01-10T22:37:45.104074Z"
    }
   },
   "source": [
    "confusion_matrix(y_test, y_pred)"
   ],
   "outputs": [
    {
     "data": {
      "text/plain": [
       "array([[ 2387, 12770],\n",
       "       [  903, 29994]])"
      ]
     },
     "execution_count": 4,
     "metadata": {},
     "output_type": "execute_result"
    }
   ],
   "execution_count": 4
  },
  {
   "cell_type": "code",
   "id": "d3cf1bec-c1c7-4e48-88f6-e58d98b55228",
   "metadata": {
    "ExecuteTime": {
     "end_time": "2025-01-10T22:39:23.041790Z",
     "start_time": "2025-01-10T22:39:17.316353Z"
    }
   },
   "source": [
    "from imblearn.over_sampling import SMOTE\n",
    "\n",
    "smote = SMOTE(random_state=42)\n",
    "X_train_resampled, y_train_resampled = smote.fit_resample(X_train, y_train)\n",
    "\n",
    "print(f\"Original class distribution:\\n{y_train.value_counts()}\")\n",
    "print(f\"Resampled class distribution:\\n{y_train_resampled.value_counts()}\")\n",
    "\n",
    "# Step 3: Train the XGBoost classifier\n",
    "xgb_model.fit(X_train_resampled, y_train_resampled)\n",
    "\n",
    "# Step 4: Evaluate on the test set\n",
    "y_pred = xgb_model.predict(X_test)\n",
    "# Evaluate the model's performance\n",
    "accuracy = accuracy_score(y_test, y_pred)\n",
    "print(f\"Accuracy: {accuracy}\")\n",
    "\n",
    "# Display the classification report\n",
    "print(classification_report(y_test, y_pred))\n"
   ],
   "outputs": [
    {
     "name": "stdout",
     "output_type": "stream",
     "text": [
      "Original class distribution:\n",
      "Weapon Category\n",
      "1    72091\n",
      "0    35366\n",
      "Name: count, dtype: int64\n",
      "Resampled class distribution:\n",
      "Weapon Category\n",
      "1    72091\n",
      "0    72091\n",
      "Name: count, dtype: int64\n",
      "Accuracy: 0.6983758196899292\n",
      "              precision    recall  f1-score   support\n",
      "\n",
      "           0       0.57      0.33      0.42     15157\n",
      "           1       0.73      0.88      0.80     30897\n",
      "\n",
      "    accuracy                           0.70     46054\n",
      "   macro avg       0.65      0.60      0.61     46054\n",
      "weighted avg       0.68      0.70      0.67     46054\n",
      "\n"
     ]
    }
   ],
   "execution_count": 8
  },
  {
   "cell_type": "code",
   "id": "28cbc56a-fd2f-4560-8b98-e36c18a24906",
   "metadata": {
    "ExecuteTime": {
     "end_time": "2024-12-23T12:48:43.558184Z",
     "start_time": "2024-12-23T12:48:43.441238Z"
    }
   },
   "source": [
    "confusion_matrix(y_test, y_pred)"
   ],
   "outputs": [
    {
     "data": {
      "text/plain": [
       "array([[ 4939, 10218],\n",
       "       [ 3673, 27224]])"
      ]
     },
     "execution_count": 7,
     "metadata": {},
     "output_type": "execute_result"
    }
   ],
   "execution_count": 7
  },
  {
   "cell_type": "code",
   "execution_count": null,
   "id": "45b2c60e-d01c-4bbe-a5ed-9538563e6ff5",
   "metadata": {},
   "outputs": [],
   "source": []
  }
 ],
 "metadata": {
  "kernelspec": {
   "display_name": "Python 3 (ipykernel)",
   "language": "python",
   "name": "python3"
  },
  "language_info": {
   "codemirror_mode": {
    "name": "ipython",
    "version": 3
   },
   "file_extension": ".py",
   "mimetype": "text/x-python",
   "name": "python",
   "nbconvert_exporter": "python",
   "pygments_lexer": "ipython3",
   "version": "3.12.4"
  }
 },
 "nbformat": 4,
 "nbformat_minor": 5
}
