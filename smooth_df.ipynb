{
 "cells": [
  {
   "cell_type": "code",
   "id": "initial_id",
   "metadata": {
    "collapsed": true,
    "ExecuteTime": {
     "end_time": "2025-01-11T11:24:15.489929Z",
     "start_time": "2025-01-11T11:24:07.679792Z"
    }
   },
   "source": [
    "import pandas as pd\n",
    "from sklearn.model_selection import train_test_split\n",
    "from sklearn.preprocessing import LabelEncoder\n",
    "from imblearn.over_sampling import SMOTE"
   ],
   "outputs": [],
   "execution_count": 3
  },
  {
   "cell_type": "code",
   "source": [
    "df = pd.read_csv('clean_df_3_single_weapon.csv')\n",
    "df.head()"
   ],
   "metadata": {
    "collapsed": false,
    "ExecuteTime": {
     "end_time": "2025-01-11T11:25:05.030003Z",
     "start_time": "2025-01-11T11:25:04.667414Z"
    }
   },
   "id": "c255a94b880382d",
   "outputs": [
    {
     "data": {
      "text/plain": [
       "    Agency Type Victim Sex  Victim Age Victim Ethnicity Perpetrator Sex  \\\n",
       "0  Other Police     Female          26     Not Hispanic            Male   \n",
       "1       Sheriff       Male          23     Not Hispanic            Male   \n",
       "2       Sheriff       Male          42     Not Hispanic          Female   \n",
       "3       Sheriff       Male          33     Not Hispanic            Male   \n",
       "4       Sheriff       Male          46     Not Hispanic            Male   \n",
       "\n",
       "  Perpetrator Ethnicity Weapon Category Relationship Category Region  Season  \n",
       "0          Not Hispanic     Non-Firearm                 Lover   West  Autumn  \n",
       "1          Not Hispanic         Firearm          Acquaintance  South  Summer  \n",
       "2          Not Hispanic         Firearm                 Lover  South  Summer  \n",
       "3          Not Hispanic         Firearm          Acquaintance  South  Summer  \n",
       "4          Not Hispanic         Firearm                Family  South  Autumn  "
      ],
      "text/html": [
       "<div>\n",
       "<style scoped>\n",
       "    .dataframe tbody tr th:only-of-type {\n",
       "        vertical-align: middle;\n",
       "    }\n",
       "\n",
       "    .dataframe tbody tr th {\n",
       "        vertical-align: top;\n",
       "    }\n",
       "\n",
       "    .dataframe thead th {\n",
       "        text-align: right;\n",
       "    }\n",
       "</style>\n",
       "<table border=\"1\" class=\"dataframe\">\n",
       "  <thead>\n",
       "    <tr style=\"text-align: right;\">\n",
       "      <th></th>\n",
       "      <th>Agency Type</th>\n",
       "      <th>Victim Sex</th>\n",
       "      <th>Victim Age</th>\n",
       "      <th>Victim Ethnicity</th>\n",
       "      <th>Perpetrator Sex</th>\n",
       "      <th>Perpetrator Ethnicity</th>\n",
       "      <th>Weapon Category</th>\n",
       "      <th>Relationship Category</th>\n",
       "      <th>Region</th>\n",
       "      <th>Season</th>\n",
       "    </tr>\n",
       "  </thead>\n",
       "  <tbody>\n",
       "    <tr>\n",
       "      <th>0</th>\n",
       "      <td>Other Police</td>\n",
       "      <td>Female</td>\n",
       "      <td>26</td>\n",
       "      <td>Not Hispanic</td>\n",
       "      <td>Male</td>\n",
       "      <td>Not Hispanic</td>\n",
       "      <td>Non-Firearm</td>\n",
       "      <td>Lover</td>\n",
       "      <td>West</td>\n",
       "      <td>Autumn</td>\n",
       "    </tr>\n",
       "    <tr>\n",
       "      <th>1</th>\n",
       "      <td>Sheriff</td>\n",
       "      <td>Male</td>\n",
       "      <td>23</td>\n",
       "      <td>Not Hispanic</td>\n",
       "      <td>Male</td>\n",
       "      <td>Not Hispanic</td>\n",
       "      <td>Firearm</td>\n",
       "      <td>Acquaintance</td>\n",
       "      <td>South</td>\n",
       "      <td>Summer</td>\n",
       "    </tr>\n",
       "    <tr>\n",
       "      <th>2</th>\n",
       "      <td>Sheriff</td>\n",
       "      <td>Male</td>\n",
       "      <td>42</td>\n",
       "      <td>Not Hispanic</td>\n",
       "      <td>Female</td>\n",
       "      <td>Not Hispanic</td>\n",
       "      <td>Firearm</td>\n",
       "      <td>Lover</td>\n",
       "      <td>South</td>\n",
       "      <td>Summer</td>\n",
       "    </tr>\n",
       "    <tr>\n",
       "      <th>3</th>\n",
       "      <td>Sheriff</td>\n",
       "      <td>Male</td>\n",
       "      <td>33</td>\n",
       "      <td>Not Hispanic</td>\n",
       "      <td>Male</td>\n",
       "      <td>Not Hispanic</td>\n",
       "      <td>Firearm</td>\n",
       "      <td>Acquaintance</td>\n",
       "      <td>South</td>\n",
       "      <td>Summer</td>\n",
       "    </tr>\n",
       "    <tr>\n",
       "      <th>4</th>\n",
       "      <td>Sheriff</td>\n",
       "      <td>Male</td>\n",
       "      <td>46</td>\n",
       "      <td>Not Hispanic</td>\n",
       "      <td>Male</td>\n",
       "      <td>Not Hispanic</td>\n",
       "      <td>Firearm</td>\n",
       "      <td>Family</td>\n",
       "      <td>South</td>\n",
       "      <td>Autumn</td>\n",
       "    </tr>\n",
       "  </tbody>\n",
       "</table>\n",
       "</div>"
      ]
     },
     "execution_count": 4,
     "metadata": {},
     "output_type": "execute_result"
    }
   ],
   "execution_count": 4
  },
  {
   "cell_type": "code",
   "source": [
    "# Target variable\n",
    "target_column = 'Weapon Category'\n",
    "\n",
    "\n",
    "# Encode categorical features\n",
    "encoder = LabelEncoder()\n",
    "encoded_df = df.copy()\n",
    "for col in df.columns:\n",
    "    encoded_df[col] = encoder.fit_transform(df[col])\n",
    "\n",
    "# Features and target split\n",
    "X = encoded_df.drop(columns=[target_column])\n",
    "y = encoded_df[target_column]\n",
    "\n",
    "# Apply SMOTE\n",
    "smote = SMOTE(random_state=42)\n",
    "X_resampled, y_resampled = smote.fit_resample(X, y)\n",
    "\n",
    "# Map target labels back to original categories\n",
    "target_mapping = dict(zip(range(len(encoder.classes_)), encoder.classes_))\n",
    "resampled_df = pd.DataFrame(X_resampled, columns=X.columns)\n",
    "resampled_df[target_column] = y_resampled.map(target_mapping)\n",
    "\n",
    "# Decode categorical features back to original values\n",
    "for col in df.columns:\n",
    "    if col != target_column:\n",
    "        resampled_df[col] = resampled_df[col].map(dict(zip(range(len(encoder.classes_)), encoder.classes_)))\n",
    "\n",
    "# Save datasets\n",
    "original_file = \"original_dataset.csv\"\n",
    "resampled_file = \"resampled_dataset.csv\"\n",
    "\n",
    "df.to_csv(original_file, index=False)\n",
    "resampled_df.to_csv(resampled_file, index=False)\n",
    "\n",
    "print(f\"Original dataset saved as: {original_file}\")\n",
    "print(f\"Resampled dataset (with SMOTE) saved as: {resampled_file}\")"
   ],
   "metadata": {
    "collapsed": false,
    "ExecuteTime": {
     "end_time": "2025-01-11T11:25:13.212451Z",
     "start_time": "2025-01-11T11:25:09.295790Z"
    }
   },
   "id": "eac35d86e48c53ba",
   "outputs": [
    {
     "name": "stdout",
     "output_type": "stream",
     "text": [
      "Original dataset saved as: original_dataset.csv\n",
      "Resampled dataset (with SMOTE) saved as: resampled_dataset.csv\n"
     ]
    }
   ],
   "execution_count": 5
  }
 ],
 "metadata": {
  "kernelspec": {
   "display_name": "Python 3",
   "language": "python",
   "name": "python3"
  },
  "language_info": {
   "codemirror_mode": {
    "name": "ipython",
    "version": 2
   },
   "file_extension": ".py",
   "mimetype": "text/x-python",
   "name": "python",
   "nbconvert_exporter": "python",
   "pygments_lexer": "ipython2",
   "version": "2.7.6"
  }
 },
 "nbformat": 4,
 "nbformat_minor": 5
}
