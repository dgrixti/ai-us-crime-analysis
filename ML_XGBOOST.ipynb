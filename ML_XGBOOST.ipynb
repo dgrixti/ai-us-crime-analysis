{
 "cells": [
  {
   "cell_type": "code",
   "id": "74a91e64088155aa",
   "metadata": {
    "ExecuteTime": {
     "end_time": "2024-12-23T16:22:31.309488Z",
     "start_time": "2024-12-23T16:22:29.074370Z"
    }
   },
   "source": [
    "from sklearn.model_selection import train_test_split\n",
    "from xgboost import XGBClassifier\n",
    "from sklearn.metrics import classification_report, accuracy_score, confusion_matrix\n",
    "\n",
    "import pandas as pd\n",
    "from sklearn.preprocessing import LabelEncoder\n",
    "\n",
    "\n",
    "data = pd.read_csv('master_data_clean.csv').drop(columns=['Agency_Type_grouped'])\n",
    "\n",
    "label_encoders = {}\n",
    "for col in data.select_dtypes(include=['object']).columns:\n",
    "    le = LabelEncoder()\n",
    "    data[col] = le.fit_transform(data[col])\n",
    "    label_encoders[col] = le\n",
    "\n",
    "# Separate features and target\n",
    "target_column = 'Weapon Category'\n",
    "X = data.drop(columns=[target_column])\n",
    "y = data[target_column]\n",
    "\n",
    "# Split the data into training and testing sets\n",
    "X_train, X_test, y_train, y_test = train_test_split(X, y, test_size=0.3, random_state=42, stratify=y)\n",
    "\n",
    "scale_pos_weight = len(y_train[y_train == 0]) / len(y_train[y_train == 1])\n",
    "\n",
    "# Initialize and train the XGBoost classifier\n",
    "xgb_model = XGBClassifier(eval_metric='aucpr', random_state=42, scale_pos_weight=scale_pos_weight)\n",
    "xgb_model.fit(X_train, y_train)\n",
    "\n",
    "# Make predictions\n",
    "y_pred = xgb_model.predict(X_test)\n",
    "\n",
    "# Evaluate the model\n",
    "accuracy = accuracy_score(y_test, y_pred)\n",
    "report = classification_report(y_test, y_pred)\n",
    "\n",
    "print(f\"Accuracy: {accuracy:.2f}\")\n",
    "print(\"\\nClassification Report:\\n\")\n",
    "print(report)\n",
    "\n"
   ],
   "outputs": [
    {
     "name": "stdout",
     "output_type": "stream",
     "text": [
      "Accuracy: 0.66\n",
      "\n",
      "Classification Report:\n",
      "\n",
      "              precision    recall  f1-score   support\n",
      "\n",
      "           0       0.78      0.68      0.73     30901\n",
      "           1       0.48      0.60      0.53     15159\n",
      "\n",
      "    accuracy                           0.66     46060\n",
      "   macro avg       0.63      0.64      0.63     46060\n",
      "weighted avg       0.68      0.66      0.66     46060\n",
      "\n"
     ]
    }
   ],
   "execution_count": 33
  },
  {
   "cell_type": "code",
   "id": "94149d94df4af12",
   "metadata": {
    "ExecuteTime": {
     "end_time": "2024-12-23T16:11:28.705307Z",
     "start_time": "2024-12-23T16:11:28.643202Z"
    }
   },
   "source": [
    "confusion_matrix(y_test, y_pred)"
   ],
   "outputs": [
    {
     "data": {
      "text/plain": [
       "array([[28391,  2510],\n",
       "       [10859,  4300]])"
      ]
     },
     "execution_count": 29,
     "metadata": {},
     "output_type": "execute_result"
    }
   ],
   "execution_count": 29
  },
  {
   "cell_type": "code",
   "id": "d3cf1bec-c1c7-4e48-88f6-e58d98b55228",
   "metadata": {
    "ExecuteTime": {
     "end_time": "2024-12-23T16:38:01.597481Z",
     "start_time": "2024-12-23T16:37:59.300188Z"
    }
   },
   "source": [
    "from imblearn.over_sampling import SMOTE\n",
    "\n",
    "smote = SMOTE(random_state=42)\n",
    "X_train_resampled, y_train_resampled = smote.fit_resample(X_train, y_train)\n",
    "\n",
    "xgb_model = XGBClassifier(eval_metric='aucpr', random_state=42)\n",
    "# Step 3: Train the XGBoost classifier\n",
    "xgb_model.fit(X_train_resampled, y_train_resampled)\n",
    "\n",
    "# Step 4: Evaluate on the test set\n",
    "y_pred = xgb_model.predict(X_test)\n",
    "# Evaluate the model's performance\n",
    "accuracy = accuracy_score(y_test, y_pred)\n",
    "print(f\"Accuracy: {accuracy}\")\n",
    "\n",
    "# Display the classification report\n",
    "print(classification_report(y_test, y_pred))\n"
   ],
   "outputs": [
    {
     "name": "stdout",
     "output_type": "stream",
     "text": [
      "Accuracy: 0.6543421623968736\n",
      "              precision    recall  f1-score   support\n",
      "\n",
      "           0       0.77      0.69      0.73     30901\n",
      "           1       0.48      0.58      0.53     15159\n",
      "\n",
      "    accuracy                           0.65     46060\n",
      "   macro avg       0.63      0.64      0.63     46060\n",
      "weighted avg       0.68      0.65      0.66     46060\n",
      "\n"
     ]
    }
   ],
   "execution_count": 34
  },
  {
   "cell_type": "code",
   "id": "28cbc56a-fd2f-4560-8b98-e36c18a24906",
   "metadata": {
    "ExecuteTime": {
     "end_time": "2024-12-23T16:14:11.942936Z",
     "start_time": "2024-12-23T16:14:11.924828Z"
    }
   },
   "source": [
    "confusion_matrix(y_test, y_pred)"
   ],
   "outputs": [
    {
     "data": {
      "text/plain": [
       "array([[21309,  9592],\n",
       "       [ 6329,  8830]])"
      ]
     },
     "execution_count": 32,
     "metadata": {},
     "output_type": "execute_result"
    }
   ],
   "execution_count": 32
  },
  {
   "cell_type": "code",
   "id": "45b2c60e-d01c-4bbe-a5ed-9538563e6ff5",
   "metadata": {
    "ExecuteTime": {
     "end_time": "2024-12-23T16:43:32.309299Z",
     "start_time": "2024-12-23T16:43:27.241273Z"
    }
   },
   "source": [
    "from imblearn.over_sampling import ADASYN\n",
    "\n",
    "adasyn = ADASYN(sampling_strategy='auto', random_state=42)\n",
    "X_train_resampled, y_train_resampled = adasyn.fit_resample(X_train, y_train)\n",
    "\n",
    "xgb_model = XGBClassifier(eval_metric='aucpr', random_state=42)\n",
    "# Step 3: Train the XGBoost classifier\n",
    "xgb_model.fit(X_train_resampled, y_train_resampled)\n",
    "\n",
    "# Step 4: Evaluate on the test set\n",
    "y_pred = xgb_model.predict(X_test)\n",
    "# Evaluate the model's performance\n",
    "accuracy = accuracy_score(y_test, y_pred)\n",
    "print(f\"Accuracy: {accuracy}\")\n",
    "\n",
    "# Display the classification report\n",
    "print(classification_report(y_test, y_pred))"
   ],
   "outputs": [
    {
     "name": "stdout",
     "output_type": "stream",
     "text": [
      "Accuracy: 0.6542770299609205\n",
      "              precision    recall  f1-score   support\n",
      "\n",
      "           0       0.77      0.69      0.73     30901\n",
      "           1       0.48      0.58      0.52     15159\n",
      "\n",
      "    accuracy                           0.65     46060\n",
      "   macro avg       0.62      0.64      0.63     46060\n",
      "weighted avg       0.67      0.65      0.66     46060\n",
      "\n"
     ]
    }
   ],
   "execution_count": 35
  }
 ],
 "metadata": {
  "kernelspec": {
   "display_name": "Python 3 (ipykernel)",
   "language": "python",
   "name": "python3"
  },
  "language_info": {
   "codemirror_mode": {
    "name": "ipython",
    "version": 3
   },
   "file_extension": ".py",
   "mimetype": "text/x-python",
   "name": "python",
   "nbconvert_exporter": "python",
   "pygments_lexer": "ipython3",
   "version": "3.12.4"
  }
 },
 "nbformat": 4,
 "nbformat_minor": 5
}
